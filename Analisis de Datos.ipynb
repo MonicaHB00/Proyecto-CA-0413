{
  "cells": [
    {
      "cell_type": "markdown",
      "metadata": {
        "nteract": {
          "transient": {
            "deleting": false
          }
        }
      },
      "source": [
        "# 0.  Inicializar"
      ]
    },
    {
      "cell_type": "code",
      "execution_count": 12,
      "metadata": {},
      "outputs": [
        {
          "name": "stdout",
          "output_type": "stream",
          "text": [
            "Requirement already satisfied: pandas in c:\\users\\moni1\\appdata\\local\\packages\\pythonsoftwarefoundation.python.3.11_qbz5n2kfra8p0\\localcache\\local-packages\\python311\\site-packages (2.2.3)\n",
            "Requirement already satisfied: numpy>=1.23.2 in c:\\users\\moni1\\appdata\\local\\packages\\pythonsoftwarefoundation.python.3.11_qbz5n2kfra8p0\\localcache\\local-packages\\python311\\site-packages (from pandas) (1.26.4)\n",
            "Requirement already satisfied: python-dateutil>=2.8.2 in c:\\users\\moni1\\appdata\\local\\packages\\pythonsoftwarefoundation.python.3.11_qbz5n2kfra8p0\\localcache\\local-packages\\python311\\site-packages (from pandas) (2.9.0.post0)\n",
            "Requirement already satisfied: pytz>=2020.1 in c:\\users\\moni1\\appdata\\local\\packages\\pythonsoftwarefoundation.python.3.11_qbz5n2kfra8p0\\localcache\\local-packages\\python311\\site-packages (from pandas) (2025.1)\n",
            "Requirement already satisfied: tzdata>=2022.7 in c:\\users\\moni1\\appdata\\local\\packages\\pythonsoftwarefoundation.python.3.11_qbz5n2kfra8p0\\localcache\\local-packages\\python311\\site-packages (from pandas) (2025.1)\n",
            "Requirement already satisfied: six>=1.5 in c:\\users\\moni1\\appdata\\local\\packages\\pythonsoftwarefoundation.python.3.11_qbz5n2kfra8p0\\localcache\\local-packages\\python311\\site-packages (from python-dateutil>=2.8.2->pandas) (1.17.0)\n",
            "Note: you may need to restart the kernel to use updated packages.\n"
          ]
        },
        {
          "name": "stderr",
          "output_type": "stream",
          "text": [
            "\n",
            "[notice] A new release of pip is available: 24.0 -> 25.1.1\n",
            "[notice] To update, run: C:\\Users\\moni1\\AppData\\Local\\Microsoft\\WindowsApps\\PythonSoftwareFoundation.Python.3.11_qbz5n2kfra8p0\\python.exe -m pip install --upgrade pip\n"
          ]
        },
        {
          "name": "stdout",
          "output_type": "stream",
          "text": [
            "Requirement already satisfied: matplotlib in c:\\users\\moni1\\appdata\\local\\packages\\pythonsoftwarefoundation.python.3.11_qbz5n2kfra8p0\\localcache\\local-packages\\python311\\site-packages (3.10.1)\n",
            "Requirement already satisfied: contourpy>=1.0.1 in c:\\users\\moni1\\appdata\\local\\packages\\pythonsoftwarefoundation.python.3.11_qbz5n2kfra8p0\\localcache\\local-packages\\python311\\site-packages (from matplotlib) (1.3.1)\n",
            "Requirement already satisfied: cycler>=0.10 in c:\\users\\moni1\\appdata\\local\\packages\\pythonsoftwarefoundation.python.3.11_qbz5n2kfra8p0\\localcache\\local-packages\\python311\\site-packages (from matplotlib) (0.12.1)\n",
            "Requirement already satisfied: fonttools>=4.22.0 in c:\\users\\moni1\\appdata\\local\\packages\\pythonsoftwarefoundation.python.3.11_qbz5n2kfra8p0\\localcache\\local-packages\\python311\\site-packages (from matplotlib) (4.56.0)\n",
            "Requirement already satisfied: kiwisolver>=1.3.1 in c:\\users\\moni1\\appdata\\local\\packages\\pythonsoftwarefoundation.python.3.11_qbz5n2kfra8p0\\localcache\\local-packages\\python311\\site-packages (from matplotlib) (1.4.8)\n",
            "Requirement already satisfied: numpy>=1.23 in c:\\users\\moni1\\appdata\\local\\packages\\pythonsoftwarefoundation.python.3.11_qbz5n2kfra8p0\\localcache\\local-packages\\python311\\site-packages (from matplotlib) (1.26.4)\n",
            "Requirement already satisfied: packaging>=20.0 in c:\\users\\moni1\\appdata\\local\\packages\\pythonsoftwarefoundation.python.3.11_qbz5n2kfra8p0\\localcache\\local-packages\\python311\\site-packages (from matplotlib) (24.2)\n",
            "Requirement already satisfied: pillow>=8 in c:\\users\\moni1\\appdata\\local\\packages\\pythonsoftwarefoundation.python.3.11_qbz5n2kfra8p0\\localcache\\local-packages\\python311\\site-packages (from matplotlib) (11.1.0)\n",
            "Requirement already satisfied: pyparsing>=2.3.1 in c:\\users\\moni1\\appdata\\local\\packages\\pythonsoftwarefoundation.python.3.11_qbz5n2kfra8p0\\localcache\\local-packages\\python311\\site-packages (from matplotlib) (3.2.1)\n",
            "Requirement already satisfied: python-dateutil>=2.7 in c:\\users\\moni1\\appdata\\local\\packages\\pythonsoftwarefoundation.python.3.11_qbz5n2kfra8p0\\localcache\\local-packages\\python311\\site-packages (from matplotlib) (2.9.0.post0)\n",
            "Requirement already satisfied: six>=1.5 in c:\\users\\moni1\\appdata\\local\\packages\\pythonsoftwarefoundation.python.3.11_qbz5n2kfra8p0\\localcache\\local-packages\\python311\\site-packages (from python-dateutil>=2.7->matplotlib) (1.17.0)\n",
            "Note: you may need to restart the kernel to use updated packages.\n"
          ]
        },
        {
          "name": "stderr",
          "output_type": "stream",
          "text": [
            "\n",
            "[notice] A new release of pip is available: 24.0 -> 25.1.1\n",
            "[notice] To update, run: C:\\Users\\moni1\\AppData\\Local\\Microsoft\\WindowsApps\\PythonSoftwareFoundation.Python.3.11_qbz5n2kfra8p0\\python.exe -m pip install --upgrade pip\n"
          ]
        },
        {
          "name": "stdout",
          "output_type": "stream",
          "text": [
            "Requirement already satisfied: seaborn in c:\\users\\moni1\\appdata\\local\\packages\\pythonsoftwarefoundation.python.3.11_qbz5n2kfra8p0\\localcache\\local-packages\\python311\\site-packages (0.13.2)\n",
            "Requirement already satisfied: numpy!=1.24.0,>=1.20 in c:\\users\\moni1\\appdata\\local\\packages\\pythonsoftwarefoundation.python.3.11_qbz5n2kfra8p0\\localcache\\local-packages\\python311\\site-packages (from seaborn) (1.26.4)\n",
            "Requirement already satisfied: pandas>=1.2 in c:\\users\\moni1\\appdata\\local\\packages\\pythonsoftwarefoundation.python.3.11_qbz5n2kfra8p0\\localcache\\local-packages\\python311\\site-packages (from seaborn) (2.2.3)\n",
            "Requirement already satisfied: matplotlib!=3.6.1,>=3.4 in c:\\users\\moni1\\appdata\\local\\packages\\pythonsoftwarefoundation.python.3.11_qbz5n2kfra8p0\\localcache\\local-packages\\python311\\site-packages (from seaborn) (3.10.1)\n",
            "Requirement already satisfied: contourpy>=1.0.1 in c:\\users\\moni1\\appdata\\local\\packages\\pythonsoftwarefoundation.python.3.11_qbz5n2kfra8p0\\localcache\\local-packages\\python311\\site-packages (from matplotlib!=3.6.1,>=3.4->seaborn) (1.3.1)\n",
            "Requirement already satisfied: cycler>=0.10 in c:\\users\\moni1\\appdata\\local\\packages\\pythonsoftwarefoundation.python.3.11_qbz5n2kfra8p0\\localcache\\local-packages\\python311\\site-packages (from matplotlib!=3.6.1,>=3.4->seaborn) (0.12.1)\n",
            "Requirement already satisfied: fonttools>=4.22.0 in c:\\users\\moni1\\appdata\\local\\packages\\pythonsoftwarefoundation.python.3.11_qbz5n2kfra8p0\\localcache\\local-packages\\python311\\site-packages (from matplotlib!=3.6.1,>=3.4->seaborn) (4.56.0)\n",
            "Requirement already satisfied: kiwisolver>=1.3.1 in c:\\users\\moni1\\appdata\\local\\packages\\pythonsoftwarefoundation.python.3.11_qbz5n2kfra8p0\\localcache\\local-packages\\python311\\site-packages (from matplotlib!=3.6.1,>=3.4->seaborn) (1.4.8)\n",
            "Requirement already satisfied: packaging>=20.0 in c:\\users\\moni1\\appdata\\local\\packages\\pythonsoftwarefoundation.python.3.11_qbz5n2kfra8p0\\localcache\\local-packages\\python311\\site-packages (from matplotlib!=3.6.1,>=3.4->seaborn) (24.2)\n",
            "Requirement already satisfied: pillow>=8 in c:\\users\\moni1\\appdata\\local\\packages\\pythonsoftwarefoundation.python.3.11_qbz5n2kfra8p0\\localcache\\local-packages\\python311\\site-packages (from matplotlib!=3.6.1,>=3.4->seaborn) (11.1.0)\n",
            "Requirement already satisfied: pyparsing>=2.3.1 in c:\\users\\moni1\\appdata\\local\\packages\\pythonsoftwarefoundation.python.3.11_qbz5n2kfra8p0\\localcache\\local-packages\\python311\\site-packages (from matplotlib!=3.6.1,>=3.4->seaborn) (3.2.1)\n",
            "Requirement already satisfied: python-dateutil>=2.7 in c:\\users\\moni1\\appdata\\local\\packages\\pythonsoftwarefoundation.python.3.11_qbz5n2kfra8p0\\localcache\\local-packages\\python311\\site-packages (from matplotlib!=3.6.1,>=3.4->seaborn) (2.9.0.post0)\n",
            "Requirement already satisfied: pytz>=2020.1 in c:\\users\\moni1\\appdata\\local\\packages\\pythonsoftwarefoundation.python.3.11_qbz5n2kfra8p0\\localcache\\local-packages\\python311\\site-packages (from pandas>=1.2->seaborn) (2025.1)\n",
            "Requirement already satisfied: tzdata>=2022.7 in c:\\users\\moni1\\appdata\\local\\packages\\pythonsoftwarefoundation.python.3.11_qbz5n2kfra8p0\\localcache\\local-packages\\python311\\site-packages (from pandas>=1.2->seaborn) (2025.1)\n",
            "Requirement already satisfied: six>=1.5 in c:\\users\\moni1\\appdata\\local\\packages\\pythonsoftwarefoundation.python.3.11_qbz5n2kfra8p0\\localcache\\local-packages\\python311\\site-packages (from python-dateutil>=2.7->matplotlib!=3.6.1,>=3.4->seaborn) (1.17.0)\n",
            "Note: you may need to restart the kernel to use updated packages.\n"
          ]
        },
        {
          "name": "stderr",
          "output_type": "stream",
          "text": [
            "\n",
            "[notice] A new release of pip is available: 24.0 -> 25.1.1\n",
            "[notice] To update, run: C:\\Users\\moni1\\AppData\\Local\\Microsoft\\WindowsApps\\PythonSoftwareFoundation.Python.3.11_qbz5n2kfra8p0\\python.exe -m pip install --upgrade pip\n"
          ]
        },
        {
          "name": "stdout",
          "output_type": "stream",
          "text": [
            "Requirement already satisfied: scipy in c:\\users\\moni1\\appdata\\local\\packages\\pythonsoftwarefoundation.python.3.11_qbz5n2kfra8p0\\localcache\\local-packages\\python311\\site-packages (1.11.4)\n",
            "Requirement already satisfied: numpy<1.28.0,>=1.21.6 in c:\\users\\moni1\\appdata\\local\\packages\\pythonsoftwarefoundation.python.3.11_qbz5n2kfra8p0\\localcache\\local-packages\\python311\\site-packages (from scipy) (1.26.4)\n",
            "Note: you may need to restart the kernel to use updated packages.\n"
          ]
        },
        {
          "name": "stderr",
          "output_type": "stream",
          "text": [
            "\n",
            "[notice] A new release of pip is available: 24.0 -> 25.1.1\n",
            "[notice] To update, run: C:\\Users\\moni1\\AppData\\Local\\Microsoft\\WindowsApps\\PythonSoftwareFoundation.Python.3.11_qbz5n2kfra8p0\\python.exe -m pip install --upgrade pip\n"
          ]
        },
        {
          "name": "stdout",
          "output_type": "stream",
          "text": [
            "Requirement already satisfied: scikit-learn in c:\\users\\moni1\\appdata\\local\\packages\\pythonsoftwarefoundation.python.3.11_qbz5n2kfra8p0\\localcache\\local-packages\\python311\\site-packages (1.6.1)\n",
            "Requirement already satisfied: numpy>=1.19.5 in c:\\users\\moni1\\appdata\\local\\packages\\pythonsoftwarefoundation.python.3.11_qbz5n2kfra8p0\\localcache\\local-packages\\python311\\site-packages (from scikit-learn) (1.26.4)\n",
            "Requirement already satisfied: scipy>=1.6.0 in c:\\users\\moni1\\appdata\\local\\packages\\pythonsoftwarefoundation.python.3.11_qbz5n2kfra8p0\\localcache\\local-packages\\python311\\site-packages (from scikit-learn) (1.11.4)\n",
            "Requirement already satisfied: joblib>=1.2.0 in c:\\users\\moni1\\appdata\\local\\packages\\pythonsoftwarefoundation.python.3.11_qbz5n2kfra8p0\\localcache\\local-packages\\python311\\site-packages (from scikit-learn) (1.4.2)\n",
            "Requirement already satisfied: threadpoolctl>=3.1.0 in c:\\users\\moni1\\appdata\\local\\packages\\pythonsoftwarefoundation.python.3.11_qbz5n2kfra8p0\\localcache\\local-packages\\python311\\site-packages (from scikit-learn) (3.5.0)\n",
            "Note: you may need to restart the kernel to use updated packages.\n"
          ]
        },
        {
          "name": "stderr",
          "output_type": "stream",
          "text": [
            "\n",
            "[notice] A new release of pip is available: 24.0 -> 25.1.1\n",
            "[notice] To update, run: C:\\Users\\moni1\\AppData\\Local\\Microsoft\\WindowsApps\\PythonSoftwareFoundation.Python.3.11_qbz5n2kfra8p0\\python.exe -m pip install --upgrade pip\n"
          ]
        },
        {
          "name": "stdout",
          "output_type": "stream",
          "text": [
            "Requirement already satisfied: xgboost in c:\\users\\moni1\\appdata\\local\\packages\\pythonsoftwarefoundation.python.3.11_qbz5n2kfra8p0\\localcache\\local-packages\\python311\\site-packages (2.1.4)\n",
            "Requirement already satisfied: numpy in c:\\users\\moni1\\appdata\\local\\packages\\pythonsoftwarefoundation.python.3.11_qbz5n2kfra8p0\\localcache\\local-packages\\python311\\site-packages (from xgboost) (1.26.4)\n",
            "Requirement already satisfied: scipy in c:\\users\\moni1\\appdata\\local\\packages\\pythonsoftwarefoundation.python.3.11_qbz5n2kfra8p0\\localcache\\local-packages\\python311\\site-packages (from xgboost) (1.11.4)\n",
            "Note: you may need to restart the kernel to use updated packages.\n"
          ]
        },
        {
          "name": "stderr",
          "output_type": "stream",
          "text": [
            "\n",
            "[notice] A new release of pip is available: 24.0 -> 25.1.1\n",
            "[notice] To update, run: C:\\Users\\moni1\\AppData\\Local\\Microsoft\\WindowsApps\\PythonSoftwareFoundation.Python.3.11_qbz5n2kfra8p0\\python.exe -m pip install --upgrade pip\n"
          ]
        },
        {
          "name": "stdout",
          "output_type": "stream",
          "text": [
            "Requirement already satisfied: shap in c:\\users\\moni1\\appdata\\local\\packages\\pythonsoftwarefoundation.python.3.11_qbz5n2kfra8p0\\localcache\\local-packages\\python311\\site-packages (0.47.0)\n",
            "Requirement already satisfied: numpy in c:\\users\\moni1\\appdata\\local\\packages\\pythonsoftwarefoundation.python.3.11_qbz5n2kfra8p0\\localcache\\local-packages\\python311\\site-packages (from shap) (1.26.4)\n",
            "Requirement already satisfied: scipy in c:\\users\\moni1\\appdata\\local\\packages\\pythonsoftwarefoundation.python.3.11_qbz5n2kfra8p0\\localcache\\local-packages\\python311\\site-packages (from shap) (1.11.4)\n",
            "Requirement already satisfied: scikit-learn in c:\\users\\moni1\\appdata\\local\\packages\\pythonsoftwarefoundation.python.3.11_qbz5n2kfra8p0\\localcache\\local-packages\\python311\\site-packages (from shap) (1.6.1)\n",
            "Requirement already satisfied: pandas in c:\\users\\moni1\\appdata\\local\\packages\\pythonsoftwarefoundation.python.3.11_qbz5n2kfra8p0\\localcache\\local-packages\\python311\\site-packages (from shap) (2.2.3)\n",
            "Requirement already satisfied: tqdm>=4.27.0 in c:\\users\\moni1\\appdata\\local\\packages\\pythonsoftwarefoundation.python.3.11_qbz5n2kfra8p0\\localcache\\local-packages\\python311\\site-packages (from shap) (4.67.1)\n",
            "Requirement already satisfied: packaging>20.9 in c:\\users\\moni1\\appdata\\local\\packages\\pythonsoftwarefoundation.python.3.11_qbz5n2kfra8p0\\localcache\\local-packages\\python311\\site-packages (from shap) (24.2)\n",
            "Requirement already satisfied: slicer==0.0.8 in c:\\users\\moni1\\appdata\\local\\packages\\pythonsoftwarefoundation.python.3.11_qbz5n2kfra8p0\\localcache\\local-packages\\python311\\site-packages (from shap) (0.0.8)\n",
            "Requirement already satisfied: numba>=0.54 in c:\\users\\moni1\\appdata\\local\\packages\\pythonsoftwarefoundation.python.3.11_qbz5n2kfra8p0\\localcache\\local-packages\\python311\\site-packages (from shap) (0.61.0)\n",
            "Requirement already satisfied: cloudpickle in c:\\users\\moni1\\appdata\\local\\packages\\pythonsoftwarefoundation.python.3.11_qbz5n2kfra8p0\\localcache\\local-packages\\python311\\site-packages (from shap) (3.1.1)\n",
            "Requirement already satisfied: typing-extensions in c:\\users\\moni1\\appdata\\local\\packages\\pythonsoftwarefoundation.python.3.11_qbz5n2kfra8p0\\localcache\\local-packages\\python311\\site-packages (from shap) (4.12.2)\n",
            "Requirement already satisfied: llvmlite<0.45,>=0.44.0dev0 in c:\\users\\moni1\\appdata\\local\\packages\\pythonsoftwarefoundation.python.3.11_qbz5n2kfra8p0\\localcache\\local-packages\\python311\\site-packages (from numba>=0.54->shap) (0.44.0)\n",
            "Requirement already satisfied: colorama in c:\\users\\moni1\\appdata\\local\\packages\\pythonsoftwarefoundation.python.3.11_qbz5n2kfra8p0\\localcache\\local-packages\\python311\\site-packages (from tqdm>=4.27.0->shap) (0.4.6)\n",
            "Requirement already satisfied: python-dateutil>=2.8.2 in c:\\users\\moni1\\appdata\\local\\packages\\pythonsoftwarefoundation.python.3.11_qbz5n2kfra8p0\\localcache\\local-packages\\python311\\site-packages (from pandas->shap) (2.9.0.post0)\n",
            "Requirement already satisfied: pytz>=2020.1 in c:\\users\\moni1\\appdata\\local\\packages\\pythonsoftwarefoundation.python.3.11_qbz5n2kfra8p0\\localcache\\local-packages\\python311\\site-packages (from pandas->shap) (2025.1)\n",
            "Requirement already satisfied: tzdata>=2022.7 in c:\\users\\moni1\\appdata\\local\\packages\\pythonsoftwarefoundation.python.3.11_qbz5n2kfra8p0\\localcache\\local-packages\\python311\\site-packages (from pandas->shap) (2025.1)\n",
            "Requirement already satisfied: joblib>=1.2.0 in c:\\users\\moni1\\appdata\\local\\packages\\pythonsoftwarefoundation.python.3.11_qbz5n2kfra8p0\\localcache\\local-packages\\python311\\site-packages (from scikit-learn->shap) (1.4.2)\n",
            "Requirement already satisfied: threadpoolctl>=3.1.0 in c:\\users\\moni1\\appdata\\local\\packages\\pythonsoftwarefoundation.python.3.11_qbz5n2kfra8p0\\localcache\\local-packages\\python311\\site-packages (from scikit-learn->shap) (3.5.0)\n",
            "Requirement already satisfied: six>=1.5 in c:\\users\\moni1\\appdata\\local\\packages\\pythonsoftwarefoundation.python.3.11_qbz5n2kfra8p0\\localcache\\local-packages\\python311\\site-packages (from python-dateutil>=2.8.2->pandas->shap) (1.17.0)\n",
            "Note: you may need to restart the kernel to use updated packages.\n"
          ]
        },
        {
          "name": "stderr",
          "output_type": "stream",
          "text": [
            "\n",
            "[notice] A new release of pip is available: 24.0 -> 25.1.1\n",
            "[notice] To update, run: C:\\Users\\moni1\\AppData\\Local\\Microsoft\\WindowsApps\\PythonSoftwareFoundation.Python.3.11_qbz5n2kfra8p0\\python.exe -m pip install --upgrade pip\n"
          ]
        },
        {
          "name": "stdout",
          "output_type": "stream",
          "text": [
            "Requirement already satisfied: lime in c:\\users\\moni1\\appdata\\local\\packages\\pythonsoftwarefoundation.python.3.11_qbz5n2kfra8p0\\localcache\\local-packages\\python311\\site-packages (0.2.0.1)\n",
            "Requirement already satisfied: matplotlib in c:\\users\\moni1\\appdata\\local\\packages\\pythonsoftwarefoundation.python.3.11_qbz5n2kfra8p0\\localcache\\local-packages\\python311\\site-packages (from lime) (3.10.1)\n",
            "Requirement already satisfied: numpy in c:\\users\\moni1\\appdata\\local\\packages\\pythonsoftwarefoundation.python.3.11_qbz5n2kfra8p0\\localcache\\local-packages\\python311\\site-packages (from lime) (1.26.4)\n",
            "Requirement already satisfied: scipy in c:\\users\\moni1\\appdata\\local\\packages\\pythonsoftwarefoundation.python.3.11_qbz5n2kfra8p0\\localcache\\local-packages\\python311\\site-packages (from lime) (1.11.4)\n",
            "Requirement already satisfied: tqdm in c:\\users\\moni1\\appdata\\local\\packages\\pythonsoftwarefoundation.python.3.11_qbz5n2kfra8p0\\localcache\\local-packages\\python311\\site-packages (from lime) (4.67.1)\n",
            "Requirement already satisfied: scikit-learn>=0.18 in c:\\users\\moni1\\appdata\\local\\packages\\pythonsoftwarefoundation.python.3.11_qbz5n2kfra8p0\\localcache\\local-packages\\python311\\site-packages (from lime) (1.6.1)\n",
            "Requirement already satisfied: scikit-image>=0.12 in c:\\users\\moni1\\appdata\\local\\packages\\pythonsoftwarefoundation.python.3.11_qbz5n2kfra8p0\\localcache\\local-packages\\python311\\site-packages (from lime) (0.25.2)\n",
            "Requirement already satisfied: networkx>=3.0 in c:\\users\\moni1\\appdata\\local\\packages\\pythonsoftwarefoundation.python.3.11_qbz5n2kfra8p0\\localcache\\local-packages\\python311\\site-packages (from scikit-image>=0.12->lime) (3.4.2)\n",
            "Requirement already satisfied: pillow>=10.1 in c:\\users\\moni1\\appdata\\local\\packages\\pythonsoftwarefoundation.python.3.11_qbz5n2kfra8p0\\localcache\\local-packages\\python311\\site-packages (from scikit-image>=0.12->lime) (11.1.0)\n",
            "Requirement already satisfied: imageio!=2.35.0,>=2.33 in c:\\users\\moni1\\appdata\\local\\packages\\pythonsoftwarefoundation.python.3.11_qbz5n2kfra8p0\\localcache\\local-packages\\python311\\site-packages (from scikit-image>=0.12->lime) (2.37.0)\n",
            "Requirement already satisfied: tifffile>=2022.8.12 in c:\\users\\moni1\\appdata\\local\\packages\\pythonsoftwarefoundation.python.3.11_qbz5n2kfra8p0\\localcache\\local-packages\\python311\\site-packages (from scikit-image>=0.12->lime) (2025.2.18)\n",
            "Requirement already satisfied: packaging>=21 in c:\\users\\moni1\\appdata\\local\\packages\\pythonsoftwarefoundation.python.3.11_qbz5n2kfra8p0\\localcache\\local-packages\\python311\\site-packages (from scikit-image>=0.12->lime) (24.2)\n",
            "Requirement already satisfied: lazy-loader>=0.4 in c:\\users\\moni1\\appdata\\local\\packages\\pythonsoftwarefoundation.python.3.11_qbz5n2kfra8p0\\localcache\\local-packages\\python311\\site-packages (from scikit-image>=0.12->lime) (0.4)\n",
            "Requirement already satisfied: joblib>=1.2.0 in c:\\users\\moni1\\appdata\\local\\packages\\pythonsoftwarefoundation.python.3.11_qbz5n2kfra8p0\\localcache\\local-packages\\python311\\site-packages (from scikit-learn>=0.18->lime) (1.4.2)\n",
            "Requirement already satisfied: threadpoolctl>=3.1.0 in c:\\users\\moni1\\appdata\\local\\packages\\pythonsoftwarefoundation.python.3.11_qbz5n2kfra8p0\\localcache\\local-packages\\python311\\site-packages (from scikit-learn>=0.18->lime) (3.5.0)\n",
            "Requirement already satisfied: contourpy>=1.0.1 in c:\\users\\moni1\\appdata\\local\\packages\\pythonsoftwarefoundation.python.3.11_qbz5n2kfra8p0\\localcache\\local-packages\\python311\\site-packages (from matplotlib->lime) (1.3.1)\n",
            "Requirement already satisfied: cycler>=0.10 in c:\\users\\moni1\\appdata\\local\\packages\\pythonsoftwarefoundation.python.3.11_qbz5n2kfra8p0\\localcache\\local-packages\\python311\\site-packages (from matplotlib->lime) (0.12.1)\n",
            "Requirement already satisfied: fonttools>=4.22.0 in c:\\users\\moni1\\appdata\\local\\packages\\pythonsoftwarefoundation.python.3.11_qbz5n2kfra8p0\\localcache\\local-packages\\python311\\site-packages (from matplotlib->lime) (4.56.0)\n",
            "Requirement already satisfied: kiwisolver>=1.3.1 in c:\\users\\moni1\\appdata\\local\\packages\\pythonsoftwarefoundation.python.3.11_qbz5n2kfra8p0\\localcache\\local-packages\\python311\\site-packages (from matplotlib->lime) (1.4.8)\n",
            "Requirement already satisfied: pyparsing>=2.3.1 in c:\\users\\moni1\\appdata\\local\\packages\\pythonsoftwarefoundation.python.3.11_qbz5n2kfra8p0\\localcache\\local-packages\\python311\\site-packages (from matplotlib->lime) (3.2.1)\n",
            "Requirement already satisfied: python-dateutil>=2.7 in c:\\users\\moni1\\appdata\\local\\packages\\pythonsoftwarefoundation.python.3.11_qbz5n2kfra8p0\\localcache\\local-packages\\python311\\site-packages (from matplotlib->lime) (2.9.0.post0)\n",
            "Requirement already satisfied: colorama in c:\\users\\moni1\\appdata\\local\\packages\\pythonsoftwarefoundation.python.3.11_qbz5n2kfra8p0\\localcache\\local-packages\\python311\\site-packages (from tqdm->lime) (0.4.6)\n",
            "Requirement already satisfied: six>=1.5 in c:\\users\\moni1\\appdata\\local\\packages\\pythonsoftwarefoundation.python.3.11_qbz5n2kfra8p0\\localcache\\local-packages\\python311\\site-packages (from python-dateutil>=2.7->matplotlib->lime) (1.17.0)\n",
            "Note: you may need to restart the kernel to use updated packages.\n"
          ]
        },
        {
          "name": "stderr",
          "output_type": "stream",
          "text": [
            "\n",
            "[notice] A new release of pip is available: 24.0 -> 25.1.1\n",
            "[notice] To update, run: C:\\Users\\moni1\\AppData\\Local\\Microsoft\\WindowsApps\\PythonSoftwareFoundation.Python.3.11_qbz5n2kfra8p0\\python.exe -m pip install --upgrade pip\n"
          ]
        },
        {
          "name": "stdout",
          "output_type": "stream",
          "text": [
            "Requirement already satisfied: dalex in c:\\users\\moni1\\appdata\\local\\packages\\pythonsoftwarefoundation.python.3.11_qbz5n2kfra8p0\\localcache\\local-packages\\python311\\site-packages (1.7.2)\n",
            "Requirement already satisfied: setuptools in c:\\program files\\windowsapps\\pythonsoftwarefoundation.python.3.11_3.11.2544.0_x64__qbz5n2kfra8p0\\lib\\site-packages (from dalex) (65.5.0)\n",
            "Requirement already satisfied: pandas>=1.5.3 in c:\\users\\moni1\\appdata\\local\\packages\\pythonsoftwarefoundation.python.3.11_qbz5n2kfra8p0\\localcache\\local-packages\\python311\\site-packages (from dalex) (2.2.3)\n",
            "Requirement already satisfied: numpy>=1.23.3 in c:\\users\\moni1\\appdata\\local\\packages\\pythonsoftwarefoundation.python.3.11_qbz5n2kfra8p0\\localcache\\local-packages\\python311\\site-packages (from dalex) (1.26.4)\n",
            "Requirement already satisfied: scipy>=1.6.3 in c:\\users\\moni1\\appdata\\local\\packages\\pythonsoftwarefoundation.python.3.11_qbz5n2kfra8p0\\localcache\\local-packages\\python311\\site-packages (from dalex) (1.11.4)\n",
            "Requirement already satisfied: plotly<6.0.0,>=5.1.0 in c:\\users\\moni1\\appdata\\local\\packages\\pythonsoftwarefoundation.python.3.11_qbz5n2kfra8p0\\localcache\\local-packages\\python311\\site-packages (from dalex) (5.24.1)\n",
            "Requirement already satisfied: tqdm>=4.61.2 in c:\\users\\moni1\\appdata\\local\\packages\\pythonsoftwarefoundation.python.3.11_qbz5n2kfra8p0\\localcache\\local-packages\\python311\\site-packages (from dalex) (4.67.1)\n",
            "Requirement already satisfied: python-dateutil>=2.8.2 in c:\\users\\moni1\\appdata\\local\\packages\\pythonsoftwarefoundation.python.3.11_qbz5n2kfra8p0\\localcache\\local-packages\\python311\\site-packages (from pandas>=1.5.3->dalex) (2.9.0.post0)\n",
            "Requirement already satisfied: pytz>=2020.1 in c:\\users\\moni1\\appdata\\local\\packages\\pythonsoftwarefoundation.python.3.11_qbz5n2kfra8p0\\localcache\\local-packages\\python311\\site-packages (from pandas>=1.5.3->dalex) (2025.1)\n",
            "Requirement already satisfied: tzdata>=2022.7 in c:\\users\\moni1\\appdata\\local\\packages\\pythonsoftwarefoundation.python.3.11_qbz5n2kfra8p0\\localcache\\local-packages\\python311\\site-packages (from pandas>=1.5.3->dalex) (2025.1)\n",
            "Requirement already satisfied: tenacity>=6.2.0 in c:\\users\\moni1\\appdata\\local\\packages\\pythonsoftwarefoundation.python.3.11_qbz5n2kfra8p0\\localcache\\local-packages\\python311\\site-packages (from plotly<6.0.0,>=5.1.0->dalex) (9.0.0)\n",
            "Requirement already satisfied: packaging in c:\\users\\moni1\\appdata\\local\\packages\\pythonsoftwarefoundation.python.3.11_qbz5n2kfra8p0\\localcache\\local-packages\\python311\\site-packages (from plotly<6.0.0,>=5.1.0->dalex) (24.2)\n",
            "Requirement already satisfied: colorama in c:\\users\\moni1\\appdata\\local\\packages\\pythonsoftwarefoundation.python.3.11_qbz5n2kfra8p0\\localcache\\local-packages\\python311\\site-packages (from tqdm>=4.61.2->dalex) (0.4.6)\n",
            "Requirement already satisfied: six>=1.5 in c:\\users\\moni1\\appdata\\local\\packages\\pythonsoftwarefoundation.python.3.11_qbz5n2kfra8p0\\localcache\\local-packages\\python311\\site-packages (from python-dateutil>=2.8.2->pandas>=1.5.3->dalex) (1.17.0)\n",
            "Note: you may need to restart the kernel to use updated packages.\n"
          ]
        },
        {
          "name": "stderr",
          "output_type": "stream",
          "text": [
            "\n",
            "[notice] A new release of pip is available: 24.0 -> 25.1.1\n",
            "[notice] To update, run: C:\\Users\\moni1\\AppData\\Local\\Microsoft\\WindowsApps\\PythonSoftwareFoundation.Python.3.11_qbz5n2kfra8p0\\python.exe -m pip install --upgrade pip\n"
          ]
        },
        {
          "name": "stdout",
          "output_type": "stream",
          "text": [
            "Requirement already satisfied: nbformat in c:\\users\\moni1\\appdata\\local\\packages\\pythonsoftwarefoundation.python.3.11_qbz5n2kfra8p0\\localcache\\local-packages\\python311\\site-packages (5.10.4)\n",
            "Requirement already satisfied: fastjsonschema>=2.15 in c:\\users\\moni1\\appdata\\local\\packages\\pythonsoftwarefoundation.python.3.11_qbz5n2kfra8p0\\localcache\\local-packages\\python311\\site-packages (from nbformat) (2.21.1)\n",
            "Requirement already satisfied: jsonschema>=2.6 in c:\\users\\moni1\\appdata\\local\\packages\\pythonsoftwarefoundation.python.3.11_qbz5n2kfra8p0\\localcache\\local-packages\\python311\\site-packages (from nbformat) (4.23.0)\n",
            "Requirement already satisfied: jupyter-core!=5.0.*,>=4.12 in c:\\users\\moni1\\appdata\\local\\packages\\pythonsoftwarefoundation.python.3.11_qbz5n2kfra8p0\\localcache\\local-packages\\python311\\site-packages (from nbformat) (5.7.2)\n",
            "Requirement already satisfied: traitlets>=5.1 in c:\\users\\moni1\\appdata\\local\\packages\\pythonsoftwarefoundation.python.3.11_qbz5n2kfra8p0\\localcache\\local-packages\\python311\\site-packages (from nbformat) (5.14.3)\n",
            "Requirement already satisfied: attrs>=22.2.0 in c:\\users\\moni1\\appdata\\local\\packages\\pythonsoftwarefoundation.python.3.11_qbz5n2kfra8p0\\localcache\\local-packages\\python311\\site-packages (from jsonschema>=2.6->nbformat) (25.1.0)\n",
            "Requirement already satisfied: jsonschema-specifications>=2023.03.6 in c:\\users\\moni1\\appdata\\local\\packages\\pythonsoftwarefoundation.python.3.11_qbz5n2kfra8p0\\localcache\\local-packages\\python311\\site-packages (from jsonschema>=2.6->nbformat) (2024.10.1)\n",
            "Requirement already satisfied: referencing>=0.28.4 in c:\\users\\moni1\\appdata\\local\\packages\\pythonsoftwarefoundation.python.3.11_qbz5n2kfra8p0\\localcache\\local-packages\\python311\\site-packages (from jsonschema>=2.6->nbformat) (0.36.2)\n",
            "Requirement already satisfied: rpds-py>=0.7.1 in c:\\users\\moni1\\appdata\\local\\packages\\pythonsoftwarefoundation.python.3.11_qbz5n2kfra8p0\\localcache\\local-packages\\python311\\site-packages (from jsonschema>=2.6->nbformat) (0.23.1)\n",
            "Requirement already satisfied: platformdirs>=2.5 in c:\\users\\moni1\\appdata\\local\\packages\\pythonsoftwarefoundation.python.3.11_qbz5n2kfra8p0\\localcache\\local-packages\\python311\\site-packages (from jupyter-core!=5.0.*,>=4.12->nbformat) (4.3.6)\n",
            "Requirement already satisfied: pywin32>=300 in c:\\users\\moni1\\appdata\\local\\packages\\pythonsoftwarefoundation.python.3.11_qbz5n2kfra8p0\\localcache\\local-packages\\python311\\site-packages (from jupyter-core!=5.0.*,>=4.12->nbformat) (308)\n",
            "Requirement already satisfied: typing-extensions>=4.4.0 in c:\\users\\moni1\\appdata\\local\\packages\\pythonsoftwarefoundation.python.3.11_qbz5n2kfra8p0\\localcache\\local-packages\\python311\\site-packages (from referencing>=0.28.4->jsonschema>=2.6->nbformat) (4.12.2)\n",
            "Note: you may need to restart the kernel to use updated packages.\n"
          ]
        },
        {
          "name": "stderr",
          "output_type": "stream",
          "text": [
            "\n",
            "[notice] A new release of pip is available: 24.0 -> 25.1.1\n",
            "[notice] To update, run: C:\\Users\\moni1\\AppData\\Local\\Microsoft\\WindowsApps\\PythonSoftwareFoundation.Python.3.11_qbz5n2kfra8p0\\python.exe -m pip install --upgrade pip\n"
          ]
        }
      ],
      "source": [
        "# Se instala Pyspark,Pandas y findspark\n",
        "%pip install pandas\n",
        "%pip install matplotlib\n",
        "%pip install seaborn\n",
        "%pip install scipy\n",
        "%pip install scikit-learn\n",
        "%pip install xgboost\n",
        "%pip install shap \n",
        "%pip install lime \n",
        "%pip install dalex\n",
        "%pip install nbformat --upgrade\n"
      ]
    },
    {
      "cell_type": "code",
      "execution_count": 13,
      "metadata": {},
      "outputs": [],
      "source": [
        "import pandas as pd\n",
        "import numpy as np\n",
        "import seaborn as sns\n",
        "import matplotlib.pyplot as plt\n",
        "from itertools import product\n",
        "\n",
        "from sklearn.model_selection import train_test_split\n",
        "from sklearn.preprocessing import StandardScaler\n",
        "from sklearn.metrics import mean_absolute_error, mean_squared_error, r2_score\n",
        "\n",
        "from sklearn.linear_model import LinearRegression\n",
        "from sklearn.ensemble import RandomForestRegressor\n",
        "from sklearn.neural_network import MLPRegressor\n",
        "from sklearn.svm import SVR\n",
        "\n",
        "from xgboost import XGBRegressor\n",
        "\n",
        "from scipy.stats import skew, kurtosis\n",
        "\n",
        "import lime\n",
        "import lime.lime_tabular\n"
      ]
    },
    {
      "cell_type": "code",
      "execution_count": 14,
      "metadata": {},
      "outputs": [
        {
          "name": "stdout",
          "output_type": "stream",
          "text": [
            "           exposure  clm  numclaims  claimcst0 veh_body  veh_age gender area  \\\n",
            "veh_value                                                                      \n",
            "1.06       0.303901    0          0        0.0    HBACK        3      F    C   \n",
            "1.03       0.648871    0          0        0.0    HBACK        2      F    A   \n",
            "3.26       0.569473    0          0        0.0      UTE        2      F    E   \n",
            "4.14       0.317591    0          0        0.0    STNWG        2      F    D   \n",
            "0.72       0.648871    0          0        0.0    HBACK        4      F    C   \n",
            "\n",
            "           agecat              _OBSTAT_  \n",
            "veh_value                                \n",
            "1.06            2  01101    0    0    0  \n",
            "1.03            4  01101    0    0    0  \n",
            "3.26            2  01101    0    0    0  \n",
            "4.14            2  01101    0    0    0  \n",
            "0.72            2  01101    0    0    0  \n"
          ]
        }
      ],
      "source": [
        "# Cargar datos eliminando la columna indeseada (_c0)\n",
        "df = pd.read_csv(\"car.csv\", delimiter=\",\", index_col=0)\n",
        "\n",
        "# Mostrar las primeras filas\n",
        "print(df.head())\n"
      ]
    },
    {
      "cell_type": "markdown",
      "metadata": {
        "nteract": {
          "transient": {
            "deleting": false
          }
        }
      },
      "source": [
        "## I. Control de Calidad"
      ]
    },
    {
      "cell_type": "code",
      "execution_count": 15,
      "metadata": {
        "collapsed": false,
        "jupyter": {
          "outputs_hidden": false,
          "source_hidden": false
        },
        "nteract": {
          "transient": {
            "deleting": false
          }
        }
      },
      "outputs": [
        {
          "name": "stdout",
          "output_type": "stream",
          "text": [
            "<class 'pandas.core.frame.DataFrame'>\n",
            "Index: 67856 entries, 1.06 to 1.02\n",
            "Data columns (total 10 columns):\n",
            " #   Column     Non-Null Count  Dtype  \n",
            "---  ------     --------------  -----  \n",
            " 0   exposure   67856 non-null  float64\n",
            " 1   clm        67856 non-null  int64  \n",
            " 2   numclaims  67856 non-null  int64  \n",
            " 3   claimcst0  67856 non-null  float64\n",
            " 4   veh_body   67856 non-null  object \n",
            " 5   veh_age    67856 non-null  int64  \n",
            " 6   gender     67856 non-null  object \n",
            " 7   area       67856 non-null  object \n",
            " 8   agecat     67856 non-null  int64  \n",
            " 9   _OBSTAT_   67856 non-null  object \n",
            "dtypes: float64(2), int64(4), object(4)\n",
            "memory usage: 5.7+ MB\n"
          ]
        }
      ],
      "source": [
        "df.info()"
      ]
    },
    {
      "cell_type": "markdown",
      "metadata": {
        "nteract": {
          "transient": {
            "deleting": false
          }
        }
      },
      "source": [
        "## II. Eda"
      ]
    },
    {
      "cell_type": "code",
      "execution_count": 16,
      "metadata": {
        "jupyter": {
          "outputs_hidden": false,
          "source_hidden": true
        },
        "nteract": {
          "transient": {
            "deleting": false
          }
        }
      },
      "outputs": [],
      "source": [
        "def generar_eda_completo(df, sample_fraction=0.2, corr_threshold=0.5, top_categories=10):\n",
        "    \"\"\"\n",
        "    Realiza un Análisis Exploratorio de Datos (EDA) completo en un DataFrame de pandas.\n",
        "    \n",
        "    Parámetros:\n",
        "        df (DataFrame): DataFrame de pandas a analizar.\n",
        "        sample_fraction (float): Fracción de muestreo para cálculos costosos (0-1).\n",
        "        corr_threshold (float): Umbral para destacar correlaciones significativas.\n",
        "        top_categories (int): Número máximo de categorías a mostrar para variables categóricas.\n",
        "    \n",
        "    Retorna:\n",
        "        dict: Diccionario con DataFrames y métricas de análisis.\n",
        "    \"\"\"\n",
        "    eda_results = {}\n",
        "    \n",
        "    # 1. Información básica del DataFrame\n",
        "    info_data = {\n",
        "        \"Número de Filas\": df.shape[0],\n",
        "        \"Número de Columnas\": df.shape[1],\n",
        "        \"Columnas Numéricas\": list(df.select_dtypes(include=[np.number]).columns),\n",
        "        \"Columnas Categóricas\": list(df.select_dtypes(include=[\"object\", \"category\"]).columns)\n",
        "    }\n",
        "    eda_results[\"basic_info\"] = pd.DataFrame(list(info_data.items()), columns=[\"Métrica\", \"Valor\"])\n",
        "    \n",
        "    # 2. Estadísticas descriptivas para variables numéricas\n",
        "    numeric_cols = df.select_dtypes(include=[np.number]).columns\n",
        "    if len(numeric_cols) > 0:\n",
        "        df[numeric_cols] = df[numeric_cols].fillna(df[numeric_cols].mean())\n",
        "        stats = df[numeric_cols].describe().T\n",
        "        stats = stats.rename(columns={\n",
        "            \"mean\": \"Media\",\n",
        "            \"std\": \"Desv. Estándar\",\n",
        "            \"min\": \"Mínimo\",\n",
        "            \"25%\": \"Q1\",\n",
        "            \"50%\": \"Mediana\",\n",
        "            \"75%\": \"Q3\",\n",
        "            \"max\": \"Máximo\"\n",
        "        })\n",
        "        eda_results[\"numeric_stats\"] = stats.reset_index().rename(columns={\"index\": \"Columna\"})\n",
        "    \n",
        "    # 3. Análisis de correlación\n",
        "    if len(numeric_cols) > 0:\n",
        "        corr_matrix = df[numeric_cols].corr()\n",
        "        correlations = corr_matrix.abs().unstack().reset_index()\n",
        "        correlations.columns = [\"Columna 1\", \"Columna 2\", \"Correlación\"]\n",
        "        correlations = correlations[correlations[\"Columna 1\"] != correlations[\"Columna 2\"]]\n",
        "        correlations = correlations[correlations[\"Correlación\"] > corr_threshold].sort_values(by=\"Correlación\", ascending=False)\n",
        "        eda_results[\"correlations\"] = correlations\n",
        "    \n",
        "    # 4. Análisis de variables categóricas\n",
        "    categorical_cols = df.select_dtypes(include=[\"object\", \"category\"]).columns\n",
        "    if len(categorical_cols) > 0:\n",
        "        cat_stats = []\n",
        "        for col in categorical_cols:\n",
        "            value_counts = df[col].value_counts().head(top_categories).to_dict()\n",
        "            cat_stats.append({\"Columna\": col, \"Valores Únicos\": df[col].nunique(), \"Top Categorías\": value_counts})\n",
        "        eda_results[\"categorical_stats\"] = pd.DataFrame(cat_stats)\n",
        "    \n",
        "    # 5. Análisis de valores faltantes\n",
        "    missing_values = df.isnull().sum().reset_index()\n",
        "    missing_values.columns = [\"Columna\", \"Valores Faltantes\"]\n",
        "    missing_values[\"Porcentaje Faltante\"] = (missing_values[\"Valores Faltantes\"] / df.shape[0]) * 100\n",
        "    eda_results[\"missing_values\"] = missing_values.sort_values(by=\"Valores Faltantes\", ascending=False)\n",
        "    \n",
        "    # 6. Muestra de datos\n",
        "    eda_results[\"sample_data\"] = df.sample(min(5, len(df)))\n",
        "    \n",
        "    # 7. Distribución de datos\n",
        "    if len(numeric_cols) > 0:\n",
        "        sampled_df = df.sample(frac=sample_fraction)\n",
        "        dist_data = []\n",
        "        for col in numeric_cols:\n",
        "            sampled_col = sampled_df[col].dropna()\n",
        "            dist_data.append({\n",
        "                \"Columna\": col,\n",
        "                \"Asimetría\": sampled_col.skew(),\n",
        "                \"Curtosis\": sampled_col.kurtosis(),\n",
        "                \"Distribución\": sampled_col.describe().to_dict()\n",
        "            })\n",
        "        eda_results[\"distributions\"] = pd.DataFrame(dist_data)\n",
        "    \n",
        "    return eda_results\n"
      ]
    },
    {
      "cell_type": "code",
      "execution_count": 17,
      "metadata": {
        "jupyter": {
          "outputs_hidden": false,
          "source_hidden": false
        },
        "nteract": {
          "transient": {
            "deleting": false
          }
        }
      },
      "outputs": [],
      "source": [
        "eda = generar_eda_completo(df)"
      ]
    },
    {
      "cell_type": "markdown",
      "metadata": {
        "nteract": {
          "transient": {
            "deleting": false
          }
        }
      },
      "source": [
        "### i. Info Basica"
      ]
    },
    {
      "cell_type": "code",
      "execution_count": 18,
      "metadata": {
        "jupyter": {
          "outputs_hidden": false,
          "source_hidden": false
        },
        "nteract": {
          "transient": {
            "deleting": false
          }
        }
      },
      "outputs": [
        {
          "data": {
            "text/html": [
              "<div>\n",
              "<style scoped>\n",
              "    .dataframe tbody tr th:only-of-type {\n",
              "        vertical-align: middle;\n",
              "    }\n",
              "\n",
              "    .dataframe tbody tr th {\n",
              "        vertical-align: top;\n",
              "    }\n",
              "\n",
              "    .dataframe thead th {\n",
              "        text-align: right;\n",
              "    }\n",
              "</style>\n",
              "<table border=\"1\" class=\"dataframe\">\n",
              "  <thead>\n",
              "    <tr style=\"text-align: right;\">\n",
              "      <th></th>\n",
              "      <th>Métrica</th>\n",
              "      <th>Valor</th>\n",
              "    </tr>\n",
              "  </thead>\n",
              "  <tbody>\n",
              "    <tr>\n",
              "      <th>0</th>\n",
              "      <td>Número de Filas</td>\n",
              "      <td>67856</td>\n",
              "    </tr>\n",
              "    <tr>\n",
              "      <th>1</th>\n",
              "      <td>Número de Columnas</td>\n",
              "      <td>10</td>\n",
              "    </tr>\n",
              "    <tr>\n",
              "      <th>2</th>\n",
              "      <td>Columnas Numéricas</td>\n",
              "      <td>[exposure, clm, numclaims, claimcst0, veh_age,...</td>\n",
              "    </tr>\n",
              "    <tr>\n",
              "      <th>3</th>\n",
              "      <td>Columnas Categóricas</td>\n",
              "      <td>[veh_body, gender, area, _OBSTAT_]</td>\n",
              "    </tr>\n",
              "  </tbody>\n",
              "</table>\n",
              "</div>"
            ],
            "text/plain": [
              "                Métrica                                              Valor\n",
              "0       Número de Filas                                              67856\n",
              "1    Número de Columnas                                                 10\n",
              "2    Columnas Numéricas  [exposure, clm, numclaims, claimcst0, veh_age,...\n",
              "3  Columnas Categóricas                 [veh_body, gender, area, _OBSTAT_]"
            ]
          },
          "execution_count": 18,
          "metadata": {},
          "output_type": "execute_result"
        }
      ],
      "source": [
        "eda[\"basic_info\"].head()"
      ]
    },
    {
      "cell_type": "markdown",
      "metadata": {
        "nteract": {
          "transient": {
            "deleting": false
          }
        }
      },
      "source": [
        "### ii. Estadisticos Numericos"
      ]
    },
    {
      "cell_type": "code",
      "execution_count": 19,
      "metadata": {
        "jupyter": {
          "outputs_hidden": false,
          "source_hidden": false
        },
        "nteract": {
          "transient": {
            "deleting": false
          }
        }
      },
      "outputs": [
        {
          "data": {
            "text/html": [
              "<div>\n",
              "<style scoped>\n",
              "    .dataframe tbody tr th:only-of-type {\n",
              "        vertical-align: middle;\n",
              "    }\n",
              "\n",
              "    .dataframe tbody tr th {\n",
              "        vertical-align: top;\n",
              "    }\n",
              "\n",
              "    .dataframe thead th {\n",
              "        text-align: right;\n",
              "    }\n",
              "</style>\n",
              "<table border=\"1\" class=\"dataframe\">\n",
              "  <thead>\n",
              "    <tr style=\"text-align: right;\">\n",
              "      <th></th>\n",
              "      <th>Columna</th>\n",
              "      <th>count</th>\n",
              "      <th>Media</th>\n",
              "      <th>Desv. Estándar</th>\n",
              "      <th>Mínimo</th>\n",
              "      <th>Q1</th>\n",
              "      <th>Mediana</th>\n",
              "      <th>Q3</th>\n",
              "      <th>Máximo</th>\n",
              "    </tr>\n",
              "  </thead>\n",
              "  <tbody>\n",
              "    <tr>\n",
              "      <th>0</th>\n",
              "      <td>exposure</td>\n",
              "      <td>67856.0</td>\n",
              "      <td>0.468652</td>\n",
              "      <td>0.290025</td>\n",
              "      <td>0.002738</td>\n",
              "      <td>0.219028</td>\n",
              "      <td>0.44627</td>\n",
              "      <td>0.709103</td>\n",
              "      <td>0.999316</td>\n",
              "    </tr>\n",
              "    <tr>\n",
              "      <th>1</th>\n",
              "      <td>clm</td>\n",
              "      <td>67856.0</td>\n",
              "      <td>0.068144</td>\n",
              "      <td>0.251995</td>\n",
              "      <td>0.000000</td>\n",
              "      <td>0.000000</td>\n",
              "      <td>0.00000</td>\n",
              "      <td>0.000000</td>\n",
              "      <td>1.000000</td>\n",
              "    </tr>\n",
              "    <tr>\n",
              "      <th>2</th>\n",
              "      <td>numclaims</td>\n",
              "      <td>67856.0</td>\n",
              "      <td>0.072757</td>\n",
              "      <td>0.278204</td>\n",
              "      <td>0.000000</td>\n",
              "      <td>0.000000</td>\n",
              "      <td>0.00000</td>\n",
              "      <td>0.000000</td>\n",
              "      <td>4.000000</td>\n",
              "    </tr>\n",
              "    <tr>\n",
              "      <th>3</th>\n",
              "      <td>claimcst0</td>\n",
              "      <td>67856.0</td>\n",
              "      <td>137.270167</td>\n",
              "      <td>1056.297768</td>\n",
              "      <td>0.000000</td>\n",
              "      <td>0.000000</td>\n",
              "      <td>0.00000</td>\n",
              "      <td>0.000000</td>\n",
              "      <td>55922.129883</td>\n",
              "    </tr>\n",
              "    <tr>\n",
              "      <th>4</th>\n",
              "      <td>veh_age</td>\n",
              "      <td>67856.0</td>\n",
              "      <td>2.673529</td>\n",
              "      <td>1.067542</td>\n",
              "      <td>1.000000</td>\n",
              "      <td>2.000000</td>\n",
              "      <td>3.00000</td>\n",
              "      <td>4.000000</td>\n",
              "      <td>4.000000</td>\n",
              "    </tr>\n",
              "    <tr>\n",
              "      <th>5</th>\n",
              "      <td>agecat</td>\n",
              "      <td>67856.0</td>\n",
              "      <td>3.485484</td>\n",
              "      <td>1.425608</td>\n",
              "      <td>1.000000</td>\n",
              "      <td>2.000000</td>\n",
              "      <td>3.00000</td>\n",
              "      <td>5.000000</td>\n",
              "      <td>6.000000</td>\n",
              "    </tr>\n",
              "  </tbody>\n",
              "</table>\n",
              "</div>"
            ],
            "text/plain": [
              "     Columna    count       Media  Desv. Estándar    Mínimo        Q1  \\\n",
              "0   exposure  67856.0    0.468652        0.290025  0.002738  0.219028   \n",
              "1        clm  67856.0    0.068144        0.251995  0.000000  0.000000   \n",
              "2  numclaims  67856.0    0.072757        0.278204  0.000000  0.000000   \n",
              "3  claimcst0  67856.0  137.270167     1056.297768  0.000000  0.000000   \n",
              "4    veh_age  67856.0    2.673529        1.067542  1.000000  2.000000   \n",
              "5     agecat  67856.0    3.485484        1.425608  1.000000  2.000000   \n",
              "\n",
              "   Mediana        Q3        Máximo  \n",
              "0  0.44627  0.709103      0.999316  \n",
              "1  0.00000  0.000000      1.000000  \n",
              "2  0.00000  0.000000      4.000000  \n",
              "3  0.00000  0.000000  55922.129883  \n",
              "4  3.00000  4.000000      4.000000  \n",
              "5  3.00000  5.000000      6.000000  "
            ]
          },
          "execution_count": 19,
          "metadata": {},
          "output_type": "execute_result"
        }
      ],
      "source": [
        "eda[\"numeric_stats\"]"
      ]
    },
    {
      "cell_type": "markdown",
      "metadata": {
        "nteract": {
          "transient": {
            "deleting": false
          }
        }
      },
      "source": [
        "### iii. Estadisticos Categoricos"
      ]
    },
    {
      "cell_type": "code",
      "execution_count": 20,
      "metadata": {
        "collapsed": false,
        "jupyter": {
          "outputs_hidden": false,
          "source_hidden": false
        },
        "nteract": {
          "transient": {
            "deleting": false
          }
        }
      },
      "outputs": [
        {
          "data": {
            "text/html": [
              "<div>\n",
              "<style scoped>\n",
              "    .dataframe tbody tr th:only-of-type {\n",
              "        vertical-align: middle;\n",
              "    }\n",
              "\n",
              "    .dataframe tbody tr th {\n",
              "        vertical-align: top;\n",
              "    }\n",
              "\n",
              "    .dataframe thead th {\n",
              "        text-align: right;\n",
              "    }\n",
              "</style>\n",
              "<table border=\"1\" class=\"dataframe\">\n",
              "  <thead>\n",
              "    <tr style=\"text-align: right;\">\n",
              "      <th></th>\n",
              "      <th>Columna</th>\n",
              "      <th>Valores Únicos</th>\n",
              "      <th>Top Categorías</th>\n",
              "    </tr>\n",
              "  </thead>\n",
              "  <tbody>\n",
              "    <tr>\n",
              "      <th>0</th>\n",
              "      <td>veh_body</td>\n",
              "      <td>13</td>\n",
              "      <td>{'SEDAN': 22233, 'HBACK': 18915, 'STNWG': 1626...</td>\n",
              "    </tr>\n",
              "    <tr>\n",
              "      <th>1</th>\n",
              "      <td>gender</td>\n",
              "      <td>2</td>\n",
              "      <td>{'F': 38603, 'M': 29253}</td>\n",
              "    </tr>\n",
              "    <tr>\n",
              "      <th>2</th>\n",
              "      <td>area</td>\n",
              "      <td>6</td>\n",
              "      <td>{'C': 20540, 'A': 16312, 'B': 13341, 'D': 8173...</td>\n",
              "    </tr>\n",
              "    <tr>\n",
              "      <th>3</th>\n",
              "      <td>_OBSTAT_</td>\n",
              "      <td>1</td>\n",
              "      <td>{'01101    0    0    0': 67856}</td>\n",
              "    </tr>\n",
              "  </tbody>\n",
              "</table>\n",
              "</div>"
            ],
            "text/plain": [
              "    Columna  Valores Únicos                                     Top Categorías\n",
              "0  veh_body              13  {'SEDAN': 22233, 'HBACK': 18915, 'STNWG': 1626...\n",
              "1    gender               2                           {'F': 38603, 'M': 29253}\n",
              "2      area               6  {'C': 20540, 'A': 16312, 'B': 13341, 'D': 8173...\n",
              "3  _OBSTAT_               1                    {'01101    0    0    0': 67856}"
            ]
          },
          "execution_count": 20,
          "metadata": {},
          "output_type": "execute_result"
        }
      ],
      "source": [
        "eda[\"categorical_stats\"]"
      ]
    },
    {
      "cell_type": "markdown",
      "metadata": {},
      "source": [
        "Se nota que probablemente id_credito sea unico por mes ya que tenemos un periodo de 19 meses."
      ]
    },
    {
      "cell_type": "markdown",
      "metadata": {
        "nteract": {
          "transient": {
            "deleting": false
          }
        }
      },
      "source": [
        "### iv. Correlaciones"
      ]
    },
    {
      "cell_type": "code",
      "execution_count": 21,
      "metadata": {
        "collapsed": false,
        "jupyter": {
          "outputs_hidden": false,
          "source_hidden": false
        },
        "nteract": {
          "transient": {
            "deleting": false
          }
        }
      },
      "outputs": [
        {
          "data": {
            "text/html": [
              "<div>\n",
              "<style scoped>\n",
              "    .dataframe tbody tr th:only-of-type {\n",
              "        vertical-align: middle;\n",
              "    }\n",
              "\n",
              "    .dataframe tbody tr th {\n",
              "        vertical-align: top;\n",
              "    }\n",
              "\n",
              "    .dataframe thead th {\n",
              "        text-align: right;\n",
              "    }\n",
              "</style>\n",
              "<table border=\"1\" class=\"dataframe\">\n",
              "  <thead>\n",
              "    <tr style=\"text-align: right;\">\n",
              "      <th></th>\n",
              "      <th>Columna 1</th>\n",
              "      <th>Columna 2</th>\n",
              "      <th>Correlación</th>\n",
              "    </tr>\n",
              "  </thead>\n",
              "  <tbody>\n",
              "    <tr>\n",
              "      <th>8</th>\n",
              "      <td>clm</td>\n",
              "      <td>numclaims</td>\n",
              "      <td>0.967107</td>\n",
              "    </tr>\n",
              "    <tr>\n",
              "      <th>13</th>\n",
              "      <td>numclaims</td>\n",
              "      <td>clm</td>\n",
              "      <td>0.967107</td>\n",
              "    </tr>\n",
              "  </tbody>\n",
              "</table>\n",
              "</div>"
            ],
            "text/plain": [
              "    Columna 1  Columna 2  Correlación\n",
              "8         clm  numclaims     0.967107\n",
              "13  numclaims        clm     0.967107"
            ]
          },
          "metadata": {},
          "output_type": "display_data"
        }
      ],
      "source": [
        "display(eda[\"correlations\"])"
      ]
    },
    {
      "cell_type": "markdown",
      "metadata": {
        "nteract": {
          "transient": {
            "deleting": false
          }
        }
      },
      "source": [
        "### v. Valores Faltantes"
      ]
    },
    {
      "cell_type": "code",
      "execution_count": 22,
      "metadata": {
        "collapsed": false,
        "jupyter": {
          "outputs_hidden": false,
          "source_hidden": false
        },
        "nteract": {
          "transient": {
            "deleting": false
          }
        }
      },
      "outputs": [
        {
          "data": {
            "text/html": [
              "<div>\n",
              "<style scoped>\n",
              "    .dataframe tbody tr th:only-of-type {\n",
              "        vertical-align: middle;\n",
              "    }\n",
              "\n",
              "    .dataframe tbody tr th {\n",
              "        vertical-align: top;\n",
              "    }\n",
              "\n",
              "    .dataframe thead th {\n",
              "        text-align: right;\n",
              "    }\n",
              "</style>\n",
              "<table border=\"1\" class=\"dataframe\">\n",
              "  <thead>\n",
              "    <tr style=\"text-align: right;\">\n",
              "      <th></th>\n",
              "      <th>Columna</th>\n",
              "      <th>Valores Faltantes</th>\n",
              "      <th>Porcentaje Faltante</th>\n",
              "    </tr>\n",
              "  </thead>\n",
              "  <tbody>\n",
              "    <tr>\n",
              "      <th>0</th>\n",
              "      <td>exposure</td>\n",
              "      <td>0</td>\n",
              "      <td>0.0</td>\n",
              "    </tr>\n",
              "    <tr>\n",
              "      <th>1</th>\n",
              "      <td>clm</td>\n",
              "      <td>0</td>\n",
              "      <td>0.0</td>\n",
              "    </tr>\n",
              "    <tr>\n",
              "      <th>2</th>\n",
              "      <td>numclaims</td>\n",
              "      <td>0</td>\n",
              "      <td>0.0</td>\n",
              "    </tr>\n",
              "    <tr>\n",
              "      <th>3</th>\n",
              "      <td>claimcst0</td>\n",
              "      <td>0</td>\n",
              "      <td>0.0</td>\n",
              "    </tr>\n",
              "    <tr>\n",
              "      <th>4</th>\n",
              "      <td>veh_body</td>\n",
              "      <td>0</td>\n",
              "      <td>0.0</td>\n",
              "    </tr>\n",
              "    <tr>\n",
              "      <th>5</th>\n",
              "      <td>veh_age</td>\n",
              "      <td>0</td>\n",
              "      <td>0.0</td>\n",
              "    </tr>\n",
              "    <tr>\n",
              "      <th>6</th>\n",
              "      <td>gender</td>\n",
              "      <td>0</td>\n",
              "      <td>0.0</td>\n",
              "    </tr>\n",
              "    <tr>\n",
              "      <th>7</th>\n",
              "      <td>area</td>\n",
              "      <td>0</td>\n",
              "      <td>0.0</td>\n",
              "    </tr>\n",
              "    <tr>\n",
              "      <th>8</th>\n",
              "      <td>agecat</td>\n",
              "      <td>0</td>\n",
              "      <td>0.0</td>\n",
              "    </tr>\n",
              "    <tr>\n",
              "      <th>9</th>\n",
              "      <td>_OBSTAT_</td>\n",
              "      <td>0</td>\n",
              "      <td>0.0</td>\n",
              "    </tr>\n",
              "  </tbody>\n",
              "</table>\n",
              "</div>"
            ],
            "text/plain": [
              "     Columna  Valores Faltantes  Porcentaje Faltante\n",
              "0   exposure                  0                  0.0\n",
              "1        clm                  0                  0.0\n",
              "2  numclaims                  0                  0.0\n",
              "3  claimcst0                  0                  0.0\n",
              "4   veh_body                  0                  0.0\n",
              "5    veh_age                  0                  0.0\n",
              "6     gender                  0                  0.0\n",
              "7       area                  0                  0.0\n",
              "8     agecat                  0                  0.0\n",
              "9   _OBSTAT_                  0                  0.0"
            ]
          },
          "metadata": {},
          "output_type": "display_data"
        }
      ],
      "source": [
        "display(eda[\"missing_values\"])"
      ]
    },
    {
      "cell_type": "markdown",
      "metadata": {
        "nteract": {
          "transient": {
            "deleting": false
          }
        }
      },
      "source": [
        "### vi. Distribuccion"
      ]
    },
    {
      "cell_type": "code",
      "execution_count": 23,
      "metadata": {
        "collapsed": false,
        "jupyter": {
          "outputs_hidden": false,
          "source_hidden": false
        },
        "nteract": {
          "transient": {
            "deleting": false
          }
        }
      },
      "outputs": [
        {
          "data": {
            "text/html": [
              "<div>\n",
              "<style scoped>\n",
              "    .dataframe tbody tr th:only-of-type {\n",
              "        vertical-align: middle;\n",
              "    }\n",
              "\n",
              "    .dataframe tbody tr th {\n",
              "        vertical-align: top;\n",
              "    }\n",
              "\n",
              "    .dataframe thead th {\n",
              "        text-align: right;\n",
              "    }\n",
              "</style>\n",
              "<table border=\"1\" class=\"dataframe\">\n",
              "  <thead>\n",
              "    <tr style=\"text-align: right;\">\n",
              "      <th></th>\n",
              "      <th>Columna</th>\n",
              "      <th>Asimetría</th>\n",
              "      <th>Curtosis</th>\n",
              "      <th>Distribución</th>\n",
              "    </tr>\n",
              "  </thead>\n",
              "  <tbody>\n",
              "    <tr>\n",
              "      <th>0</th>\n",
              "      <td>exposure</td>\n",
              "      <td>0.169605</td>\n",
              "      <td>-1.136068</td>\n",
              "      <td>{'count': 13571.0, 'mean': 0.4705201649157247,...</td>\n",
              "    </tr>\n",
              "    <tr>\n",
              "      <th>1</th>\n",
              "      <td>clm</td>\n",
              "      <td>3.441278</td>\n",
              "      <td>9.843843</td>\n",
              "      <td>{'count': 13571.0, 'mean': 0.06771792793456635...</td>\n",
              "    </tr>\n",
              "    <tr>\n",
              "      <th>2</th>\n",
              "      <td>numclaims</td>\n",
              "      <td>4.075573</td>\n",
              "      <td>18.431675</td>\n",
              "      <td>{'count': 13571.0, 'mean': 0.07221280672021221...</td>\n",
              "    </tr>\n",
              "    <tr>\n",
              "      <th>3</th>\n",
              "      <td>claimcst0</td>\n",
              "      <td>17.977379</td>\n",
              "      <td>472.236066</td>\n",
              "      <td>{'count': 13571.0, 'mean': 146.13289658246558,...</td>\n",
              "    </tr>\n",
              "    <tr>\n",
              "      <th>4</th>\n",
              "      <td>veh_age</td>\n",
              "      <td>-0.222331</td>\n",
              "      <td>-1.209330</td>\n",
              "      <td>{'count': 13571.0, 'mean': 2.6776213985704813,...</td>\n",
              "    </tr>\n",
              "    <tr>\n",
              "      <th>5</th>\n",
              "      <td>agecat</td>\n",
              "      <td>0.047967</td>\n",
              "      <td>-0.851378</td>\n",
              "      <td>{'count': 13571.0, 'mean': 3.4930366222091225,...</td>\n",
              "    </tr>\n",
              "  </tbody>\n",
              "</table>\n",
              "</div>"
            ],
            "text/plain": [
              "     Columna  Asimetría    Curtosis  \\\n",
              "0   exposure   0.169605   -1.136068   \n",
              "1        clm   3.441278    9.843843   \n",
              "2  numclaims   4.075573   18.431675   \n",
              "3  claimcst0  17.977379  472.236066   \n",
              "4    veh_age  -0.222331   -1.209330   \n",
              "5     agecat   0.047967   -0.851378   \n",
              "\n",
              "                                        Distribución  \n",
              "0  {'count': 13571.0, 'mean': 0.4705201649157247,...  \n",
              "1  {'count': 13571.0, 'mean': 0.06771792793456635...  \n",
              "2  {'count': 13571.0, 'mean': 0.07221280672021221...  \n",
              "3  {'count': 13571.0, 'mean': 146.13289658246558,...  \n",
              "4  {'count': 13571.0, 'mean': 2.6776213985704813,...  \n",
              "5  {'count': 13571.0, 'mean': 3.4930366222091225,...  "
            ]
          },
          "metadata": {},
          "output_type": "display_data"
        }
      ],
      "source": [
        "display(eda[\"distributions\"])"
      ]
    },
    {
      "cell_type": "code",
      "execution_count": 24,
      "metadata": {},
      "outputs": [
        {
          "data": {
            "image/png": "[encoded data removed]",
            "text/plain": [
              "<Figure size 1000x400 with 1 Axes>"
            ]
          },
          "metadata": {},
          "output_type": "display_data"
        },
        {
          "data": {
            "image/png": "[encoded data removed]",
            "text/plain": [
              "<Figure size 1000x400 with 1 Axes>"
            ]
          },
          "metadata": {},
          "output_type": "display_data"
        },
        {
          "data": {
            "image/png": "[encoded data removed]",
            "text/plain": [
              "<Figure size 1000x400 with 1 Axes>"
            ]
          },
          "metadata": {},
          "output_type": "display_data"
        },
        {
          "data": {
            "image/png": "[encoded data removed]",
            "text/plain": [
              "<Figure size 1000x400 with 1 Axes>"
            ]
          },
          "metadata": {},
          "output_type": "display_data"
        },
        {
          "data": {
            "image/png": "[encoded data removed]",
            "text/plain": [
              "<Figure size 1000x400 with 1 Axes>"
            ]
          },
          "metadata": {},
          "output_type": "display_data"
        },
        {
          "data": {
            "image/png": "[encoded data removed]",
            "text/plain": [
              "<Figure size 1000x400 with 1 Axes>"
            ]
          },
          "metadata": {},
          "output_type": "display_data"
        },
        {
          "data": {
            "image/png": "[encoded data removed]",
            "text/plain": [
              "<Figure size 800x400 with 1 Axes>"
            ]
          },
          "metadata": {},
          "output_type": "display_data"
        },
        {
          "data": {
            "image/png": "[encoded data removed]",
            "text/plain": [
              "<Figure size 800x400 with 1 Axes>"
            ]
          },
          "metadata": {},
          "output_type": "display_data"
        },
        {
          "data": {
            "image/png": "[encoded data removed]",
            "text/plain": [
              "<Figure size 800x400 with 1 Axes>"
            ]
          },
          "metadata": {},
          "output_type": "display_data"
        },
        {
          "data": {
            "image/png": "[encoded data removed]",
            "text/plain": [
              "<Figure size 800x400 with 1 Axes>"
            ]
          },
          "metadata": {},
          "output_type": "display_data"
        },
        {
          "data": {
            "image/png": "[encoded data removed]",
            "text/plain": [
              "<Figure size 800x400 with 1 Axes>"
            ]
          },
          "metadata": {},
          "output_type": "display_data"
        },
        {
          "data": {
            "image/png": "[encoded data removed]",
            "text/plain": [
              "<Figure size 800x400 with 1 Axes>"
            ]
          },
          "metadata": {},
          "output_type": "display_data"
        },
        {
          "data": {
            "image/png": "[encoded data removed]",
            "text/plain": [
              "<Figure size 1200x800 with 2 Axes>"
            ]
          },
          "metadata": {},
          "output_type": "display_data"
        },
        {
          "data": {
            "text/html": [
              "<div>\n",
              "<style scoped>\n",
              "    .dataframe tbody tr th:only-of-type {\n",
              "        vertical-align: middle;\n",
              "    }\n",
              "\n",
              "    .dataframe tbody tr th {\n",
              "        vertical-align: top;\n",
              "    }\n",
              "\n",
              "    .dataframe thead th {\n",
              "        text-align: right;\n",
              "    }\n",
              "</style>\n",
              "<table border=\"1\" class=\"dataframe\">\n",
              "  <thead>\n",
              "    <tr style=\"text-align: right;\">\n",
              "      <th></th>\n",
              "      <th>Skewness</th>\n",
              "      <th>Kurtosis</th>\n",
              "    </tr>\n",
              "  </thead>\n",
              "  <tbody>\n",
              "    <tr>\n",
              "      <th>exposure</th>\n",
              "      <td>0.175554</td>\n",
              "      <td>-1.142501</td>\n",
              "    </tr>\n",
              "    <tr>\n",
              "      <th>clm</th>\n",
              "      <td>3.427516</td>\n",
              "      <td>9.747868</td>\n",
              "    </tr>\n",
              "    <tr>\n",
              "      <th>numclaims</th>\n",
              "      <td>4.067288</td>\n",
              "      <td>18.504311</td>\n",
              "    </tr>\n",
              "    <tr>\n",
              "      <th>claimcst0</th>\n",
              "      <td>17.502116</td>\n",
              "      <td>479.890242</td>\n",
              "    </tr>\n",
              "    <tr>\n",
              "      <th>veh_age</th>\n",
              "      <td>-0.213138</td>\n",
              "      <td>-1.202100</td>\n",
              "    </tr>\n",
              "    <tr>\n",
              "      <th>agecat</th>\n",
              "      <td>0.058075</td>\n",
              "      <td>-0.851871</td>\n",
              "    </tr>\n",
              "  </tbody>\n",
              "</table>\n",
              "</div>"
            ],
            "text/plain": [
              "            Skewness    Kurtosis\n",
              "exposure    0.175554   -1.142501\n",
              "clm         3.427516    9.747868\n",
              "numclaims   4.067288   18.504311\n",
              "claimcst0  17.502116  479.890242\n",
              "veh_age    -0.213138   -1.202100\n",
              "agecat      0.058075   -0.851871"
            ]
          },
          "metadata": {},
          "output_type": "display_data"
        }
      ],
      "source": [
        "# ------------------ Análisis Descriptivo Visual ------------------\n",
        "\n",
        "# Selección de variables numéricas\n",
        "numeric_cols = df.select_dtypes(include=np.number).columns\n",
        "\n",
        "# 1. Histogramas / Distribuciones\n",
        "for col in numeric_cols:\n",
        "    plt.figure(figsize=(10, 4))\n",
        "    sns.histplot(df[col], kde=True, bins=30)\n",
        "    plt.title(f'Distribución de {col}')\n",
        "    plt.xlabel(col)\n",
        "    plt.ylabel('Frecuencia')\n",
        "    plt.grid(True)\n",
        "    plt.tight_layout()\n",
        "    plt.show()\n",
        "\n",
        "# 2. Boxplots\n",
        "for col in numeric_cols:\n",
        "    plt.figure(figsize=(8, 4))\n",
        "    sns.boxplot(x=df[col])\n",
        "    plt.title(f'Boxplot de {col}')\n",
        "    plt.grid(True)\n",
        "    plt.tight_layout()\n",
        "    plt.show()\n",
        "\n",
        "# 3. Mapa de calor de correlación\n",
        "plt.figure(figsize=(12, 8))\n",
        "correlation = df[numeric_cols].corr()\n",
        "sns.heatmap(correlation, annot=True, cmap='coolwarm', fmt=\".2f\", linewidths=0.5)\n",
        "plt.title('Matriz de Correlación')\n",
        "plt.tight_layout()\n",
        "plt.show()\n",
        "\n",
        "# 4. Pairplot (si hay pocas variables)\n",
        "if len(numeric_cols) <= 5:\n",
        "    sns.pairplot(df[numeric_cols])\n",
        "    plt.suptitle('Pairplot entre variables numéricas', y=1.02)\n",
        "    plt.show()\n",
        "\n",
        "# 5. Skew y Kurtosis\n",
        "skew_kurt = pd.DataFrame({\n",
        "    'Skewness': df[numeric_cols].apply(skew),\n",
        "    'Kurtosis': df[numeric_cols].apply(kurtosis)\n",
        "})\n",
        "display(skew_kurt)\n"
      ]
    }
  ],
  "metadata": {
    "description": null,
    "kernelspec": {
      "display_name": "Python 3",
      "language": "python",
      "name": "python3"
    },
    "language_info": {
      "codemirror_mode": {
        "name": "ipython",
        "version": 3
      },
      "file_extension": ".py",
      "mimetype": "text/x-python",
      "name": "python",
      "nbconvert_exporter": "python",
      "pygments_lexer": "ipython3",
      "version": "3.11.9"
    },
    "save_output": true,
    "synapse_widget": {
      "state": {
        "05711b5e-95ce-4e8c-abc4-b75ab0734037": {
          "persist_state": {
            "view": {
              "chartOptions": {
                "aggregationType": "sum",
                "categoryFieldKeys": [
                  "0"
                ],
                "chartType": "bar",
                "isStacked": false,
                "seriesFieldKeys": [
                  "1"
                ]
              },
              "tableOptions": {},
              "type": "details"
            }
          },
          "sync_state": {
            "isSummary": false,
            "language": "scala",
            "table": {
              "rows": [
                {
                  "0": "SEXO",
                  "1": "3",
                  "2": "{M=45045, ND=11643, F=33150}"
                },
                {
                  "0": "ESTADO_CIVIL",
                  "1": "10",
                  "2": "{OTROS=13, SEPARADO(A) JUDICIAL=19, VIUDO=2, DIVORCIADO=8405, SOLTERO=40158, UNION LIBRE=14, ND=14055, CASADO=26646, VIUDO(A)=523, SEPARADO(A)=3}"
                },
                {
                  "0": "PROFESION",
                  "1": "687",
                  "2": "{COMERCIANTE=235, PROFESORA=219, DEL HOGAR=406, AGRICULTOR=246, SECRETARIA=221, ND=79207, CHOFER=153, OFICINISTA=218, OPER INDUSTRIAL=418, ESTUDIANTE=5004}"
                },
                {
                  "0": "GRADO_ACADEMICO",
                  "1": "15",
                  "2": "{null=81747, Trabajador no calificado =406, Trabajador calificado=781, Trabajador no calificado=139, No especificado=5004, Trabajador especializado=395, Trabajador semicalificado genérico=301, Trabajador especializado =235, Licenciado universitario=232, Bachiller universitario=278}"
                },
                {
                  "0": "NACIONALIDAD",
                  "1": "17",
                  "2": "{PALESTINO=2, POR OPCIÓN=718, CONSERVA NACIONALIDAD COSTARRICENSE=204, COSTARRICENSE=75107, ND=10609, CONSERVA NACIONALIDAD EXTRANJERA=16, NICARAGUENSE=3, NATURALIZADO=3165, POR OPCIÃ³N=2, ESTADOUNIDENSE=5}"
                },
                {
                  "0": "CANTON_DEFAULT",
                  "1": "138",
                  "2": "{SAN JOSE=11798, ALAJUELA=8318, DESAMPARADOS=6296, QUEPOS=2953, GOICOECHEA=3771, ESCAZU=4403, SANTA ANA=3187, CARTAGO=3108, HEREDIA=4089, LA UNION=2890}"
                },
                {
                  "0": "DISTRITO_DEFAULT",
                  "1": "379",
                  "2": "{PAVAS=2920, SAN ANTONIO=2599, ALAJUELA=3304, DESAMPARADOS=2259, SAN RAFAEL=4432, QUEPOS=2653, SAN PEDRO=1551, GUADALUPE=1741, SAN JUAN=1530, SAN MIGUEL=1517}"
                },
                {
                  "0": "PROVINCIA_TRABAJO",
                  "1": "8",
                  "2": "{SAN JOSE=16170, ALAJUELA=1816, GUANACASTE=366, PUNTARENAS=733, ND=66710, LIMON=260, CARTAGO=1299, HEREDIA=2484}"
                },
                {
                  "0": "CANTON_TRABAJO",
                  "1": "77",
                  "2": "{BELEN=453, DESAMPARADOS=461, ND=66710, GOICOECHEA=1002, CENTRAL=13617, ESCAZU=947, MONTES DE OCA=1315, SANTA ANA=344, CURRIDABAT=508, TIBAS=669}"
                },
                {
                  "0": "DISTRITO_TRABAJO",
                  "1": "629",
                  "2": "{SAN FRANCISCO DE DOS RIOS=672, MATA REDONDA=795, URUCA=1453, HOSPITAL=775, LA CAJA=1048, SAN SEBASTIAN=1344, ND=66710, SAN PEDRO=1067, ZAPOTE=903, CARMEN=940}"
                },
                {
                  "0": "GERENCIA",
                  "1": "7",
                  "2": "{BANCA EMPRESARIAL=36, GERENCIA DE SUCURSALES=88230, ND=62, BANCA PRIVADA GERENCIA=344, GERENCIA ADQUIRENCIA=3, GERENCIA DE PRODUCTOS INTERNACIONALES=7, BANCA PRIVADA EJECUTIVOS=1156}"
                },
                {
                  "0": "COD_PROMOTOR",
                  "1": "131",
                  "2": "{RFSA=3100, SALA=2720, SUCS=3504, SANP=2175, PIZC=4339, JERB=5835, ISGU=2247, ABOR=3562, STUN=4204, KIMO_IB=6189}"
                },
                {
                  "0": "PROMOTOR_ACTIVO",
                  "1": "1",
                  "2": "{ND=89838}"
                },
                {
                  "0": "UNIDAD_NEGOCIO",
                  "1": "42",
                  "2": "{SUCURSAL SAN FRANCISCO=2572, SUCURSAL CURRIDABAT PLAZA DEL SOL=3254, SUCURSAL HEREDIA=3299, SUCURSAL ALAJUELA=4064, SUCURSAL NOVACENTRO=2719, SUCURSAL CEDRAL=5738, COMERCIALIZACION RETAIL=35208, SUCURSAL SAN JOSÉ=4448, SUCURSAL TORRE UNIVERSAL=7493, SUCURSAL PLAZA LINCOLN=2622}"
                },
                {
                  "0": "AREA_FUNCIONAL",
                  "1": "37",
                  "2": "{SUCURSAL SAN JOSE=4094, SUCURSAL HEREDIA=3299, SUCURSAL ALAJUELA=4064, SUCURSAL PLAZA DEL SOL=3254, INTERNET=5993, SUCURSAL EL CEDRAL=3079, CENDIS=2932, SUCURSAL NOVACENTRO=2719, COMERCIALIZACION RETAIL=33898, SUCURSAL TORRE UNIVERSAL=7493}"
                },
                {
                  "0": "CATEGORIA_RIESGO",
                  "1": "9",
                  "2": "{0.0=90, -2.0=773, 1.0=36, 2.0=10, 3.0=9, 4.0=2, ND=88916, 5.0=1, 7.0=1}"
                },
                {
                  "0": "LISTA_GIE_DESC",
                  "1": "869",
                  "2": "{THERMOSOLUTIONS GROUP S.A.=7, SISTEMAS Y SERVICIOS TECNICOS S Y S=6, MESALLES=13, PLAZA INDUSTRIAL EL COYOL=6, VIA HORIZONTE=8, STILOS DEL ESTE=7, GRUPO VINCULADO=61, CREATIVE ENGINEERING S.R.L=6, TRACTORES ESCAZU=7, SIN GRUPO INTERES=88541}"
                },
                {
                  "0": "SEGMENTACION_OPERATIVA",
                  "1": "5",
                  "2": "{FAMILIAR=23452, PERSONA-PYME=13175, AÑOS DORADOS=13846, COSECHA=9030, LIBERTAD=30335}"
                },
                {
                  "0": "ARQUETIPO",
                  "1": "7",
                  "2": "{FAMILIAR=23452, AÑOS DORADOS NO PENSIONADO=9363, LIBERTAD=30335, AÑOS DORADOS PENSIONADO=4483, PERSONA-PYME=13175, COSECHA SIN INGRESO=797, COSECHA CON INGRESO=8233}"
                },
                {
                  "0": "SEGMENTACION_ESTRATEGICA",
                  "1": "5",
                  "2": "{null=3692, PRIORITARIO=23725, MASIVO PLUS=36090, MASIVO=18609, PRIORITARIO PLUS=7722}"
                },
                {
                  "0": "SEGMENTACION_CARTERA",
                  "1": "1",
                  "2": "{ND=89838}"
                },
                {
                  "0": "FEC_CORTE",
                  "1": "1",
                  "2": "{2024-10-31=89838}"
                },
                {
                  "0": "PROFESION_CATEGORIA",
                  "1": "400",
                  "2": "{OFICIAL=1251, ADMINISTRADOR=4747, INGENIERO=3091, GERENTE=1273, NO PROFESIONAL=6357, EMPLEADO=34095, ASISTENTE=1708, PENSIONADO=2278, PROPIETARIO / EMPRESARIO=3269, ESTUDIANTE=1578}"
                },
                {
                  "0": "NIVEL_EDUCATIVO",
                  "1": "5",
                  "2": "{null=15, ALTO=63750, BAJO=11163, ND=13, MEDIO=14897}"
                },
                {
                  "0": "COD_CLIENTE",
                  "1": "89838",
                  "2": "{11011004350=1, 11011014837=1, 1101104260=1, 1101101252=1, 1101110150=1, 11011018601=1, 11011005844=1, 11011007404=1, 11011012926=1, 1101113767=1}"
                },
                {
                  "0": "TARGET",
                  "1": "2",
                  "2": "{0=70775, 1=19063}"
                },
                {
                  "0": "ID",
                  "1": "89838",
                  "2": "{304220014=1, 503230375=1, 107900897=1, 115630988=1, 111510329=1, 203700563=1, 401820580=1, 110100152=1, 155831007701=1, 114050752=1}"
                },
                {
                  "0": "ID_CATEGORIA",
                  "1": "4",
                  "2": "{DIMEX=9278, NACIONAL=78662, ND=1897, PASAPORTE=1}"
                },
                {
                  "0": "NOMBRE",
                  "1": "89727",
                  "2": "{LOCALIZACIÓN 3 SCRIPT=3, LOCALIZACIÓN 2 SCRIPT=3, SALAS CASTRO MIGUEL ANGEL=2, RIVAS PEREZ CARLOS=2, DELGADO VARGAS MARIA FERNANDA=2, LOCALIZACIÓN 1 SCRIPT=3, MORA MARIN LUIS=2, VARGAS ARROYO MARIA=2, RAMIREZ SEQUEIRA JOSE DANIEL=2, JIMENEZ MONTERO ELENA=2}"
                },
                {
                  "0": "GENERACION",
                  "1": "6",
                  "2": "{MILLENNIALS=33817, CENTENNIALS=16077, BABY BOOMERS=8608, ND=11369, NI�OS DE LA POSTGUERRA=744, GENERACI�N X=19223}"
                },
                {
                  "0": "FUENTE_INGRESOS",
                  "1": "3",
                  "2": "{INDEPENDIENTE=6542, INFORMALIDAD=41701, ASALARIADO=41595}"
                },
                {
                  "0": "NOM_PATRONO",
                  "1": "15013",
                  "2": "{BANCO PROMERICA DE COSTA RICA SOCIEDAD ANONIMA=1239, SIN PATRONO=41565, 3-101-011167 SOCIEDAD ANONIMA=555, ESTADO-MINISTERIO DE EDUCACION PUBLICA=900, ESTADO-MINISTERIO DE TRABAJO Y SEGURIDAD SOCIAL=996, ALIMENTOS EXCLUSIVOS BKCR SOCIEDAD ANONIMA=396, CAJA COSTARRICENSE DE SEGURO SOCIAL=1074, NEWREST COSTA RICA SOCIEDAD ANONIMA=338, AMAZON SUPPORT SERVICES COSTA RICA SOCIEDAD DE RESPONSABILIDAD LIMITADA=304, COMIDAS CENTROAMERICANAS SOCIEDAD ANONIMA=433}"
                },
                {
                  "0": "PAIS_DEFAULT",
                  "1": "33",
                  "2": "{CANADA=17, COLOMBIA=79, NICARAGUA=480, EL SALVADOR=25, ND=257, VENEZUELA=37, COSTA RICA=88696, ESPAÑA=17, ESTADOS UNIDOS=99, ARGENTINA=16}"
                },
                {
                  "0": "PROVINCIA_DEFAULT",
                  "1": "98",
                  "2": "{SAN JOSE=46170, ALAJUELA=13182, GUANACASTE=2989, PUNTARENAS=5351, ND=297, BOACO=317, CARAZO=67, LIMON=1129, CARTAGO=8745, HEREDIA=11118}"
                },
                {
                  "0": "PROVINCIA_VOTO",
                  "1": "9",
                  "2": "{SAN JOSE=39667, ALAJUELA=11544, GUANACASTE=2671, PUNTARENAS=4477, ND=11458, CONSULADO=191, LIMON=1764, CARTAGO=8430, HEREDIA=9636}"
                },
                {
                  "0": "CANTON_VOTO",
                  "1": "107",
                  "2": "{VAZQUEZ DE CORONADO=2085, DESAMPARADOS=5567, ND=11458, GOICOECHEA=3392, CENTRAL=23063, ESCAZU=3270, SANTA ANA=2204, TIBAS=2085, CURRIDABAT=2238, LA UNION=2484}"
                },
                {
                  "0": "DISTRITO_VOTO",
                  "1": "1327",
                  "2": "{SAN ANTONIO=2158, SAN RAFAEL=2246, ND=11458, SAN PABLO=831, SAN PEDRO=1032, SAN ISIDRO=862, SAN FRANCISCO=964, RINCON GRANDE=835, SAN JUAN=875, SAN VICENTE=1356}"
                },
                {
                  "0": "ESTADO_PERSONA",
                  "1": "2",
                  "2": "{CLIENTE INACTIVO=3692, CLIENTE ACTIVO=86146}"
                },
                {
                  "0": "TIPO_CLIENTE",
                  "1": "1",
                  "2": "{FISICA=89838}"
                },
                {
                  "0": "RANGO_CANTIDAD_PRODUCTOS_CORE",
                  "1": "9",
                  "2": "{null=3692, 6 productos=420, 7 productos=55, 4 productos=9240, Triproducto=20814, 8 productos=7, Biproducto=43929, 5 productos=2803, Monoproducto=8878}"
                },
                {
                  "0": "PRODUCTOS_ACTIVOS",
                  "1": "240",
                  "2": "{null=3692, TD_FLAG, TC_FLAG, CE_FLAG=4496, CE_FLAG=6048, TC_FLAG, CE_FLAG=2006, MESA_FLAG, TD_FLAG, PLAN_METAS_FLAG, CE_FLAG=1974, MESA_FLAG, TD_FLAG, TC_FLAG, CE_FLAG=3849, MESA_FLAG, TD_FLAG, CE_FLAG=8244, TC_FLAG, PLAN_METAS_FLAG=7740, TD_FLAG, CE_FLAG=31922, TD_FLAG, PLAN_METAS_FLAG, CE_FLAG=2943}"
                },
                {
                  "0": "PRODUCTOS_INACTIVOS",
                  "1": "240",
                  "2": "{null=3692, ADQUIRENCIA_FLAG, MESA_FLAG, CREDITO_OTROS_FLAG, CREDITO_HIPOTECARIO_FLAG, CREDITO_PRENDARIO_FLAG, PLAN_METAS_FLAG, CDI_FLAG=4496, ADQUIRENCIA_FLAG, TC_FLAG, CREDITO_OTROS_FLAG, CREDITO_HIPOTECARIO_FLAG, CREDITO_PRENDARIO_FLAG, PLAN_METAS_FLAG, CDI_FLAG=8244, ADQUIRENCIA_FLAG, MESA_FLAG, TD_FLAG, CREDITO_OTROS_FLAG, CREDITO_HIPOTECARIO_FLAG, CREDITO_PRENDARIO_FLAG, PLAN_METAS_FLAG, CDI_FLAG=2006, ADQUIRENCIA_FLAG, CREDITO_OTROS_FLAG, CREDITO_HIPOTECARIO_FLAG, CREDITO_PRENDARIO_FLAG, PLAN_METAS_FLAG, CDI_FLAG=3849, ADQUIRENCIA_FLAG, MESA_FLAG, TD_FLAG, TC_FLAG, CREDITO_OTROS_FLAG, CREDITO_HIPOTECARIO_FLAG, CREDITO_PRENDARIO_FLAG, PLAN_METAS_FLAG, CDI_FLAG=6048, ADQUIRENCIA_FLAG, MESA_FLAG, TC_FLAG, CREDITO_OTROS_FLAG, CREDITO_HIPOTECARIO_FLAG, CREDITO_PRENDARIO_FLAG, CDI_FLAG=2943, ADQUIRENCIA_FLAG, MESA_FLAG, TD_FLAG, CREDITO_OTROS_FLAG, CREDITO_HIPOTECARIO_FLAG, CREDITO_PRENDARIO_FLAG, CDI_FLAG, CE_FLAG=7740, ADQUIRENCIA_FLAG, MESA_FLAG, TC_FLAG, CREDITO_OTROS_FLAG, CREDITO_HIPOTECARIO_FLAG, CREDITO_PRENDARIO_FLAG, PLAN_METAS_FLAG, CDI_FLAG=31922, ADQUIRENCIA_FLAG, TC_FLAG, CREDITO_OTROS_FLAG, CREDITO_HIPOTECARIO_FLAG, CREDITO_PRENDARIO_FLAG, CDI_FLAG=1974}"
                },
                {
                  "0": "RANGO_IVP",
                  "1": "10",
                  "2": "{null=3692, [70-80[=344, [10-20[=1954, [0-10[=619, [40-50[=19014, [20-30[=29900, [80-90[=30, [50-60[=7964, [60-70[=2591, [30-40[=23730}"
                },
                {
                  "0": "BEHAVIOUR_DESC",
                  "1": "14",
                  "2": "{R3.4=348, R1.3=277, R2.2=354, R3.2=174, R2.3=285, R4.1=858, R1.1=27302, R1.2=506, ND=59114, R3.6=191}"
                }
              ],
              "schema": [
                {
                  "key": "0",
                  "name": "Columna",
                  "type": "string"
                },
                {
                  "key": "1",
                  "name": "Valores Únicos",
                  "type": "int"
                },
                {
                  "key": "2",
                  "name": "Top Categorías",
                  "type": "string"
                }
              ],
              "truncated": false
            }
          },
          "type": "Synapse.DataFrame"
        },
        "3a10ebaf-ac8b-4174-b8a0-daf981a18fef": {
          "persist_state": {
            "view": {
              "chartOptions": {
                "aggregationType": "count",
                "categoryFieldKeys": [
                  "0"
                ],
                "chartType": "bar",
                "isStacked": false,
                "seriesFieldKeys": [
                  "0"
                ]
              },
              "tableOptions": {},
              "type": "details"
            }
          },
          "sync_state": {
            "isSummary": false,
            "language": "scala",
            "table": {
              "rows": [
                {
                  "0": "General",
                  "1": "Total Rows",
                  "2": "89838"
                },
                {
                  "0": "General",
                  "1": "Full Duplicates",
                  "2": "0"
                },
                {
                  "0": "Key",
                  "1": "Key Duplicates",
                  "2": "0",
                  "3": "['COD_CLIENTE']"
                },
                {
                  "0": "Key",
                  "1": "Keys Unique",
                  "2": "True",
                  "3": "['COD_CLIENTE']"
                },
                {
                  "0": "Column",
                  "1": "Null Count",
                  "2": "0",
                  "3": "COD_CLIENTE"
                },
                {
                  "0": "Column",
                  "1": "Null Percent",
                  "2": "0.00%",
                  "3": "COD_CLIENTE"
                },
                {
                  "0": "Column",
                  "1": "Data Type",
                  "2": "StringType()",
                  "3": "COD_CLIENTE"
                },
                {
                  "0": "Column",
                  "1": "Null Count",
                  "2": "0",
                  "3": "TARGET"
                },
                {
                  "0": "Column",
                  "1": "Null Percent",
                  "2": "0.00%",
                  "3": "TARGET"
                },
                {
                  "0": "Column",
                  "1": "Data Type",
                  "2": "StringType()",
                  "3": "TARGET"
                },
                {
                  "0": "Column",
                  "1": "Null Count",
                  "2": "7740",
                  "3": "DIAS_ANTIGUEDAD"
                },
                {
                  "0": "Column",
                  "1": "Null Percent",
                  "2": "8.62%",
                  "3": "DIAS_ANTIGUEDAD"
                },
                {
                  "0": "Column",
                  "1": "Data Type",
                  "2": "IntegerType()",
                  "3": "DIAS_ANTIGUEDAD"
                },
                {
                  "0": "Column",
                  "1": "Null Count",
                  "2": "0",
                  "3": "ID"
                },
                {
                  "0": "Column",
                  "1": "Null Percent",
                  "2": "0.00%",
                  "3": "ID"
                },
                {
                  "0": "Column",
                  "1": "Data Type",
                  "2": "StringType()",
                  "3": "ID"
                },
                {
                  "0": "Column",
                  "1": "Null Count",
                  "2": "0",
                  "3": "ID_CATEGORIA"
                },
                {
                  "0": "Column",
                  "1": "Null Percent",
                  "2": "0.00%",
                  "3": "ID_CATEGORIA"
                },
                {
                  "0": "Column",
                  "1": "Data Type",
                  "2": "StringType()",
                  "3": "ID_CATEGORIA"
                },
                {
                  "0": "Column",
                  "1": "Null Count",
                  "2": "0",
                  "3": "NOMBRE"
                },
                {
                  "0": "Column",
                  "1": "Null Percent",
                  "2": "0.00%",
                  "3": "NOMBRE"
                },
                {
                  "0": "Column",
                  "1": "Data Type",
                  "2": "StringType()",
                  "3": "NOMBRE"
                },
                {
                  "0": "Column",
                  "1": "Null Count",
                  "2": "0",
                  "3": "SEXO"
                },
                {
                  "0": "Column",
                  "1": "Null Percent",
                  "2": "0.00%",
                  "3": "SEXO"
                },
                {
                  "0": "Column",
                  "1": "Data Type",
                  "2": "StringType()",
                  "3": "SEXO"
                },
                {
                  "0": "Column",
                  "1": "Null Count",
                  "2": "0",
                  "3": "EDAD"
                },
                {
                  "0": "Column",
                  "1": "Null Percent",
                  "2": "0.00%",
                  "3": "EDAD"
                },
                {
                  "0": "Column",
                  "1": "Data Type",
                  "2": "IntegerType()",
                  "3": "EDAD"
                },
                {
                  "0": "Column",
                  "1": "Null Count",
                  "2": "0",
                  "3": "ESTADO_CIVIL"
                },
                {
                  "0": "Column",
                  "1": "Null Percent",
                  "2": "0.00%",
                  "3": "ESTADO_CIVIL"
                },
                {
                  "0": "Column",
                  "1": "Data Type",
                  "2": "StringType()",
                  "3": "ESTADO_CIVIL"
                },
                {
                  "0": "Column",
                  "1": "Null Count",
                  "2": "0",
                  "3": "PROFESION"
                },
                {
                  "0": "Column",
                  "1": "Null Percent",
                  "2": "0.00%",
                  "3": "PROFESION"
                },
                {
                  "0": "Column",
                  "1": "Data Type",
                  "2": "StringType()",
                  "3": "PROFESION"
                },
                {
                  "0": "Column",
                  "1": "Null Count",
                  "2": "81747",
                  "3": "GRADO_ACADEMICO"
                },
                {
                  "0": "Column",
                  "1": "Null Percent",
                  "2": "90.99%",
                  "3": "GRADO_ACADEMICO"
                },
                {
                  "0": "Column",
                  "1": "Data Type",
                  "2": "StringType()",
                  "3": "GRADO_ACADEMICO"
                },
                {
                  "0": "Column",
                  "1": "Null Count",
                  "2": "0",
                  "3": "NACIONALIDAD"
                },
                {
                  "0": "Column",
                  "1": "Null Percent",
                  "2": "0.00%",
                  "3": "NACIONALIDAD"
                },
                {
                  "0": "Column",
                  "1": "Data Type",
                  "2": "StringType()",
                  "3": "NACIONALIDAD"
                },
                {
                  "0": "Column",
                  "1": "Null Count",
                  "2": "0",
                  "3": "GENERACION"
                },
                {
                  "0": "Column",
                  "1": "Null Percent",
                  "2": "0.00%",
                  "3": "GENERACION"
                },
                {
                  "0": "Column",
                  "1": "Data Type",
                  "2": "StringType()",
                  "3": "GENERACION"
                },
                {
                  "0": "Column",
                  "1": "Null Count",
                  "2": "0",
                  "3": "Q_HIJOS"
                },
                {
                  "0": "Column",
                  "1": "Null Percent",
                  "2": "0.00%",
                  "3": "Q_HIJOS"
                },
                {
                  "0": "Column",
                  "1": "Data Type",
                  "2": "IntegerType()",
                  "3": "Q_HIJOS"
                },
                {
                  "0": "Column",
                  "1": "Null Count",
                  "2": "51384",
                  "3": "EDAD_HIJO_MENOR"
                },
                {
                  "0": "Column",
                  "1": "Null Percent",
                  "2": "57.20%",
                  "3": "EDAD_HIJO_MENOR"
                },
                {
                  "0": "Column",
                  "1": "Data Type",
                  "2": "IntegerType()",
                  "3": "EDAD_HIJO_MENOR"
                },
                {
                  "0": "Column",
                  "1": "Null Count",
                  "2": "47724",
                  "3": "EDAD_PADRE_MAYOR"
                },
                {
                  "0": "Column",
                  "1": "Null Percent",
                  "2": "53.12%",
                  "3": "EDAD_PADRE_MAYOR"
                },
                {
                  "0": "Column",
                  "1": "Data Type",
                  "2": "IntegerType()",
                  "3": "EDAD_PADRE_MAYOR"
                },
                {
                  "0": "Column",
                  "1": "Null Count",
                  "2": "0",
                  "3": "INGRESO_MAX"
                },
                {
                  "0": "Column",
                  "1": "Null Percent",
                  "2": "0.00%",
                  "3": "INGRESO_MAX"
                },
                {
                  "0": "Column",
                  "1": "Data Type",
                  "2": "FloatType()",
                  "3": "INGRESO_MAX"
                },
                {
                  "0": "Column",
                  "1": "Null Count",
                  "2": "0",
                  "3": "FUENTE_INGRESOS"
                },
                {
                  "0": "Column",
                  "1": "Null Percent",
                  "2": "0.00%",
                  "3": "FUENTE_INGRESOS"
                },
                {
                  "0": "Column",
                  "1": "Data Type",
                  "2": "StringType()",
                  "3": "FUENTE_INGRESOS"
                },
                {
                  "0": "Column",
                  "1": "Null Count",
                  "2": "0",
                  "3": "NOM_PATRONO"
                },
                {
                  "0": "Column",
                  "1": "Null Percent",
                  "2": "0.00%",
                  "3": "NOM_PATRONO"
                },
                {
                  "0": "Column",
                  "1": "Data Type",
                  "2": "StringType()",
                  "3": "NOM_PATRONO"
                },
                {
                  "0": "Column",
                  "1": "Null Count",
                  "2": "862",
                  "3": "ANTIGUEDAD_LABORAL"
                },
                {
                  "0": "Column",
                  "1": "Null Percent",
                  "2": "0.96%",
                  "3": "ANTIGUEDAD_LABORAL"
                },
                {
                  "0": "Column",
                  "1": "Data Type",
                  "2": "FloatType()",
                  "3": "ANTIGUEDAD_LABORAL"
                },
                {
                  "0": "Column",
                  "1": "Null Count",
                  "2": "862",
                  "3": "NSE"
                },
                {
                  "0": "Column",
                  "1": "Null Percent",
                  "2": "0.96%",
                  "3": "NSE"
                },
                {
                  "0": "Column",
                  "1": "Data Type",
                  "2": "FloatType()",
                  "3": "NSE"
                },
                {
                  "0": "Column",
                  "1": "Null Count",
                  "2": "0",
                  "3": "PAIS_DEFAULT"
                },
                {
                  "0": "Column",
                  "1": "Null Percent",
                  "2": "0.00%",
                  "3": "PAIS_DEFAULT"
                },
                {
                  "0": "Column",
                  "1": "Data Type",
                  "2": "StringType()",
                  "3": "PAIS_DEFAULT"
                },
                {
                  "0": "Column",
                  "1": "Null Count",
                  "2": "0",
                  "3": "PROVINCIA_DEFAULT"
                },
                {
                  "0": "Column",
                  "1": "Null Percent",
                  "2": "0.00%",
                  "3": "PROVINCIA_DEFAULT"
                },
                {
                  "0": "Column",
                  "1": "Data Type",
                  "2": "StringType()",
                  "3": "PROVINCIA_DEFAULT"
                },
                {
                  "0": "Column",
                  "1": "Null Count",
                  "2": "0",
                  "3": "CANTON_DEFAULT"
                },
                {
                  "0": "Column",
                  "1": "Null Percent",
                  "2": "0.00%",
                  "3": "CANTON_DEFAULT"
                },
                {
                  "0": "Column",
                  "1": "Data Type",
                  "2": "StringType()",
                  "3": "CANTON_DEFAULT"
                },
                {
                  "0": "Column",
                  "1": "Null Count",
                  "2": "0",
                  "3": "DISTRITO_DEFAULT"
                },
                {
                  "0": "Column",
                  "1": "Null Percent",
                  "2": "0.00%",
                  "3": "DISTRITO_DEFAULT"
                },
                {
                  "0": "Column",
                  "1": "Data Type",
                  "2": "StringType()",
                  "3": "DISTRITO_DEFAULT"
                },
                {
                  "0": "Column",
                  "1": "Null Count",
                  "2": "0",
                  "3": "PROVINCIA_TRABAJO"
                },
                {
                  "0": "Column",
                  "1": "Null Percent",
                  "2": "0.00%",
                  "3": "PROVINCIA_TRABAJO"
                },
                {
                  "0": "Column",
                  "1": "Data Type",
                  "2": "StringType()",
                  "3": "PROVINCIA_TRABAJO"
                },
                {
                  "0": "Column",
                  "1": "Null Count",
                  "2": "0",
                  "3": "CANTON_TRABAJO"
                },
                {
                  "0": "Column",
                  "1": "Null Percent",
                  "2": "0.00%",
                  "3": "CANTON_TRABAJO"
                },
                {
                  "0": "Column",
                  "1": "Data Type",
                  "2": "StringType()",
                  "3": "CANTON_TRABAJO"
                },
                {
                  "0": "Column",
                  "1": "Null Count",
                  "2": "0",
                  "3": "DISTRITO_TRABAJO"
                },
                {
                  "0": "Column",
                  "1": "Null Percent",
                  "2": "0.00%",
                  "3": "DISTRITO_TRABAJO"
                },
                {
                  "0": "Column",
                  "1": "Data Type",
                  "2": "StringType()",
                  "3": "DISTRITO_TRABAJO"
                },
                {
                  "0": "Column",
                  "1": "Null Count",
                  "2": "0",
                  "3": "PROVINCIA_VOTO"
                },
                {
                  "0": "Column",
                  "1": "Null Percent",
                  "2": "0.00%",
                  "3": "PROVINCIA_VOTO"
                },
                {
                  "0": "Column",
                  "1": "Data Type",
                  "2": "StringType()",
                  "3": "PROVINCIA_VOTO"
                },
                {
                  "0": "Column",
                  "1": "Null Count",
                  "2": "0",
                  "3": "CANTON_VOTO"
                },
                {
                  "0": "Column",
                  "1": "Null Percent",
                  "2": "0.00%",
                  "3": "CANTON_VOTO"
                },
                {
                  "0": "Column",
                  "1": "Data Type",
                  "2": "StringType()",
                  "3": "CANTON_VOTO"
                },
                {
                  "0": "Column",
                  "1": "Null Count",
                  "2": "0",
                  "3": "DISTRITO_VOTO"
                },
                {
                  "0": "Column",
                  "1": "Null Percent",
                  "2": "0.00%",
                  "3": "DISTRITO_VOTO"
                },
                {
                  "0": "Column",
                  "1": "Data Type",
                  "2": "StringType()",
                  "3": "DISTRITO_VOTO"
                },
                {
                  "0": "Column",
                  "1": "Null Count",
                  "2": "0",
                  "3": "ESTADO_PERSONA"
                },
                {
                  "0": "Column",
                  "1": "Null Percent",
                  "2": "0.00%",
                  "3": "ESTADO_PERSONA"
                },
                {
                  "0": "Column",
                  "1": "Data Type",
                  "2": "StringType()",
                  "3": "ESTADO_PERSONA"
                },
                {
                  "0": "Column",
                  "1": "Null Count",
                  "2": "0",
                  "3": "TIPO_CLIENTE"
                },
                {
                  "0": "Column",
                  "1": "Null Percent",
                  "2": "0.00%",
                  "3": "TIPO_CLIENTE"
                },
                {
                  "0": "Column",
                  "1": "Data Type",
                  "2": "StringType()",
                  "3": "TIPO_CLIENTE"
                },
                {
                  "0": "Column",
                  "1": "Null Count",
                  "2": "0",
                  "3": "GERENCIA"
                },
                {
                  "0": "Column",
                  "1": "Null Percent",
                  "2": "0.00%",
                  "3": "GERENCIA"
                },
                {
                  "0": "Column",
                  "1": "Data Type",
                  "2": "StringType()",
                  "3": "GERENCIA"
                },
                {
                  "0": "Column",
                  "1": "Null Count",
                  "2": "0",
                  "3": "COD_PROMOTOR"
                },
                {
                  "0": "Column",
                  "1": "Null Percent",
                  "2": "0.00%",
                  "3": "COD_PROMOTOR"
                },
                {
                  "0": "Column",
                  "1": "Data Type",
                  "2": "StringType()",
                  "3": "COD_PROMOTOR"
                },
                {
                  "0": "Column",
                  "1": "Null Count",
                  "2": "0",
                  "3": "PROMOTOR_ACTIVO"
                },
                {
                  "0": "Column",
                  "1": "Null Percent",
                  "2": "0.00%",
                  "3": "PROMOTOR_ACTIVO"
                },
                {
                  "0": "Column",
                  "1": "Data Type",
                  "2": "StringType()",
                  "3": "PROMOTOR_ACTIVO"
                },
                {
                  "0": "Column",
                  "1": "Null Count",
                  "2": "0",
                  "3": "UNIDAD_NEGOCIO"
                },
                {
                  "0": "Column",
                  "1": "Null Percent",
                  "2": "0.00%",
                  "3": "UNIDAD_NEGOCIO"
                },
                {
                  "0": "Column",
                  "1": "Data Type",
                  "2": "StringType()",
                  "3": "UNIDAD_NEGOCIO"
                },
                {
                  "0": "Column",
                  "1": "Null Count",
                  "2": "0",
                  "3": "AREA_FUNCIONAL"
                },
                {
                  "0": "Column",
                  "1": "Null Percent",
                  "2": "0.00%",
                  "3": "AREA_FUNCIONAL"
                },
                {
                  "0": "Column",
                  "1": "Data Type",
                  "2": "StringType()",
                  "3": "AREA_FUNCIONAL"
                },
                {
                  "0": "Column",
                  "1": "Null Count",
                  "2": "0",
                  "3": "NIVEL_DIGITALIZACION"
                },
                {
                  "0": "Column",
                  "1": "Null Percent",
                  "2": "0.00%",
                  "3": "NIVEL_DIGITALIZACION"
                },
                {
                  "0": "Column",
                  "1": "Data Type",
                  "2": "IntegerType()",
                  "3": "NIVEL_DIGITALIZACION"
                },
                {
                  "0": "Column",
                  "1": "Null Count",
                  "2": "3692",
                  "3": "CANTIDAD_PRODUCTOS_CORE"
                },
                {
                  "0": "Column",
                  "1": "Null Percent",
                  "2": "4.11%",
                  "3": "CANTIDAD_PRODUCTOS_CORE"
                },
                {
                  "0": "Column",
                  "1": "Data Type",
                  "2": "LongType()",
                  "3": "CANTIDAD_PRODUCTOS_CORE"
                },
                {
                  "0": "Column",
                  "1": "Null Count",
                  "2": "3692",
                  "3": "RANGO_CANTIDAD_PRODUCTOS_CORE"
                },
                {
                  "0": "Column",
                  "1": "Null Percent",
                  "2": "4.11%",
                  "3": "RANGO_CANTIDAD_PRODUCTOS_CORE"
                },
                {
                  "0": "Column",
                  "1": "Data Type",
                  "2": "StringType()",
                  "3": "RANGO_CANTIDAD_PRODUCTOS_CORE"
                },
                {
                  "0": "Column",
                  "1": "Null Count",
                  "2": "3692",
                  "3": "PRODUCTOS_ACTIVOS"
                },
                {
                  "0": "Column",
                  "1": "Null Percent",
                  "2": "4.11%",
                  "3": "PRODUCTOS_ACTIVOS"
                },
                {
                  "0": "Column",
                  "1": "Data Type",
                  "2": "StringType()",
                  "3": "PRODUCTOS_ACTIVOS"
                },
                {
                  "0": "Column",
                  "1": "Null Count",
                  "2": "3692",
                  "3": "PRODUCTOS_INACTIVOS"
                },
                {
                  "0": "Column",
                  "1": "Null Percent",
                  "2": "4.11%",
                  "3": "PRODUCTOS_INACTIVOS"
                },
                {
                  "0": "Column",
                  "1": "Data Type",
                  "2": "StringType()",
                  "3": "PRODUCTOS_INACTIVOS"
                },
                {
                  "0": "Column",
                  "1": "Null Count",
                  "2": "3692",
                  "3": "IVP"
                },
                {
                  "0": "Column",
                  "1": "Null Percent",
                  "2": "4.11%",
                  "3": "IVP"
                },
                {
                  "0": "Column",
                  "1": "Data Type",
                  "2": "LongType()",
                  "3": "IVP"
                },
                {
                  "0": "Column",
                  "1": "Null Count",
                  "2": "3692",
                  "3": "RANGO_IVP"
                },
                {
                  "0": "Column",
                  "1": "Null Percent",
                  "2": "4.11%",
                  "3": "RANGO_IVP"
                },
                {
                  "0": "Column",
                  "1": "Data Type",
                  "2": "StringType()",
                  "3": "RANGO_IVP"
                },
                {
                  "0": "Column",
                  "1": "Null Count",
                  "2": "0",
                  "3": "CE_FLAG"
                },
                {
                  "0": "Column",
                  "1": "Null Percent",
                  "2": "0.00%",
                  "3": "CE_FLAG"
                },
                {
                  "0": "Column",
                  "1": "Data Type",
                  "2": "IntegerType()",
                  "3": "CE_FLAG"
                },
                {
                  "0": "Column",
                  "1": "Null Count",
                  "2": "0",
                  "3": "CDI_FLAG"
                },
                {
                  "0": "Column",
                  "1": "Null Percent",
                  "2": "0.00%",
                  "3": "CDI_FLAG"
                },
                {
                  "0": "Column",
                  "1": "Data Type",
                  "2": "IntegerType()",
                  "3": "CDI_FLAG"
                },
                {
                  "0": "Column",
                  "1": "Null Count",
                  "2": "0",
                  "3": "PLAN_METAS_FLAG"
                },
                {
                  "0": "Column",
                  "1": "Null Percent",
                  "2": "0.00%",
                  "3": "PLAN_METAS_FLAG"
                },
                {
                  "0": "Column",
                  "1": "Data Type",
                  "2": "IntegerType()",
                  "3": "PLAN_METAS_FLAG"
                },
                {
                  "0": "Column",
                  "1": "Null Count",
                  "2": "0",
                  "3": "CREDITO_PRENDARIO_FLAG"
                },
                {
                  "0": "Column",
                  "1": "Null Percent",
                  "2": "0.00%",
                  "3": "CREDITO_PRENDARIO_FLAG"
                },
                {
                  "0": "Column",
                  "1": "Data Type",
                  "2": "IntegerType()",
                  "3": "CREDITO_PRENDARIO_FLAG"
                },
                {
                  "0": "Column",
                  "1": "Null Count",
                  "2": "0",
                  "3": "CREDITO_HIPOTECARIO_FLAG"
                },
                {
                  "0": "Column",
                  "1": "Null Percent",
                  "2": "0.00%",
                  "3": "CREDITO_HIPOTECARIO_FLAG"
                },
                {
                  "0": "Column",
                  "1": "Data Type",
                  "2": "IntegerType()",
                  "3": "CREDITO_HIPOTECARIO_FLAG"
                },
                {
                  "0": "Column",
                  "1": "Null Count",
                  "2": "0",
                  "3": "CREDITO_OTROS_FLAG"
                },
                {
                  "0": "Column",
                  "1": "Null Percent",
                  "2": "0.00%",
                  "3": "CREDITO_OTROS_FLAG"
                },
                {
                  "0": "Column",
                  "1": "Data Type",
                  "2": "IntegerType()",
                  "3": "CREDITO_OTROS_FLAG"
                },
                {
                  "0": "Column",
                  "1": "Null Count",
                  "2": "0",
                  "3": "TC_FLAG"
                },
                {
                  "0": "Column",
                  "1": "Null Percent",
                  "2": "0.00%",
                  "3": "TC_FLAG"
                },
                {
                  "0": "Column",
                  "1": "Data Type",
                  "2": "IntegerType()",
                  "3": "TC_FLAG"
                },
                {
                  "0": "Column",
                  "1": "Null Count",
                  "2": "0",
                  "3": "TD_FLAG"
                },
                {
                  "0": "Column",
                  "1": "Null Percent",
                  "2": "0.00%",
                  "3": "TD_FLAG"
                },
                {
                  "0": "Column",
                  "1": "Data Type",
                  "2": "IntegerType()",
                  "3": "TD_FLAG"
                },
                {
                  "0": "Column",
                  "1": "Null Count",
                  "2": "0",
                  "3": "MESA_FLAG"
                },
                {
                  "0": "Column",
                  "1": "Null Percent",
                  "2": "0.00%",
                  "3": "MESA_FLAG"
                },
                {
                  "0": "Column",
                  "1": "Data Type",
                  "2": "IntegerType()",
                  "3": "MESA_FLAG"
                },
                {
                  "0": "Column",
                  "1": "Null Count",
                  "2": "0",
                  "3": "ADQUIRENCIA_FLAG"
                },
                {
                  "0": "Column",
                  "1": "Null Percent",
                  "2": "0.00%",
                  "3": "ADQUIRENCIA_FLAG"
                },
                {
                  "0": "Column",
                  "1": "Data Type",
                  "2": "IntegerType()",
                  "3": "ADQUIRENCIA_FLAG"
                },
                {
                  "0": "Column",
                  "1": "Null Count",
                  "2": "0",
                  "3": "PAGOS_FLAG"
                },
                {
                  "0": "Column",
                  "1": "Null Percent",
                  "2": "0.00%",
                  "3": "PAGOS_FLAG"
                },
                {
                  "0": "Column",
                  "1": "Data Type",
                  "2": "IntegerType()",
                  "3": "PAGOS_FLAG"
                },
                {
                  "0": "Column",
                  "1": "Null Count",
                  "2": "0",
                  "3": "TRANSFERENCIAS_FLAG"
                },
                {
                  "0": "Column",
                  "1": "Null Percent",
                  "2": "0.00%",
                  "3": "TRANSFERENCIAS_FLAG"
                },
                {
                  "0": "Column",
                  "1": "Data Type",
                  "2": "IntegerType()",
                  "3": "TRANSFERENCIAS_FLAG"
                },
                {
                  "0": "Column",
                  "1": "Null Count",
                  "2": "0",
                  "3": "PAGO_PLANILLA_FLAG"
                },
                {
                  "0": "Column",
                  "1": "Null Percent",
                  "2": "0.00%",
                  "3": "PAGO_PLANILLA_FLAG"
                },
                {
                  "0": "Column",
                  "1": "Data Type",
                  "2": "IntegerType()",
                  "3": "PAGO_PLANILLA_FLAG"
                },
                {
                  "0": "Column",
                  "1": "Null Count",
                  "2": "81005",
                  "3": "GES_TC_SERVICIOS"
                },
                {
                  "0": "Column",
                  "1": "Null Percent",
                  "2": "90.17%",
                  "3": "GES_TC_SERVICIOS"
                },
                {
                  "0": "Column",
                  "1": "Data Type",
                  "2": "FloatType()",
                  "3": "GES_TC_SERVICIOS"
                },
                {
                  "0": "Column",
                  "1": "Null Count",
                  "2": "81005",
                  "3": "GES_TC_MALESTAR"
                },
                {
                  "0": "Column",
                  "1": "Null Percent",
                  "2": "90.17%",
                  "3": "GES_TC_MALESTAR"
                },
                {
                  "0": "Column",
                  "1": "Data Type",
                  "2": "FloatType()",
                  "3": "GES_TC_MALESTAR"
                },
                {
                  "0": "Column",
                  "1": "Null Count",
                  "2": "81005",
                  "3": "GES_TC_INTENTO_CANCELACION"
                },
                {
                  "0": "Column",
                  "1": "Null Percent",
                  "2": "90.17%",
                  "3": "GES_TC_INTENTO_CANCELACION"
                },
                {
                  "0": "Column",
                  "1": "Data Type",
                  "2": "FloatType()",
                  "3": "GES_TC_INTENTO_CANCELACION"
                },
                {
                  "0": "Column",
                  "1": "Null Count",
                  "2": "81005",
                  "3": "GES_TC_CANCELACION_EFECTIVA"
                },
                {
                  "0": "Column",
                  "1": "Null Percent",
                  "2": "90.17%",
                  "3": "GES_TC_CANCELACION_EFECTIVA"
                },
                {
                  "0": "Column",
                  "1": "Data Type",
                  "2": "FloatType()",
                  "3": "GES_TC_CANCELACION_EFECTIVA"
                },
                {
                  "0": "Column",
                  "1": "Null Count",
                  "2": "81005",
                  "3": "GES_TC_SALIDA_DEL_PAIS"
                },
                {
                  "0": "Column",
                  "1": "Null Percent",
                  "2": "90.17%",
                  "3": "GES_TC_SALIDA_DEL_PAIS"
                },
                {
                  "0": "Column",
                  "1": "Data Type",
                  "2": "FloatType()",
                  "3": "GES_TC_SALIDA_DEL_PAIS"
                },
                {
                  "0": "Column",
                  "1": "Null Count",
                  "2": "81005",
                  "3": "GES_TC_OTRAS"
                },
                {
                  "0": "Column",
                  "1": "Null Percent",
                  "2": "90.17%",
                  "3": "GES_TC_OTRAS"
                },
                {
                  "0": "Column",
                  "1": "Data Type",
                  "2": "FloatType()",
                  "3": "GES_TC_OTRAS"
                },
                {
                  "0": "Column",
                  "1": "Null Count",
                  "2": "862",
                  "3": "SCORE_EQUIFAX"
                },
                {
                  "0": "Column",
                  "1": "Null Percent",
                  "2": "0.96%",
                  "3": "SCORE_EQUIFAX"
                },
                {
                  "0": "Column",
                  "1": "Data Type",
                  "2": "FloatType()",
                  "3": "SCORE_EQUIFAX"
                },
                {
                  "0": "Column",
                  "1": "Null Count",
                  "2": "0",
                  "3": "CHP"
                },
                {
                  "0": "Column",
                  "1": "Null Percent",
                  "2": "0.00%",
                  "3": "CHP"
                },
                {
                  "0": "Column",
                  "1": "Data Type",
                  "2": "FloatType()",
                  "3": "CHP"
                },
                {
                  "0": "Column",
                  "1": "Null Count",
                  "2": "40409",
                  "3": "CHP_INDICADOR"
                },
                {
                  "0": "Column",
                  "1": "Null Percent",
                  "2": "44.98%",
                  "3": "CHP_INDICADOR"
                },
                {
                  "0": "Column",
                  "1": "Data Type",
                  "2": "FloatType()",
                  "3": "CHP_INDICADOR"
                },
                {
                  "0": "Column",
                  "1": "Null Count",
                  "2": "862",
                  "3": "MORA_MAXIMA_ACTUAL"
                },
                {
                  "0": "Column",
                  "1": "Null Percent",
                  "2": "0.96%",
                  "3": "MORA_MAXIMA_ACTUAL"
                },
                {
                  "0": "Column",
                  "1": "Data Type",
                  "2": "FloatType()",
                  "3": "MORA_MAXIMA_ACTUAL"
                },
                {
                  "0": "Column",
                  "1": "Null Count",
                  "2": "862",
                  "3": "MORA_MAXIMA_HISTORICA"
                },
                {
                  "0": "Column",
                  "1": "Null Percent",
                  "2": "0.96%",
                  "3": "MORA_MAXIMA_HISTORICA"
                },
                {
                  "0": "Column",
                  "1": "Data Type",
                  "2": "FloatType()",
                  "3": "MORA_MAXIMA_HISTORICA"
                },
                {
                  "0": "Column",
                  "1": "Null Count",
                  "2": "0",
                  "3": "BEHAVIOUR_DESC"
                },
                {
                  "0": "Column",
                  "1": "Null Percent",
                  "2": "0.00%",
                  "3": "BEHAVIOUR_DESC"
                },
                {
                  "0": "Column",
                  "1": "Data Type",
                  "2": "StringType()",
                  "3": "BEHAVIOUR_DESC"
                },
                {
                  "0": "Column",
                  "1": "Null Count",
                  "2": "0",
                  "3": "CATEGORIA_RIESGO"
                },
                {
                  "0": "Column",
                  "1": "Null Percent",
                  "2": "0.00%",
                  "3": "CATEGORIA_RIESGO"
                },
                {
                  "0": "Column",
                  "1": "Data Type",
                  "2": "StringType()",
                  "3": "CATEGORIA_RIESGO"
                },
                {
                  "0": "Column",
                  "1": "Null Count",
                  "2": "862",
                  "3": "RCI"
                },
                {
                  "0": "Column",
                  "1": "Null Percent",
                  "2": "0.96%",
                  "3": "RCI"
                },
                {
                  "0": "Column",
                  "1": "Data Type",
                  "2": "FloatType()",
                  "3": "RCI"
                },
                {
                  "0": "Column",
                  "1": "Null Count",
                  "2": "0",
                  "3": "XML_SALDO_TOTAL"
                },
                {
                  "0": "Column",
                  "1": "Null Percent",
                  "2": "0.00%",
                  "3": "XML_SALDO_TOTAL"
                },
                {
                  "0": "Column",
                  "1": "Data Type",
                  "2": "FloatType()",
                  "3": "XML_SALDO_TOTAL"
                },
                {
                  "0": "Column",
                  "1": "Null Count",
                  "2": "0",
                  "3": "XML_SALDO_PROMERICA"
                },
                {
                  "0": "Column",
                  "1": "Null Percent",
                  "2": "0.00%",
                  "3": "XML_SALDO_PROMERICA"
                },
                {
                  "0": "Column",
                  "1": "Data Type",
                  "2": "FloatType()",
                  "3": "XML_SALDO_PROMERICA"
                },
                {
                  "0": "Column",
                  "1": "Null Count",
                  "2": "0",
                  "3": "XML_SALDO_COMPETENCIA"
                },
                {
                  "0": "Column",
                  "1": "Null Percent",
                  "2": "0.00%",
                  "3": "XML_SALDO_COMPETENCIA"
                },
                {
                  "0": "Column",
                  "1": "Data Type",
                  "2": "FloatType()",
                  "3": "XML_SALDO_COMPETENCIA"
                },
                {
                  "0": "Column",
                  "1": "Null Count",
                  "2": "0",
                  "3": "XML_SALDO_COMPETENCIA_DIRECTA"
                },
                {
                  "0": "Column",
                  "1": "Null Percent",
                  "2": "0.00%",
                  "3": "XML_SALDO_COMPETENCIA_DIRECTA"
                },
                {
                  "0": "Column",
                  "1": "Data Type",
                  "2": "FloatType()",
                  "3": "XML_SALDO_COMPETENCIA_DIRECTA"
                },
                {
                  "0": "Column",
                  "1": "Null Count",
                  "2": "0",
                  "3": "XML_SALDO_TC_TOTAL"
                },
                {
                  "0": "Column",
                  "1": "Null Percent",
                  "2": "0.00%",
                  "3": "XML_SALDO_TC_TOTAL"
                },
                {
                  "0": "Column",
                  "1": "Data Type",
                  "2": "FloatType()",
                  "3": "XML_SALDO_TC_TOTAL"
                },
                {
                  "0": "Column",
                  "1": "Null Count",
                  "2": "0",
                  "3": "XML_SALDO_TC_PROMERICA"
                },
                {
                  "0": "Column",
                  "1": "Null Percent",
                  "2": "0.00%",
                  "3": "XML_SALDO_TC_PROMERICA"
                },
                {
                  "0": "Column",
                  "1": "Data Type",
                  "2": "FloatType()",
                  "3": "XML_SALDO_TC_PROMERICA"
                },
                {
                  "0": "Column",
                  "1": "Null Count",
                  "2": "0",
                  "3": "XML_SALDO_TC_COMPETENCIA"
                },
                {
                  "0": "Column",
                  "1": "Null Percent",
                  "2": "0.00%",
                  "3": "XML_SALDO_TC_COMPETENCIA"
                },
                {
                  "0": "Column",
                  "1": "Data Type",
                  "2": "FloatType()",
                  "3": "XML_SALDO_TC_COMPETENCIA"
                },
                {
                  "0": "Column",
                  "1": "Null Count",
                  "2": "0",
                  "3": "XML_SALDO_TC_COMPETENCIA_DIRECTA"
                },
                {
                  "0": "Column",
                  "1": "Null Percent",
                  "2": "0.00%",
                  "3": "XML_SALDO_TC_COMPETENCIA_DIRECTA"
                },
                {
                  "0": "Column",
                  "1": "Data Type",
                  "2": "FloatType()",
                  "3": "XML_SALDO_TC_COMPETENCIA_DIRECTA"
                },
                {
                  "0": "Column",
                  "1": "Null Count",
                  "2": "0",
                  "3": "XML_EXPOSICION_TOTAL"
                },
                {
                  "0": "Column",
                  "1": "Null Percent",
                  "2": "0.00%",
                  "3": "XML_EXPOSICION_TOTAL"
                },
                {
                  "0": "Column",
                  "1": "Data Type",
                  "2": "FloatType()",
                  "3": "XML_EXPOSICION_TOTAL"
                },
                {
                  "0": "Column",
                  "1": "Null Count",
                  "2": "0",
                  "3": "XML_EXPOSICION_PROMERICA"
                },
                {
                  "0": "Column",
                  "1": "Null Percent",
                  "2": "0.00%",
                  "3": "XML_EXPOSICION_PROMERICA"
                },
                {
                  "0": "Column",
                  "1": "Data Type",
                  "2": "FloatType()",
                  "3": "XML_EXPOSICION_PROMERICA"
                },
                {
                  "0": "Column",
                  "1": "Null Count",
                  "2": "0",
                  "3": "XML_EXPOSICION_COMPETENCIA"
                },
                {
                  "0": "Column",
                  "1": "Null Percent",
                  "2": "0.00%",
                  "3": "XML_EXPOSICION_COMPETENCIA"
                },
                {
                  "0": "Column",
                  "1": "Data Type",
                  "2": "FloatType()",
                  "3": "XML_EXPOSICION_COMPETENCIA"
                },
                {
                  "0": "Column",
                  "1": "Null Count",
                  "2": "0",
                  "3": "XML_EXPOSICION_COMPETENCIA_DIRECTA"
                },
                {
                  "0": "Column",
                  "1": "Null Percent",
                  "2": "0.00%",
                  "3": "XML_EXPOSICION_COMPETENCIA_DIRECTA"
                },
                {
                  "0": "Column",
                  "1": "Data Type",
                  "2": "FloatType()",
                  "3": "XML_EXPOSICION_COMPETENCIA_DIRECTA"
                },
                {
                  "0": "Column",
                  "1": "Null Count",
                  "2": "0",
                  "3": "XML_EXPOSICION_TC_TOTAL"
                },
                {
                  "0": "Column",
                  "1": "Null Percent",
                  "2": "0.00%",
                  "3": "XML_EXPOSICION_TC_TOTAL"
                },
                {
                  "0": "Column",
                  "1": "Data Type",
                  "2": "FloatType()",
                  "3": "XML_EXPOSICION_TC_TOTAL"
                },
                {
                  "0": "Column",
                  "1": "Null Count",
                  "2": "0",
                  "3": "XML_EXPOSICION_TC_PROMERICA"
                },
                {
                  "0": "Column",
                  "1": "Null Percent",
                  "2": "0.00%",
                  "3": "XML_EXPOSICION_TC_PROMERICA"
                },
                {
                  "0": "Column",
                  "1": "Data Type",
                  "2": "FloatType()",
                  "3": "XML_EXPOSICION_TC_PROMERICA"
                },
                {
                  "0": "Column",
                  "1": "Null Count",
                  "2": "0",
                  "3": "XML_EXPOSICION_TC_COMPETENCIA"
                },
                {
                  "0": "Column",
                  "1": "Null Percent",
                  "2": "0.00%",
                  "3": "XML_EXPOSICION_TC_COMPETENCIA"
                },
                {
                  "0": "Column",
                  "1": "Data Type",
                  "2": "FloatType()",
                  "3": "XML_EXPOSICION_TC_COMPETENCIA"
                },
                {
                  "0": "Column",
                  "1": "Null Count",
                  "2": "0",
                  "3": "XML_EXPOSICION_TC_COMPETENCIA_DIRECTA"
                },
                {
                  "0": "Column",
                  "1": "Null Percent",
                  "2": "0.00%",
                  "3": "XML_EXPOSICION_TC_COMPETENCIA_DIRECTA"
                },
                {
                  "0": "Column",
                  "1": "Data Type",
                  "2": "FloatType()",
                  "3": "XML_EXPOSICION_TC_COMPETENCIA_DIRECTA"
                },
                {
                  "0": "Column",
                  "1": "Null Count",
                  "2": "0",
                  "3": "XML_CUOTA_TOTAL"
                },
                {
                  "0": "Column",
                  "1": "Null Percent",
                  "2": "0.00%",
                  "3": "XML_CUOTA_TOTAL"
                },
                {
                  "0": "Column",
                  "1": "Data Type",
                  "2": "FloatType()",
                  "3": "XML_CUOTA_TOTAL"
                },
                {
                  "0": "Column",
                  "1": "Null Count",
                  "2": "0",
                  "3": "XML_CUOTA_PROMERICA"
                },
                {
                  "0": "Column",
                  "1": "Null Percent",
                  "2": "0.00%",
                  "3": "XML_CUOTA_PROMERICA"
                },
                {
                  "0": "Column",
                  "1": "Data Type",
                  "2": "FloatType()",
                  "3": "XML_CUOTA_PROMERICA"
                },
                {
                  "0": "Column",
                  "1": "Null Count",
                  "2": "0",
                  "3": "XML_CUOTA_COMPETENCIA"
                },
                {
                  "0": "Column",
                  "1": "Null Percent",
                  "2": "0.00%",
                  "3": "XML_CUOTA_COMPETENCIA"
                },
                {
                  "0": "Column",
                  "1": "Data Type",
                  "2": "FloatType()",
                  "3": "XML_CUOTA_COMPETENCIA"
                },
                {
                  "0": "Column",
                  "1": "Null Count",
                  "2": "0",
                  "3": "XML_CUOTA_COMPETENCIA_DIRECTA"
                },
                {
                  "0": "Column",
                  "1": "Null Percent",
                  "2": "0.00%",
                  "3": "XML_CUOTA_COMPETENCIA_DIRECTA"
                },
                {
                  "0": "Column",
                  "1": "Data Type",
                  "2": "FloatType()",
                  "3": "XML_CUOTA_COMPETENCIA_DIRECTA"
                },
                {
                  "0": "Column",
                  "1": "Null Count",
                  "2": "0",
                  "3": "XML_CUOTA_TC_TOTAL"
                },
                {
                  "0": "Column",
                  "1": "Null Percent",
                  "2": "0.00%",
                  "3": "XML_CUOTA_TC_TOTAL"
                },
                {
                  "0": "Column",
                  "1": "Data Type",
                  "2": "FloatType()",
                  "3": "XML_CUOTA_TC_TOTAL"
                },
                {
                  "0": "Column",
                  "1": "Null Count",
                  "2": "0",
                  "3": "XML_CUOTA_TC_PROMERICA"
                },
                {
                  "0": "Column",
                  "1": "Null Percent",
                  "2": "0.00%",
                  "3": "XML_CUOTA_TC_PROMERICA"
                },
                {
                  "0": "Column",
                  "1": "Data Type",
                  "2": "FloatType()",
                  "3": "XML_CUOTA_TC_PROMERICA"
                },
                {
                  "0": "Column",
                  "1": "Null Count",
                  "2": "0",
                  "3": "XML_CUOTA_TC_COMPETENCIA"
                },
                {
                  "0": "Column",
                  "1": "Null Percent",
                  "2": "0.00%",
                  "3": "XML_CUOTA_TC_COMPETENCIA"
                },
                {
                  "0": "Column",
                  "1": "Data Type",
                  "2": "FloatType()",
                  "3": "XML_CUOTA_TC_COMPETENCIA"
                },
                {
                  "0": "Column",
                  "1": "Null Count",
                  "2": "0",
                  "3": "XML_CUOTA_TC_COMPETENCIA_DIRECTA"
                },
                {
                  "0": "Column",
                  "1": "Null Percent",
                  "2": "0.00%",
                  "3": "XML_CUOTA_TC_COMPETENCIA_DIRECTA"
                },
                {
                  "0": "Column",
                  "1": "Data Type",
                  "2": "FloatType()",
                  "3": "XML_CUOTA_TC_COMPETENCIA_DIRECTA"
                },
                {
                  "0": "Column",
                  "1": "Null Count",
                  "2": "0",
                  "3": "XML_OPERACIONES_COMPETENCIA"
                },
                {
                  "0": "Column",
                  "1": "Null Percent",
                  "2": "0.00%",
                  "3": "XML_OPERACIONES_COMPETENCIA"
                },
                {
                  "0": "Column",
                  "1": "Data Type",
                  "2": "IntegerType()",
                  "3": "XML_OPERACIONES_COMPETENCIA"
                },
                {
                  "0": "Column",
                  "1": "Null Count",
                  "2": "0",
                  "3": "XML_OPERACIONES_TC_COMPETENCIA"
                },
                {
                  "0": "Column",
                  "1": "Null Percent",
                  "2": "0.00%",
                  "3": "XML_OPERACIONES_TC_COMPETENCIA"
                },
                {
                  "0": "Column",
                  "1": "Data Type",
                  "2": "IntegerType()",
                  "3": "XML_OPERACIONES_TC_COMPETENCIA"
                },
                {
                  "0": "Column",
                  "1": "Null Count",
                  "2": "0",
                  "3": "XML_Q_ENTIDADES_COMPETENCIA"
                },
                {
                  "0": "Column",
                  "1": "Null Percent",
                  "2": "0.00%",
                  "3": "XML_Q_ENTIDADES_COMPETENCIA"
                },
                {
                  "0": "Column",
                  "1": "Data Type",
                  "2": "IntegerType()",
                  "3": "XML_Q_ENTIDADES_COMPETENCIA"
                },
                {
                  "0": "Column",
                  "1": "Null Count",
                  "2": "0",
                  "3": "XML_Q_ENTIDADES_TC_COMPETENCIA"
                },
                {
                  "0": "Column",
                  "1": "Null Percent",
                  "2": "0.00%",
                  "3": "XML_Q_ENTIDADES_TC_COMPETENCIA"
                },
                {
                  "0": "Column",
                  "1": "Data Type",
                  "2": "IntegerType()",
                  "3": "XML_Q_ENTIDADES_TC_COMPETENCIA"
                },
                {
                  "0": "Column",
                  "1": "Null Count",
                  "2": "86136",
                  "3": "TC_Q_VENCIMIENTOS"
                },
                {
                  "0": "Column",
                  "1": "Null Percent",
                  "2": "95.88%",
                  "3": "TC_Q_VENCIMIENTOS"
                },
                {
                  "0": "Column",
                  "1": "Data Type",
                  "2": "FloatType()",
                  "3": "TC_Q_VENCIMIENTOS"
                },
                {
                  "0": "Column",
                  "1": "Null Count",
                  "2": "86136",
                  "3": "TC_Q_MORA_15"
                },
                {
                  "0": "Column",
                  "1": "Null Percent",
                  "2": "95.88%",
                  "3": "TC_Q_MORA_15"
                },
                {
                  "0": "Column",
                  "1": "Data Type",
                  "2": "FloatType()",
                  "3": "TC_Q_MORA_15"
                },
                {
                  "0": "Column",
                  "1": "Null Count",
                  "2": "86136",
                  "3": "TC_Q_MORA_30"
                },
                {
                  "0": "Column",
                  "1": "Null Percent",
                  "2": "95.88%",
                  "3": "TC_Q_MORA_30"
                },
                {
                  "0": "Column",
                  "1": "Data Type",
                  "2": "FloatType()",
                  "3": "TC_Q_MORA_30"
                },
                {
                  "0": "Column",
                  "1": "Null Count",
                  "2": "86136",
                  "3": "TC_Q_MORA_45"
                },
                {
                  "0": "Column",
                  "1": "Null Percent",
                  "2": "95.88%",
                  "3": "TC_Q_MORA_45"
                },
                {
                  "0": "Column",
                  "1": "Data Type",
                  "2": "FloatType()",
                  "3": "TC_Q_MORA_45"
                },
                {
                  "0": "Column",
                  "1": "Null Count",
                  "2": "86136",
                  "3": "TC_Q_MORA_60"
                },
                {
                  "0": "Column",
                  "1": "Null Percent",
                  "2": "95.88%",
                  "3": "TC_Q_MORA_60"
                },
                {
                  "0": "Column",
                  "1": "Data Type",
                  "2": "FloatType()",
                  "3": "TC_Q_MORA_60"
                },
                {
                  "0": "Column",
                  "1": "Null Count",
                  "2": "86136",
                  "3": "TC_CHP_2"
                },
                {
                  "0": "Column",
                  "1": "Null Percent",
                  "2": "95.88%",
                  "3": "TC_CHP_2"
                },
                {
                  "0": "Column",
                  "1": "Data Type",
                  "2": "FloatType()",
                  "3": "TC_CHP_2"
                },
                {
                  "0": "Column",
                  "1": "Null Count",
                  "2": "86136",
                  "3": "TC_CHP_3"
                },
                {
                  "0": "Column",
                  "1": "Null Percent",
                  "2": "95.88%",
                  "3": "TC_CHP_3"
                },
                {
                  "0": "Column",
                  "1": "Data Type",
                  "2": "FloatType()",
                  "3": "TC_CHP_3"
                },
                {
                  "0": "Column",
                  "1": "Null Count",
                  "2": "83920",
                  "3": "TC_Q_CAT_A2"
                },
                {
                  "0": "Column",
                  "1": "Null Percent",
                  "2": "93.41%",
                  "3": "TC_Q_CAT_A2"
                },
                {
                  "0": "Column",
                  "1": "Data Type",
                  "2": "FloatType()",
                  "3": "TC_Q_CAT_A2"
                },
                {
                  "0": "Column",
                  "1": "Null Count",
                  "2": "83920",
                  "3": "TC_Q_CAT_B1"
                },
                {
                  "0": "Column",
                  "1": "Null Percent",
                  "2": "93.41%",
                  "3": "TC_Q_CAT_B1"
                },
                {
                  "0": "Column",
                  "1": "Data Type",
                  "2": "FloatType()",
                  "3": "TC_Q_CAT_B1"
                },
                {
                  "0": "Column",
                  "1": "Null Count",
                  "2": "83920",
                  "3": "TC_Q_CAT_B2"
                },
                {
                  "0": "Column",
                  "1": "Null Percent",
                  "2": "93.41%",
                  "3": "TC_Q_CAT_B2"
                },
                {
                  "0": "Column",
                  "1": "Data Type",
                  "2": "FloatType()",
                  "3": "TC_Q_CAT_B2"
                },
                {
                  "0": "Column",
                  "1": "Null Count",
                  "2": "83920",
                  "3": "TC_Q_CAT_C1"
                },
                {
                  "0": "Column",
                  "1": "Null Percent",
                  "2": "93.41%",
                  "3": "TC_Q_CAT_C1"
                },
                {
                  "0": "Column",
                  "1": "Data Type",
                  "2": "FloatType()",
                  "3": "TC_Q_CAT_C1"
                },
                {
                  "0": "Column",
                  "1": "Null Count",
                  "2": "83920",
                  "3": "TC_Q_CAT_C2"
                },
                {
                  "0": "Column",
                  "1": "Null Percent",
                  "2": "93.41%",
                  "3": "TC_Q_CAT_C2"
                },
                {
                  "0": "Column",
                  "1": "Data Type",
                  "2": "FloatType()",
                  "3": "TC_Q_CAT_C2"
                },
                {
                  "0": "Column",
                  "1": "Null Count",
                  "2": "83920",
                  "3": "TC_Q_CAT_D"
                },
                {
                  "0": "Column",
                  "1": "Null Percent",
                  "2": "93.41%",
                  "3": "TC_Q_CAT_D"
                },
                {
                  "0": "Column",
                  "1": "Data Type",
                  "2": "FloatType()",
                  "3": "TC_Q_CAT_D"
                },
                {
                  "0": "Column",
                  "1": "Null Count",
                  "2": "83920",
                  "3": "TC_Q_CAT_E"
                },
                {
                  "0": "Column",
                  "1": "Null Percent",
                  "2": "93.41%",
                  "3": "TC_Q_CAT_E"
                },
                {
                  "0": "Column",
                  "1": "Data Type",
                  "2": "FloatType()",
                  "3": "TC_Q_CAT_E"
                },
                {
                  "0": "Column",
                  "1": "Null Count",
                  "2": "83920",
                  "3": "TC_Q_R2_1"
                },
                {
                  "0": "Column",
                  "1": "Null Percent",
                  "2": "93.41%",
                  "3": "TC_Q_R2_1"
                },
                {
                  "0": "Column",
                  "1": "Data Type",
                  "2": "FloatType()",
                  "3": "TC_Q_R2_1"
                },
                {
                  "0": "Column",
                  "1": "Null Count",
                  "2": "83920",
                  "3": "TC_Q_R2_2"
                },
                {
                  "0": "Column",
                  "1": "Null Percent",
                  "2": "93.41%",
                  "3": "TC_Q_R2_2"
                },
                {
                  "0": "Column",
                  "1": "Data Type",
                  "2": "FloatType()",
                  "3": "TC_Q_R2_2"
                },
                {
                  "0": "Column",
                  "1": "Null Count",
                  "2": "83920",
                  "3": "TC_Q_R2_3"
                },
                {
                  "0": "Column",
                  "1": "Null Percent",
                  "2": "93.41%",
                  "3": "TC_Q_R2_3"
                },
                {
                  "0": "Column",
                  "1": "Data Type",
                  "2": "FloatType()",
                  "3": "TC_Q_R2_3"
                },
                {
                  "0": "Column",
                  "1": "Null Count",
                  "2": "83920",
                  "3": "TC_Q_R3_1"
                },
                {
                  "0": "Column",
                  "1": "Null Percent",
                  "2": "93.41%",
                  "3": "TC_Q_R3_1"
                },
                {
                  "0": "Column",
                  "1": "Data Type",
                  "2": "FloatType()",
                  "3": "TC_Q_R3_1"
                },
                {
                  "0": "Column",
                  "1": "Null Count",
                  "2": "83920",
                  "3": "TC_Q_R3_2"
                },
                {
                  "0": "Column",
                  "1": "Null Percent",
                  "2": "93.41%",
                  "3": "TC_Q_R3_2"
                },
                {
                  "0": "Column",
                  "1": "Data Type",
                  "2": "FloatType()",
                  "3": "TC_Q_R3_2"
                },
                {
                  "0": "Column",
                  "1": "Null Count",
                  "2": "83920",
                  "3": "TC_Q_R3_3"
                },
                {
                  "0": "Column",
                  "1": "Null Percent",
                  "2": "93.41%",
                  "3": "TC_Q_R3_3"
                },
                {
                  "0": "Column",
                  "1": "Data Type",
                  "2": "FloatType()",
                  "3": "TC_Q_R3_3"
                },
                {
                  "0": "Column",
                  "1": "Null Count",
                  "2": "83920",
                  "3": "TC_Q_R3_4"
                },
                {
                  "0": "Column",
                  "1": "Null Percent",
                  "2": "93.41%",
                  "3": "TC_Q_R3_4"
                },
                {
                  "0": "Column",
                  "1": "Data Type",
                  "2": "FloatType()",
                  "3": "TC_Q_R3_4"
                },
                {
                  "0": "Column",
                  "1": "Null Count",
                  "2": "83920",
                  "3": "TC_Q_R3_5"
                },
                {
                  "0": "Column",
                  "1": "Null Percent",
                  "2": "93.41%",
                  "3": "TC_Q_R3_5"
                },
                {
                  "0": "Column",
                  "1": "Data Type",
                  "2": "FloatType()",
                  "3": "TC_Q_R3_5"
                },
                {
                  "0": "Column",
                  "1": "Null Count",
                  "2": "83920",
                  "3": "TC_Q_R3_6"
                },
                {
                  "0": "Column",
                  "1": "Null Percent",
                  "2": "93.41%",
                  "3": "TC_Q_R3_6"
                },
                {
                  "0": "Column",
                  "1": "Data Type",
                  "2": "FloatType()",
                  "3": "TC_Q_R3_6"
                },
                {
                  "0": "Column",
                  "1": "Null Count",
                  "2": "0",
                  "3": "LISTA_MALAS_REFERENCIAS_MONTO"
                },
                {
                  "0": "Column",
                  "1": "Null Percent",
                  "2": "0.00%",
                  "3": "LISTA_MALAS_REFERENCIAS_MONTO"
                },
                {
                  "0": "Column",
                  "1": "Data Type",
                  "2": "FloatType()",
                  "3": "LISTA_MALAS_REFERENCIAS_MONTO"
                },
                {
                  "0": "Column",
                  "1": "Null Count",
                  "2": "0",
                  "3": "LISTA_JUICIOS_MONTO"
                },
                {
                  "0": "Column",
                  "1": "Null Percent",
                  "2": "0.00%",
                  "3": "LISTA_JUICIOS_MONTO"
                },
                {
                  "0": "Column",
                  "1": "Data Type",
                  "2": "FloatType()",
                  "3": "LISTA_JUICIOS_MONTO"
                },
                {
                  "0": "Column",
                  "1": "Null Count",
                  "2": "0",
                  "3": "LISTA_GIE_DESC"
                },
                {
                  "0": "Column",
                  "1": "Null Percent",
                  "2": "0.00%",
                  "3": "LISTA_GIE_DESC"
                },
                {
                  "0": "Column",
                  "1": "Data Type",
                  "2": "StringType()",
                  "3": "LISTA_GIE_DESC"
                },
                {
                  "0": "Column",
                  "1": "Null Count",
                  "2": "862",
                  "3": "LISTA_NEGRA_FLAG"
                },
                {
                  "0": "Column",
                  "1": "Null Percent",
                  "2": "0.96%",
                  "3": "LISTA_NEGRA_FLAG"
                },
                {
                  "0": "Column",
                  "1": "Data Type",
                  "2": "IntegerType()",
                  "3": "LISTA_NEGRA_FLAG"
                },
                {
                  "0": "Column",
                  "1": "Null Count",
                  "2": "862",
                  "3": "LISTA_OFICIALIA_FLAG"
                },
                {
                  "0": "Column",
                  "1": "Null Percent",
                  "2": "0.96%",
                  "3": "LISTA_OFICIALIA_FLAG"
                },
                {
                  "0": "Column",
                  "1": "Data Type",
                  "2": "IntegerType()",
                  "3": "LISTA_OFICIALIA_FLAG"
                },
                {
                  "0": "Column",
                  "1": "Null Count",
                  "2": "862",
                  "3": "LISTA_PATRONOS_FLAG"
                },
                {
                  "0": "Column",
                  "1": "Null Percent",
                  "2": "0.96%",
                  "3": "LISTA_PATRONOS_FLAG"
                },
                {
                  "0": "Column",
                  "1": "Data Type",
                  "2": "IntegerType()",
                  "3": "LISTA_PATRONOS_FLAG"
                },
                {
                  "0": "Column",
                  "1": "Null Count",
                  "2": "862",
                  "3": "LISTA_EXCLUSION_FLAG"
                },
                {
                  "0": "Column",
                  "1": "Null Percent",
                  "2": "0.96%",
                  "3": "LISTA_EXCLUSION_FLAG"
                },
                {
                  "0": "Column",
                  "1": "Data Type",
                  "2": "IntegerType()",
                  "3": "LISTA_EXCLUSION_FLAG"
                },
                {
                  "0": "Column",
                  "1": "Null Count",
                  "2": "862",
                  "3": "LISTA_GIE_FLAG"
                },
                {
                  "0": "Column",
                  "1": "Null Percent",
                  "2": "0.96%",
                  "3": "LISTA_GIE_FLAG"
                },
                {
                  "0": "Column",
                  "1": "Data Type",
                  "2": "IntegerType()",
                  "3": "LISTA_GIE_FLAG"
                },
                {
                  "0": "Column",
                  "1": "Null Count",
                  "2": "862",
                  "3": "LISTA_GRUPO_DEUDOR_FLAG"
                },
                {
                  "0": "Column",
                  "1": "Null Percent",
                  "2": "0.96%",
                  "3": "LISTA_GRUPO_DEUDOR_FLAG"
                },
                {
                  "0": "Column",
                  "1": "Data Type",
                  "2": "IntegerType()",
                  "3": "LISTA_GRUPO_DEUDOR_FLAG"
                },
                {
                  "0": "Column",
                  "1": "Null Count",
                  "2": "13584",
                  "3": "LISTA_LAVADO_FLAG"
                },
                {
                  "0": "Column",
                  "1": "Null Percent",
                  "2": "15.12%",
                  "3": "LISTA_LAVADO_FLAG"
                },
                {
                  "0": "Column",
                  "1": "Data Type",
                  "2": "IntegerType()",
                  "3": "LISTA_LAVADO_FLAG"
                },
                {
                  "0": "Column",
                  "1": "Null Count",
                  "2": "13584",
                  "3": "LISTA_JUICIOS_FLAG"
                },
                {
                  "0": "Column",
                  "1": "Null Percent",
                  "2": "15.12%",
                  "3": "LISTA_JUICIOS_FLAG"
                },
                {
                  "0": "Column",
                  "1": "Data Type",
                  "2": "IntegerType()",
                  "3": "LISTA_JUICIOS_FLAG"
                },
                {
                  "0": "Column",
                  "1": "Null Count",
                  "2": "13584",
                  "3": "LISTA_SEGURIDAD_FLAG"
                },
                {
                  "0": "Column",
                  "1": "Null Percent",
                  "2": "15.12%",
                  "3": "LISTA_SEGURIDAD_FLAG"
                },
                {
                  "0": "Column",
                  "1": "Data Type",
                  "2": "IntegerType()",
                  "3": "LISTA_SEGURIDAD_FLAG"
                },
                {
                  "0": "Column",
                  "1": "Null Count",
                  "2": "862",
                  "3": "LISTA_PEP_FLAG"
                },
                {
                  "0": "Column",
                  "1": "Null Percent",
                  "2": "0.96%",
                  "3": "LISTA_PEP_FLAG"
                },
                {
                  "0": "Column",
                  "1": "Data Type",
                  "2": "IntegerType()",
                  "3": "LISTA_PEP_FLAG"
                },
                {
                  "0": "Column",
                  "1": "Null Count",
                  "2": "0",
                  "3": "SEGMENTACION_OPERATIVA"
                },
                {
                  "0": "Column",
                  "1": "Null Percent",
                  "2": "0.00%",
                  "3": "SEGMENTACION_OPERATIVA"
                },
                {
                  "0": "Column",
                  "1": "Data Type",
                  "2": "StringType()",
                  "3": "SEGMENTACION_OPERATIVA"
                },
                {
                  "0": "Column",
                  "1": "Null Count",
                  "2": "0",
                  "3": "ARQUETIPO"
                },
                {
                  "0": "Column",
                  "1": "Null Percent",
                  "2": "0.00%",
                  "3": "ARQUETIPO"
                },
                {
                  "0": "Column",
                  "1": "Data Type",
                  "2": "StringType()",
                  "3": "ARQUETIPO"
                },
                {
                  "0": "Column",
                  "1": "Null Count",
                  "2": "3692",
                  "3": "SEGMENTACION_ESTRATEGICA"
                },
                {
                  "0": "Column",
                  "1": "Null Percent",
                  "2": "4.11%",
                  "3": "SEGMENTACION_ESTRATEGICA"
                },
                {
                  "0": "Column",
                  "1": "Data Type",
                  "2": "StringType()",
                  "3": "SEGMENTACION_ESTRATEGICA"
                },
                {
                  "0": "Column",
                  "1": "Null Count",
                  "2": "0",
                  "3": "SEGMENTACION_CARTERA"
                },
                {
                  "0": "Column",
                  "1": "Null Percent",
                  "2": "0.00%",
                  "3": "SEGMENTACION_CARTERA"
                },
                {
                  "0": "Column",
                  "1": "Data Type",
                  "2": "StringType()",
                  "3": "SEGMENTACION_CARTERA"
                },
                {
                  "0": "Column",
                  "1": "Null Count",
                  "2": "0",
                  "3": "FEC_CORTE"
                },
                {
                  "0": "Column",
                  "1": "Null Percent",
                  "2": "0.00%",
                  "3": "FEC_CORTE"
                },
                {
                  "0": "Column",
                  "1": "Data Type",
                  "2": "StringType()",
                  "3": "FEC_CORTE"
                },
                {
                  "0": "Column",
                  "1": "Null Count",
                  "2": "15",
                  "3": "PROFESION_CATEGORIA"
                },
                {
                  "0": "Column",
                  "1": "Null Percent",
                  "2": "0.02%",
                  "3": "PROFESION_CATEGORIA"
                },
                {
                  "0": "Column",
                  "1": "Data Type",
                  "2": "StringType()",
                  "3": "PROFESION_CATEGORIA"
                },
                {
                  "0": "Column",
                  "1": "Null Count",
                  "2": "15",
                  "3": "NIVEL_EDUCATIVO"
                },
                {
                  "0": "Column",
                  "1": "Null Percent",
                  "2": "0.02%",
                  "3": "NIVEL_EDUCATIVO"
                },
                {
                  "0": "Column",
                  "1": "Data Type",
                  "2": "StringType()",
                  "3": "NIVEL_EDUCATIVO"
                }
              ],
              "schema": [
                {
                  "key": "0",
                  "name": "metric_type",
                  "type": "string"
                },
                {
                  "key": "1",
                  "name": "metric_name",
                  "type": "string"
                },
                {
                  "key": "2",
                  "name": "value",
                  "type": "string"
                },
                {
                  "key": "3",
                  "name": "column",
                  "type": "string"
                }
              ],
              "truncated": false
            }
          },
          "type": "Synapse.DataFrame"
        },
        "53f0cfdc-9636-4f9a-bd70-b6195c31fd36": {
          "persist_state": {
            "view": {
              "chartOptions": {
                "aggregationType": "sum",
                "categoryFieldKeys": [
                  "0"
                ],
                "chartType": "bar",
                "isStacked": false,
                "seriesFieldKeys": [
                  "2"
                ]
              },
              "tableOptions": {},
              "type": "details"
            }
          },
          "sync_state": {
            "isSummary": false,
            "language": "scala",
            "table": {
              "rows": [
                {
                  "0": "TC_Q_VENCIMIENTOS",
                  "1": "TC_Q_MORA_30",
                  "2": "0.6252849517339473"
                }
              ],
              "schema": [
                {
                  "key": "0",
                  "name": "Columna 1",
                  "type": "string"
                },
                {
                  "key": "1",
                  "name": "Columna 2",
                  "type": "string"
                },
                {
                  "key": "2",
                  "name": "Correlación",
                  "type": "double"
                }
              ],
              "truncated": false
            }
          },
          "type": "Synapse.DataFrame"
        },
        "a78c3d02-b2a9-4366-8b67-0923647f8ac3": {
          "persist_state": {
            "view": {
              "chartOptions": {
                "aggregationType": "sum",
                "categoryFieldKeys": [
                  "0"
                ],
                "chartType": "bar",
                "isStacked": false,
                "seriesFieldKeys": [
                  "2"
                ]
              },
              "tableOptions": {},
              "type": "details"
            }
          },
          "sync_state": {
            "isSummary": false,
            "language": "scala",
            "table": {
              "rows": [
                {
                  "0": "TC_Q_MORA_30",
                  "1": "TC_Q_MORA_45",
                  "2": "0.9561851358454132"
                },
                {
                  "0": "TC_Q_VENCIMIENTOS",
                  "1": "TC_Q_MORA_15",
                  "2": "0.8908039075987984"
                },
                {
                  "0": "TC_Q_MORA_45",
                  "1": "TC_Q_MORA_60",
                  "2": "0.8141236271834696"
                },
                {
                  "0": "TC_Q_MORA_30",
                  "1": "TC_Q_MORA_60",
                  "2": "0.7784529110557763"
                },
                {
                  "0": "TC_Q_MORA_15",
                  "1": "TC_Q_MORA_30",
                  "2": "0.7019333283167324"
                },
                {
                  "0": "TC_Q_MORA_15",
                  "1": "TC_Q_MORA_45",
                  "2": "0.6711782148927595"
                },
                {
                  "0": "CE_FLAG",
                  "1": "TD_FLAG",
                  "2": "0.6594309994534354"
                },
                {
                  "0": "MORA_MAXIMA_ACTUAL",
                  "1": "MORA_MAXIMA_HISTORICA",
                  "2": "0.6430816025810172"
                },
                {
                  "0": "NSE",
                  "1": "SCORE_EQUIFAX",
                  "2": "0.6316795262939143"
                },
                {
                  "0": "TC_Q_VENCIMIENTOS",
                  "1": "TC_Q_MORA_30",
                  "2": "0.6252849517339473"
                },
                {
                  "0": "GES_TC_INTENTO_CANCELACION",
                  "1": "GES_TC_CANCELACION_EFECTIVA",
                  "2": "0.5993824000567001"
                },
                {
                  "0": "TC_Q_VENCIMIENTOS",
                  "1": "TC_Q_MORA_45",
                  "2": "0.5978881765043907"
                },
                {
                  "0": "TC_Q_MORA_15",
                  "1": "TC_Q_MORA_60",
                  "2": "0.5464220427895077"
                }
              ],
              "schema": [
                {
                  "key": "0",
                  "name": "Columna 1",
                  "type": "string"
                },
                {
                  "key": "1",
                  "name": "Columna 2",
                  "type": "string"
                },
                {
                  "key": "2",
                  "name": "Correlación",
                  "type": "double"
                }
              ],
              "truncated": false
            }
          },
          "type": "Synapse.DataFrame"
        },
        "bb14f932-f7e7-4600-ab20-40f320c47367": {
          "persist_state": {
            "view": {
              "chartOptions": {
                "aggregationType": "sum",
                "categoryFieldKeys": [
                  "0"
                ],
                "chartType": "bar",
                "isStacked": false,
                "seriesFieldKeys": [
                  "1"
                ]
              },
              "tableOptions": {},
              "type": "details"
            }
          },
          "sync_state": {
            "isSummary": false,
            "language": "scala",
            "table": {
              "rows": [
                {
                  "0": "GRADO_ACADEMICO",
                  "1": "81747",
                  "2": "90.99378881987577"
                },
                {
                  "0": "RANGO_CANTIDAD_PRODUCTOS_CORE",
                  "1": "3692",
                  "2": "4.1096195373895235"
                },
                {
                  "0": "IVP",
                  "1": "3692",
                  "2": "4.1096195373895235"
                },
                {
                  "0": "RANGO_IVP",
                  "1": "3692",
                  "2": "4.1096195373895235"
                },
                {
                  "0": "CANTIDAD_PRODUCTOS_CORE",
                  "1": "3692",
                  "2": "4.1096195373895235"
                },
                {
                  "0": "PRODUCTOS_ACTIVOS",
                  "1": "3692",
                  "2": "4.1096195373895235"
                },
                {
                  "0": "PRODUCTOS_INACTIVOS",
                  "1": "3692",
                  "2": "4.1096195373895235"
                },
                {
                  "0": "SEGMENTACION_ESTRATEGICA",
                  "1": "3692",
                  "2": "4.1096195373895235"
                },
                {
                  "0": "NIVEL_EDUCATIVO",
                  "1": "15",
                  "2": "0.016696720764041943"
                },
                {
                  "0": "PROFESION_CATEGORIA",
                  "1": "15",
                  "2": "0.016696720764041943"
                },
                {
                  "0": "FUENTE_INGRESOS",
                  "1": "0",
                  "2": "0.0"
                },
                {
                  "0": "NOM_PATRONO",
                  "1": "0",
                  "2": "0.0"
                },
                {
                  "0": "ANTIGUEDAD_LABORAL",
                  "1": "0",
                  "2": "0.0"
                },
                {
                  "0": "NSE",
                  "1": "0",
                  "2": "0.0"
                },
                {
                  "0": "PAIS_DEFAULT",
                  "1": "0",
                  "2": "0.0"
                },
                {
                  "0": "PROVINCIA_DEFAULT",
                  "1": "0",
                  "2": "0.0"
                },
                {
                  "0": "CANTON_DEFAULT",
                  "1": "0",
                  "2": "0.0"
                },
                {
                  "0": "DISTRITO_DEFAULT",
                  "1": "0",
                  "2": "0.0"
                },
                {
                  "0": "PROVINCIA_TRABAJO",
                  "1": "0",
                  "2": "0.0"
                },
                {
                  "0": "CANTON_TRABAJO",
                  "1": "0",
                  "2": "0.0"
                },
                {
                  "0": "DISTRITO_TRABAJO",
                  "1": "0",
                  "2": "0.0"
                },
                {
                  "0": "PROVINCIA_VOTO",
                  "1": "0",
                  "2": "0.0"
                },
                {
                  "0": "CANTON_VOTO",
                  "1": "0",
                  "2": "0.0"
                },
                {
                  "0": "DISTRITO_VOTO",
                  "1": "0",
                  "2": "0.0"
                },
                {
                  "0": "ESTADO_PERSONA",
                  "1": "0",
                  "2": "0.0"
                },
                {
                  "0": "TIPO_CLIENTE",
                  "1": "0",
                  "2": "0.0"
                },
                {
                  "0": "GERENCIA",
                  "1": "0",
                  "2": "0.0"
                },
                {
                  "0": "XML_EXPOSICION_TC_PROMERICA",
                  "1": "0",
                  "2": "0.0"
                },
                {
                  "0": "XML_EXPOSICION_TC_COMPETENCIA",
                  "1": "0",
                  "2": "0.0"
                },
                {
                  "0": "XML_EXPOSICION_TC_COMPETENCIA_DIRECTA",
                  "1": "0",
                  "2": "0.0"
                },
                {
                  "0": "XML_CUOTA_TOTAL",
                  "1": "0",
                  "2": "0.0"
                },
                {
                  "0": "XML_CUOTA_PROMERICA",
                  "1": "0",
                  "2": "0.0"
                },
                {
                  "0": "XML_CUOTA_COMPETENCIA",
                  "1": "0",
                  "2": "0.0"
                },
                {
                  "0": "XML_CUOTA_COMPETENCIA_DIRECTA",
                  "1": "0",
                  "2": "0.0"
                },
                {
                  "0": "XML_CUOTA_TC_TOTAL",
                  "1": "0",
                  "2": "0.0"
                },
                {
                  "0": "XML_CUOTA_TC_PROMERICA",
                  "1": "0",
                  "2": "0.0"
                },
                {
                  "0": "XML_CUOTA_TC_COMPETENCIA",
                  "1": "0",
                  "2": "0.0"
                },
                {
                  "0": "XML_CUOTA_TC_COMPETENCIA_DIRECTA",
                  "1": "0",
                  "2": "0.0"
                },
                {
                  "0": "XML_OPERACIONES_COMPETENCIA",
                  "1": "0",
                  "2": "0.0"
                },
                {
                  "0": "XML_OPERACIONES_TC_COMPETENCIA",
                  "1": "0",
                  "2": "0.0"
                },
                {
                  "0": "XML_Q_ENTIDADES_COMPETENCIA",
                  "1": "0",
                  "2": "0.0"
                },
                {
                  "0": "XML_Q_ENTIDADES_TC_COMPETENCIA",
                  "1": "0",
                  "2": "0.0"
                },
                {
                  "0": "TC_Q_VENCIMIENTOS",
                  "1": "0",
                  "2": "0.0"
                },
                {
                  "0": "TC_Q_MORA_15",
                  "1": "0",
                  "2": "0.0"
                },
                {
                  "0": "COD_PROMOTOR",
                  "1": "0",
                  "2": "0.0"
                },
                {
                  "0": "PROMOTOR_ACTIVO",
                  "1": "0",
                  "2": "0.0"
                },
                {
                  "0": "CE_FLAG",
                  "1": "0",
                  "2": "0.0"
                },
                {
                  "0": "UNIDAD_NEGOCIO",
                  "1": "0",
                  "2": "0.0"
                },
                {
                  "0": "AREA_FUNCIONAL",
                  "1": "0",
                  "2": "0.0"
                },
                {
                  "0": "CDI_FLAG",
                  "1": "0",
                  "2": "0.0"
                },
                {
                  "0": "PLAN_METAS_FLAG",
                  "1": "0",
                  "2": "0.0"
                },
                {
                  "0": "CREDITO_HIPOTECARIO_FLAG",
                  "1": "0",
                  "2": "0.0"
                },
                {
                  "0": "GES_TC_CANCELACION_EFECTIVA",
                  "1": "0",
                  "2": "0.0"
                },
                {
                  "0": "GES_TC_OTRAS",
                  "1": "0",
                  "2": "0.0"
                },
                {
                  "0": "NIVEL_DIGITALIZACION",
                  "1": "0",
                  "2": "0.0"
                },
                {
                  "0": "MORA_MAXIMA_ACTUAL",
                  "1": "0",
                  "2": "0.0"
                },
                {
                  "0": "TC_Q_MORA_45",
                  "1": "0",
                  "2": "0.0"
                },
                {
                  "0": "TC_CHP_2",
                  "1": "0",
                  "2": "0.0"
                },
                {
                  "0": "CREDITO_PRENDARIO_FLAG",
                  "1": "0",
                  "2": "0.0"
                },
                {
                  "0": "TC_Q_CAT_B2",
                  "1": "0",
                  "2": "0.0"
                },
                {
                  "0": "CREDITO_OTROS_FLAG",
                  "1": "0",
                  "2": "0.0"
                },
                {
                  "0": "TC_Q_R3_3",
                  "1": "0",
                  "2": "0.0"
                },
                {
                  "0": "TC_Q_R3_4",
                  "1": "0",
                  "2": "0.0"
                },
                {
                  "0": "TC_Q_R3_5",
                  "1": "0",
                  "2": "0.0"
                },
                {
                  "0": "LISTA_MALAS_REFERENCIAS_MONTO",
                  "1": "0",
                  "2": "0.0"
                },
                {
                  "0": "LISTA_GIE_DESC",
                  "1": "0",
                  "2": "0.0"
                },
                {
                  "0": "LISTA_OFICIALIA_FLAG",
                  "1": "0",
                  "2": "0.0"
                },
                {
                  "0": "TC_Q_R3_6",
                  "1": "0",
                  "2": "0.0"
                },
                {
                  "0": "LISTA_GRUPO_DEUDOR_FLAG",
                  "1": "0",
                  "2": "0.0"
                },
                {
                  "0": "LISTA_JUICIOS_MONTO",
                  "1": "0",
                  "2": "0.0"
                },
                {
                  "0": "LISTA_PEP_FLAG",
                  "1": "0",
                  "2": "0.0"
                },
                {
                  "0": "LISTA_NEGRA_FLAG",
                  "1": "0",
                  "2": "0.0"
                },
                {
                  "0": "FEC_CORTE",
                  "1": "0",
                  "2": "0.0"
                },
                {
                  "0": "LISTA_PATRONOS_FLAG",
                  "1": "0",
                  "2": "0.0"
                },
                {
                  "0": "LISTA_EXCLUSION_FLAG",
                  "1": "0",
                  "2": "0.0"
                },
                {
                  "0": "LISTA_GIE_FLAG",
                  "1": "0",
                  "2": "0.0"
                },
                {
                  "0": "EDAD_PADRE_MAYOR",
                  "1": "0",
                  "2": "0.0"
                },
                {
                  "0": "LISTA_LAVADO_FLAG",
                  "1": "0",
                  "2": "0.0"
                },
                {
                  "0": "LISTA_JUICIOS_FLAG",
                  "1": "0",
                  "2": "0.0"
                },
                {
                  "0": "LISTA_SEGURIDAD_FLAG",
                  "1": "0",
                  "2": "0.0"
                },
                {
                  "0": "INGRESO_MAX",
                  "1": "0",
                  "2": "0.0"
                },
                {
                  "0": "SEGMENTACION_OPERATIVA",
                  "1": "0",
                  "2": "0.0"
                },
                {
                  "0": "ARQUETIPO",
                  "1": "0",
                  "2": "0.0"
                },
                {
                  "0": "SEGMENTACION_CARTERA",
                  "1": "0",
                  "2": "0.0"
                },
                {
                  "0": "TC_FLAG",
                  "1": "0",
                  "2": "0.0"
                },
                {
                  "0": "TD_FLAG",
                  "1": "0",
                  "2": "0.0"
                },
                {
                  "0": "MESA_FLAG",
                  "1": "0",
                  "2": "0.0"
                },
                {
                  "0": "ADQUIRENCIA_FLAG",
                  "1": "0",
                  "2": "0.0"
                },
                {
                  "0": "PAGOS_FLAG",
                  "1": "0",
                  "2": "0.0"
                },
                {
                  "0": "TRANSFERENCIAS_FLAG",
                  "1": "0",
                  "2": "0.0"
                },
                {
                  "0": "PAGO_PLANILLA_FLAG",
                  "1": "0",
                  "2": "0.0"
                },
                {
                  "0": "GES_TC_SERVICIOS",
                  "1": "0",
                  "2": "0.0"
                },
                {
                  "0": "GES_TC_MALESTAR",
                  "1": "0",
                  "2": "0.0"
                },
                {
                  "0": "GES_TC_INTENTO_CANCELACION",
                  "1": "0",
                  "2": "0.0"
                },
                {
                  "0": "GES_TC_SALIDA_DEL_PAIS",
                  "1": "0",
                  "2": "0.0"
                },
                {
                  "0": "SCORE_EQUIFAX",
                  "1": "0",
                  "2": "0.0"
                },
                {
                  "0": "CHP",
                  "1": "0",
                  "2": "0.0"
                },
                {
                  "0": "CHP_INDICADOR",
                  "1": "0",
                  "2": "0.0"
                },
                {
                  "0": "TC_Q_MORA_30",
                  "1": "0",
                  "2": "0.0"
                },
                {
                  "0": "TC_Q_MORA_60",
                  "1": "0",
                  "2": "0.0"
                },
                {
                  "0": "TC_CHP_3",
                  "1": "0",
                  "2": "0.0"
                },
                {
                  "0": "TC_Q_CAT_A2",
                  "1": "0",
                  "2": "0.0"
                },
                {
                  "0": "TC_Q_CAT_B1",
                  "1": "0",
                  "2": "0.0"
                },
                {
                  "0": "TC_Q_CAT_C1",
                  "1": "0",
                  "2": "0.0"
                },
                {
                  "0": "TC_Q_CAT_C2",
                  "1": "0",
                  "2": "0.0"
                },
                {
                  "0": "TC_Q_CAT_D",
                  "1": "0",
                  "2": "0.0"
                },
                {
                  "0": "TC_Q_CAT_E",
                  "1": "0",
                  "2": "0.0"
                },
                {
                  "0": "TC_Q_R2_1",
                  "1": "0",
                  "2": "0.0"
                },
                {
                  "0": "TC_Q_R2_2",
                  "1": "0",
                  "2": "0.0"
                },
                {
                  "0": "TC_Q_R2_3",
                  "1": "0",
                  "2": "0.0"
                },
                {
                  "0": "TC_Q_R3_1",
                  "1": "0",
                  "2": "0.0"
                },
                {
                  "0": "TC_Q_R3_2",
                  "1": "0",
                  "2": "0.0"
                },
                {
                  "0": "MORA_MAXIMA_HISTORICA",
                  "1": "0",
                  "2": "0.0"
                },
                {
                  "0": "BEHAVIOUR_DESC",
                  "1": "0",
                  "2": "0.0"
                },
                {
                  "0": "CATEGORIA_RIESGO",
                  "1": "0",
                  "2": "0.0"
                },
                {
                  "0": "RCI",
                  "1": "0",
                  "2": "0.0"
                },
                {
                  "0": "XML_SALDO_TOTAL",
                  "1": "0",
                  "2": "0.0"
                },
                {
                  "0": "XML_SALDO_PROMERICA",
                  "1": "0",
                  "2": "0.0"
                },
                {
                  "0": "XML_SALDO_COMPETENCIA",
                  "1": "0",
                  "2": "0.0"
                },
                {
                  "0": "XML_SALDO_COMPETENCIA_DIRECTA",
                  "1": "0",
                  "2": "0.0"
                },
                {
                  "0": "XML_SALDO_TC_TOTAL",
                  "1": "0",
                  "2": "0.0"
                },
                {
                  "0": "XML_SALDO_TC_PROMERICA",
                  "1": "0",
                  "2": "0.0"
                },
                {
                  "0": "XML_SALDO_TC_COMPETENCIA",
                  "1": "0",
                  "2": "0.0"
                },
                {
                  "0": "XML_SALDO_TC_COMPETENCIA_DIRECTA",
                  "1": "0",
                  "2": "0.0"
                },
                {
                  "0": "XML_EXPOSICION_TOTAL",
                  "1": "0",
                  "2": "0.0"
                },
                {
                  "0": "XML_EXPOSICION_PROMERICA",
                  "1": "0",
                  "2": "0.0"
                },
                {
                  "0": "XML_EXPOSICION_COMPETENCIA",
                  "1": "0",
                  "2": "0.0"
                },
                {
                  "0": "XML_EXPOSICION_COMPETENCIA_DIRECTA",
                  "1": "0",
                  "2": "0.0"
                },
                {
                  "0": "XML_EXPOSICION_TC_TOTAL",
                  "1": "0",
                  "2": "0.0"
                },
                {
                  "0": "COD_CLIENTE",
                  "1": "0",
                  "2": "0.0"
                },
                {
                  "0": "DIAS_ANTIGUEDAD",
                  "1": "0",
                  "2": "0.0"
                },
                {
                  "0": "TARGET",
                  "1": "0",
                  "2": "0.0"
                },
                {
                  "0": "SEXO",
                  "1": "0",
                  "2": "0.0"
                },
                {
                  "0": "ID",
                  "1": "0",
                  "2": "0.0"
                },
                {
                  "0": "ID_CATEGORIA",
                  "1": "0",
                  "2": "0.0"
                },
                {
                  "0": "NOMBRE",
                  "1": "0",
                  "2": "0.0"
                },
                {
                  "0": "EDAD",
                  "1": "0",
                  "2": "0.0"
                },
                {
                  "0": "ESTADO_CIVIL",
                  "1": "0",
                  "2": "0.0"
                },
                {
                  "0": "PROFESION",
                  "1": "0",
                  "2": "0.0"
                },
                {
                  "0": "NACIONALIDAD",
                  "1": "0",
                  "2": "0.0"
                },
                {
                  "0": "GENERACION",
                  "1": "0",
                  "2": "0.0"
                },
                {
                  "0": "Q_HIJOS",
                  "1": "0",
                  "2": "0.0"
                },
                {
                  "0": "EDAD_HIJO_MENOR",
                  "1": "0",
                  "2": "0.0"
                }
              ],
              "schema": [
                {
                  "key": "0",
                  "name": "Columna",
                  "type": "string"
                },
                {
                  "key": "1",
                  "name": "Valores Faltantes",
                  "type": "int"
                },
                {
                  "key": "2",
                  "name": "Porcentaje Faltante",
                  "type": "double"
                }
              ],
              "truncated": false
            }
          },
          "type": "Synapse.DataFrame"
        },
        "dacde324-e42c-4a9d-a10d-2e636d139f0e": {
          "persist_state": {
            "view": {
              "chartOptions": {
                "aggregationType": "sum",
                "categoryFieldKeys": [
                  "1"
                ],
                "chartType": "bar",
                "isStacked": false,
                "seriesFieldKeys": [
                  "0"
                ]
              },
              "tableOptions": {},
              "type": "details"
            }
          },
          "sync_state": {
            "isSummary": false,
            "language": "scala",
            "table": {
              "rows": [
                {
                  "0": "2.495638075296846",
                  "1": "DIAS_ANTIGUEDAD",
                  "2": "8.734860177254653",
                  "3": {
                    "25%": 509,
                    "50%": 1007,
                    "75%": 1666.5,
                    "count": 18139,
                    "max": 10365,
                    "mean": 1357.6638182920778,
                    "min": 51,
                    "std": 1257.5082264432256
                  }
                },
                {
                  "0": "1.2572686093172676",
                  "1": "EDAD",
                  "2": "3.4507209178822835",
                  "3": {
                    "25%": 29,
                    "50%": 38,
                    "75%": 50,
                    "count": 18139,
                    "max": 124,
                    "mean": 40.864931914659024,
                    "min": 1,
                    "std": 15.682670046020597
                  }
                },
                {
                  "0": "1.6399140189751085",
                  "1": "Q_HIJOS",
                  "2": "3.5313892803256905",
                  "3": {
                    "25%": 0,
                    "50%": 0,
                    "75%": 1,
                    "count": 18139,
                    "max": 11,
                    "mean": 0.7558299796019626,
                    "min": 0,
                    "std": 1.076917547803279
                  }
                },
                {
                  "0": "1.4484650402185208",
                  "1": "EDAD_HIJO_MENOR",
                  "2": "5.476641656108472",
                  "3": {
                    "25%": 14,
                    "50%": 14,
                    "75%": 14,
                    "count": 18139,
                    "max": 69,
                    "mean": 14.257290920116874,
                    "min": 0,
                    "std": 6.885410494325479
                  }
                },
                {
                  "0": "1.3103023369697369",
                  "1": "EDAD_PADRE_MAYOR",
                  "2": "6.2749374683163746",
                  "3": {
                    "25%": 61,
                    "50%": 61,
                    "75%": 61,
                    "count": 18139,
                    "max": 120,
                    "mean": 61.15811235459507,
                    "min": 34,
                    "std": 7.968624843947278
                  }
                },
                {
                  "0": "127.35150909423828",
                  "1": "INGRESO_MAX",
                  "2": "Infinity",
                  "3": {
                    "25%": 410000,
                    "50%": 610000,
                    "75%": 1138051.5,
                    "count": 18139,
                    "max": 6346334208,
                    "mean": 1821709,
                    "min": 0,
                    "std": 48047696
                  }
                },
                {
                  "0": "2.913059711456299",
                  "1": "ANTIGUEDAD_LABORAL",
                  "2": "9.41060733795166",
                  "3": {
                    "25%": 0,
                    "50%": 7,
                    "75%": 29,
                    "count": 18139,
                    "max": 356,
                    "mean": 28.49274444580078,
                    "min": 0,
                    "std": 50.425315856933594
                  }
                },
                {
                  "0": "-0.9018110632896423",
                  "1": "NSE",
                  "2": "-0.018096519634127617",
                  "3": {
                    "25%": 3,
                    "50%": 4,
                    "75%": 5,
                    "count": 18139,
                    "max": 7,
                    "mean": 3.5175678730010986,
                    "min": -1,
                    "std": 2.295271396636963
                  }
                },
                {
                  "0": "0.7361215684280635",
                  "1": "NIVEL_DIGITALIZACION",
                  "2": "-1.225417633949392",
                  "3": {
                    "25%": 0,
                    "50%": 0,
                    "75%": 3,
                    "count": 18139,
                    "max": 3,
                    "mean": 1.01786206516346,
                    "min": 0,
                    "std": 1.2778211183934796
                  }
                },
                {
                  "0": "-1.7155100522860942",
                  "1": "CE_FLAG",
                  "2": "0.9430787108768386",
                  "3": {
                    "25%": 1,
                    "50%": 1,
                    "75%": 1,
                    "count": 18139,
                    "max": 1,
                    "mean": 0.825514085671757,
                    "min": 0,
                    "std": 0.3795372463934006
                  }
                },
                {
                  "0": "6.003405088470678",
                  "1": "CDI_FLAG",
                  "2": "34.044626393122655",
                  "3": {
                    "25%": 0,
                    "50%": 0,
                    "75%": 0,
                    "count": 18139,
                    "max": 1,
                    "mean": 0.025635371299410112,
                    "min": 0,
                    "std": 0.15804928395142226
                  }
                },
                {
                  "0": "1.391112726667028",
                  "1": "PLAN_METAS_FLAG",
                  "2": "-0.06481254007166326",
                  "3": {
                    "25%": 0,
                    "50%": 0,
                    "75%": 0,
                    "count": 18139,
                    "max": 1,
                    "mean": 0.21451017145377363,
                    "min": 0,
                    "std": 0.41049341948485174
                  }
                },
                {
                  "0": "5.3007400790231785",
                  "1": "CREDITO_PRENDARIO_FLAG",
                  "2": "26.100723230130612",
                  "3": {
                    "25%": 0,
                    "50%": 0,
                    "75%": 0,
                    "count": 18139,
                    "max": 1,
                    "mean": 0.03219582115882904,
                    "min": 0,
                    "std": 0.1765246956027352
                  }
                },
                {
                  "0": "10.897989710484838",
                  "1": "CREDITO_HIPOTECARIO_FLAG",
                  "2": "116.77905573690991",
                  "3": {
                    "25%": 0,
                    "50%": 0,
                    "75%": 0,
                    "count": 18139,
                    "max": 1,
                    "mean": 0.00821434478196152,
                    "min": 0,
                    "std": 0.09026249765020672
                  }
                },
                {
                  "0": "6.192741835793112",
                  "1": "CREDITO_OTROS_FLAG",
                  "2": "36.354059818978655",
                  "3": {
                    "25%": 0,
                    "50%": 0,
                    "75%": 0,
                    "count": 18139,
                    "max": 1,
                    "mean": 0.0242019956998732,
                    "min": 0,
                    "std": 0.1536800609583583
                  }
                },
                {
                  "0": "0.7605630807595032",
                  "1": "TC_FLAG",
                  "2": "-1.4217005685678783",
                  "3": {
                    "25%": 0,
                    "50%": 0,
                    "75%": 1,
                    "count": 18139,
                    "max": 1,
                    "mean": 0.3222889905727989,
                    "min": 0,
                    "std": 0.46736585153770094
                  }
                },
                {
                  "0": "-0.74925244498059",
                  "1": "TD_FLAG",
                  "2": "-1.4387794251818329",
                  "3": {
                    "25%": 0,
                    "50%": 1,
                    "75%": 1,
                    "count": 18139,
                    "max": 1,
                    "mean": 0.6753955565356414,
                    "min": 0,
                    "std": 0.46823977391873883
                  }
                },
                {
                  "0": "1.2234629209264043",
                  "1": "MESA_FLAG",
                  "2": "-0.5031939752738159",
                  "3": {
                    "25%": 0,
                    "50%": 0,
                    "75%": 0,
                    "count": 18139,
                    "max": 1,
                    "mean": 0.23909807596890678,
                    "min": 0,
                    "std": 0.42654450690427265
                  }
                },
                {
                  "0": "13.637594968434984",
                  "1": "ADQUIRENCIA_FLAG",
                  "2": "184.0042847612015",
                  "3": {
                    "25%": 0,
                    "50%": 0,
                    "75%": 0,
                    "count": 18139,
                    "max": 1,
                    "mean": 0.005292463752136281,
                    "min": 0,
                    "std": 0.07255855445090242
                  }
                },
                {
                  "0": "0.0",
                  "1": "PAGOS_FLAG",
                  "2": "0.0",
                  "3": {
                    "25%": 0,
                    "50%": 0,
                    "75%": 0,
                    "count": 18139,
                    "max": 0,
                    "mean": 0,
                    "min": 0,
                    "std": 0
                  }
                },
                {
                  "0": "0.0",
                  "1": "TRANSFERENCIAS_FLAG",
                  "2": "0.0",
                  "3": {
                    "25%": 0,
                    "50%": 0,
                    "75%": 0,
                    "count": 18139,
                    "max": 0,
                    "mean": 0,
                    "min": 0,
                    "std": 0
                  }
                },
                {
                  "0": "0.0",
                  "1": "PAGO_PLANILLA_FLAG",
                  "2": "0.0",
                  "3": {
                    "25%": 0,
                    "50%": 0,
                    "75%": 0,
                    "count": 18139,
                    "max": 0,
                    "mean": 0,
                    "min": 0,
                    "std": 0
                  }
                },
                {
                  "0": "10.559099197387695",
                  "1": "GES_TC_SERVICIOS",
                  "2": "173.54769897460938",
                  "3": {
                    "25%": 0.1871391385793686,
                    "50%": 0.1871391385793686,
                    "75%": 0.1871391385793686,
                    "count": 18139,
                    "max": 5,
                    "mean": 0.18753713369369507,
                    "min": 0,
                    "std": 0.1602046936750412
                  }
                },
                {
                  "0": "79.90478515625",
                  "1": "GES_TC_MALESTAR",
                  "2": "7649.48583984375",
                  "3": {
                    "25%": 0.2147628217935562,
                    "50%": 0.2147628217935562,
                    "75%": 0.2147628217935562,
                    "count": 18139,
                    "max": 56,
                    "mean": 0.21718396246433258,
                    "min": 0,
                    "std": 0.5326499342918396
                  }
                },
                {
                  "0": "27.303251266479492",
                  "1": "GES_TC_INTENTO_CANCELACION",
                  "2": "970.7638549804688",
                  "3": {
                    "25%": 0.04166194796562195,
                    "50%": 0.04166194796562195,
                    "75%": 0.04166194796562195,
                    "count": 18139,
                    "max": 5,
                    "mean": 0.041669320315122604,
                    "min": 0,
                    "std": 0.08873851597309113
                  }
                },
                {
                  "0": "29.907644271850586",
                  "1": "GES_TC_CANCELACION_EFECTIVA",
                  "2": "996.1863403320312",
                  "3": {
                    "25%": 0.014264688827097416,
                    "50%": 0.014264688827097416,
                    "75%": 0.014264688827097416,
                    "count": 18139,
                    "max": 2,
                    "mean": 0.014155752956867218,
                    "min": 0,
                    "std": 0.03763139620423317
                  }
                },
                {
                  "0": "95.2020492553711",
                  "1": "GES_TC_SALIDA_DEL_PAIS",
                  "2": "9063.953125",
                  "3": {
                    "25%": 0.0004528472782112658,
                    "50%": 0.0004528472782112658,
                    "75%": 0.0004528472782112658,
                    "count": 18139,
                    "max": 1,
                    "mean": 0.0005176449776627123,
                    "min": 0,
                    "std": 0.0104967737570405
                  }
                },
                {
                  "0": "8.872176170349121",
                  "1": "GES_TC_OTRAS",
                  "2": "168.98226928710938",
                  "3": {
                    "25%": 1.8177289962768555,
                    "50%": 1.8177289962768555,
                    "75%": 1.8177289962768555,
                    "count": 18139,
                    "max": 22,
                    "mean": 1.8205913305282593,
                    "min": 0,
                    "std": 0.58504718542099
                  }
                },
                {
                  "0": "-0.4056231379508972",
                  "1": "SCORE_EQUIFAX",
                  "2": "-1.7230702638626099",
                  "3": {
                    "25%": 46,
                    "50%": 794,
                    "75%": 885,
                    "count": 18139,
                    "max": 995,
                    "mean": 542.4743041992188,
                    "min": -1,
                    "std": 404.0268249511719
                  }
                },
                {
                  "0": "-0.06753603368997574",
                  "1": "CHP",
                  "2": "-1.4725697040557861",
                  "3": {
                    "25%": -1,
                    "50%": 1,
                    "75%": 1,
                    "count": 18139,
                    "max": 3.2553999423980713,
                    "mean": 0.12500855326652527,
                    "min": -2,
                    "std": 1.0537526607513428
                  }
                },
                {
                  "0": "2.728247880935669",
                  "1": "CHP_INDICADOR",
                  "2": "18.691852569580078",
                  "3": {
                    "25%": 0.9042457342147827,
                    "50%": 0.9042457342147827,
                    "75%": 1,
                    "count": 18139,
                    "max": 5,
                    "mean": 0.9027054905891418,
                    "min": 0,
                    "std": 0.532646119594574
                  }
                },
                {
                  "0": "56.96742630004883",
                  "1": "MORA_MAXIMA_ACTUAL",
                  "2": "4105.85205078125",
                  "3": {
                    "25%": -1,
                    "50%": 0,
                    "75%": 0,
                    "count": 18139,
                    "max": 4165,
                    "mean": 2.9299991130828857,
                    "min": -1,
                    "std": 48.63785934448242
                  }
                },
                {
                  "0": "21.724458694458008",
                  "1": "MORA_MAXIMA_HISTORICA",
                  "2": "900.8649291992188",
                  "3": {
                    "25%": -1,
                    "50%": 0,
                    "75%": 0,
                    "count": 18139,
                    "max": 4165,
                    "mean": 16.00467872619629,
                    "min": -1,
                    "std": 72.17448425292969
                  }
                },
                {
                  "0": "16.56524658203125",
                  "1": "RCI",
                  "2": "531.5000610351562",
                  "3": {
                    "25%": -1,
                    "50%": -1,
                    "75%": -1,
                    "count": 18139,
                    "max": 27.510000228881836,
                    "mean": -0.9380581974983215,
                    "min": -1,
                    "std": 0.5334923267364502
                  }
                },
                {
                  "0": "0.0",
                  "1": "XML_SALDO_TOTAL",
                  "2": "0.0",
                  "3": {
                    "25%": 0,
                    "50%": 0,
                    "75%": 0,
                    "count": 18139,
                    "max": 0,
                    "mean": 0,
                    "min": 0,
                    "std": 0
                  }
                },
                {
                  "0": "0.0",
                  "1": "XML_SALDO_PROMERICA",
                  "2": "0.0",
                  "3": {
                    "25%": 0,
                    "50%": 0,
                    "75%": 0,
                    "count": 18139,
                    "max": 0,
                    "mean": 0,
                    "min": 0,
                    "std": 0
                  }
                },
                {
                  "0": "0.0",
                  "1": "XML_SALDO_COMPETENCIA",
                  "2": "0.0",
                  "3": {
                    "25%": 0,
                    "50%": 0,
                    "75%": 0,
                    "count": 18139,
                    "max": 0,
                    "mean": 0,
                    "min": 0,
                    "std": 0
                  }
                },
                {
                  "0": "0.0",
                  "1": "XML_SALDO_COMPETENCIA_DIRECTA",
                  "2": "0.0",
                  "3": {
                    "25%": 0,
                    "50%": 0,
                    "75%": 0,
                    "count": 18139,
                    "max": 0,
                    "mean": 0,
                    "min": 0,
                    "std": 0
                  }
                },
                {
                  "0": "0.0",
                  "1": "XML_SALDO_TC_TOTAL",
                  "2": "0.0",
                  "3": {
                    "25%": 0,
                    "50%": 0,
                    "75%": 0,
                    "count": 18139,
                    "max": 0,
                    "mean": 0,
                    "min": 0,
                    "std": 0
                  }
                },
                {
                  "0": "0.0",
                  "1": "XML_SALDO_TC_PROMERICA",
                  "2": "0.0",
                  "3": {
                    "25%": 0,
                    "50%": 0,
                    "75%": 0,
                    "count": 18139,
                    "max": 0,
                    "mean": 0,
                    "min": 0,
                    "std": 0
                  }
                },
                {
                  "0": "0.0",
                  "1": "XML_SALDO_TC_COMPETENCIA",
                  "2": "0.0",
                  "3": {
                    "25%": 0,
                    "50%": 0,
                    "75%": 0,
                    "count": 18139,
                    "max": 0,
                    "mean": 0,
                    "min": 0,
                    "std": 0
                  }
                },
                {
                  "0": "0.0",
                  "1": "XML_SALDO_TC_COMPETENCIA_DIRECTA",
                  "2": "0.0",
                  "3": {
                    "25%": 0,
                    "50%": 0,
                    "75%": 0,
                    "count": 18139,
                    "max": 0,
                    "mean": 0,
                    "min": 0,
                    "std": 0
                  }
                },
                {
                  "0": "0.0",
                  "1": "XML_EXPOSICION_TOTAL",
                  "2": "0.0",
                  "3": {
                    "25%": 0,
                    "50%": 0,
                    "75%": 0,
                    "count": 18139,
                    "max": 0,
                    "mean": 0,
                    "min": 0,
                    "std": 0
                  }
                },
                {
                  "0": "0.0",
                  "1": "XML_EXPOSICION_PROMERICA",
                  "2": "0.0",
                  "3": {
                    "25%": 0,
                    "50%": 0,
                    "75%": 0,
                    "count": 18139,
                    "max": 0,
                    "mean": 0,
                    "min": 0,
                    "std": 0
                  }
                },
                {
                  "0": "0.0",
                  "1": "XML_EXPOSICION_COMPETENCIA",
                  "2": "0.0",
                  "3": {
                    "25%": 0,
                    "50%": 0,
                    "75%": 0,
                    "count": 18139,
                    "max": 0,
                    "mean": 0,
                    "min": 0,
                    "std": 0
                  }
                },
                {
                  "0": "0.0",
                  "1": "XML_EXPOSICION_COMPETENCIA_DIRECTA",
                  "2": "0.0",
                  "3": {
                    "25%": 0,
                    "50%": 0,
                    "75%": 0,
                    "count": 18139,
                    "max": 0,
                    "mean": 0,
                    "min": 0,
                    "std": 0
                  }
                },
                {
                  "0": "0.0",
                  "1": "XML_EXPOSICION_TC_TOTAL",
                  "2": "0.0",
                  "3": {
                    "25%": 0,
                    "50%": 0,
                    "75%": 0,
                    "count": 18139,
                    "max": 0,
                    "mean": 0,
                    "min": 0,
                    "std": 0
                  }
                },
                {
                  "0": "0.0",
                  "1": "XML_EXPOSICION_TC_PROMERICA",
                  "2": "0.0",
                  "3": {
                    "25%": 0,
                    "50%": 0,
                    "75%": 0,
                    "count": 18139,
                    "max": 0,
                    "mean": 0,
                    "min": 0,
                    "std": 0
                  }
                },
                {
                  "0": "0.0",
                  "1": "XML_EXPOSICION_TC_COMPETENCIA",
                  "2": "0.0",
                  "3": {
                    "25%": 0,
                    "50%": 0,
                    "75%": 0,
                    "count": 18139,
                    "max": 0,
                    "mean": 0,
                    "min": 0,
                    "std": 0
                  }
                },
                {
                  "0": "0.0",
                  "1": "XML_EXPOSICION_TC_COMPETENCIA_DIRECTA",
                  "2": "0.0",
                  "3": {
                    "25%": 0,
                    "50%": 0,
                    "75%": 0,
                    "count": 18139,
                    "max": 0,
                    "mean": 0,
                    "min": 0,
                    "std": 0
                  }
                },
                {
                  "0": "0.0",
                  "1": "XML_CUOTA_TOTAL",
                  "2": "0.0",
                  "3": {
                    "25%": 0,
                    "50%": 0,
                    "75%": 0,
                    "count": 18139,
                    "max": 0,
                    "mean": 0,
                    "min": 0,
                    "std": 0
                  }
                },
                {
                  "0": "0.0",
                  "1": "XML_CUOTA_PROMERICA",
                  "2": "0.0",
                  "3": {
                    "25%": 0,
                    "50%": 0,
                    "75%": 0,
                    "count": 18139,
                    "max": 0,
                    "mean": 0,
                    "min": 0,
                    "std": 0
                  }
                },
                {
                  "0": "0.0",
                  "1": "XML_CUOTA_COMPETENCIA",
                  "2": "0.0",
                  "3": {
                    "25%": 0,
                    "50%": 0,
                    "75%": 0,
                    "count": 18139,
                    "max": 0,
                    "mean": 0,
                    "min": 0,
                    "std": 0
                  }
                },
                {
                  "0": "0.0",
                  "1": "XML_CUOTA_COMPETENCIA_DIRECTA",
                  "2": "0.0",
                  "3": {
                    "25%": 0,
                    "50%": 0,
                    "75%": 0,
                    "count": 18139,
                    "max": 0,
                    "mean": 0,
                    "min": 0,
                    "std": 0
                  }
                },
                {
                  "0": "0.0",
                  "1": "XML_CUOTA_TC_TOTAL",
                  "2": "0.0",
                  "3": {
                    "25%": 0,
                    "50%": 0,
                    "75%": 0,
                    "count": 18139,
                    "max": 0,
                    "mean": 0,
                    "min": 0,
                    "std": 0
                  }
                },
                {
                  "0": "0.0",
                  "1": "XML_CUOTA_TC_PROMERICA",
                  "2": "0.0",
                  "3": {
                    "25%": 0,
                    "50%": 0,
                    "75%": 0,
                    "count": 18139,
                    "max": 0,
                    "mean": 0,
                    "min": 0,
                    "std": 0
                  }
                },
                {
                  "0": "0.0",
                  "1": "XML_CUOTA_TC_COMPETENCIA",
                  "2": "0.0",
                  "3": {
                    "25%": 0,
                    "50%": 0,
                    "75%": 0,
                    "count": 18139,
                    "max": 0,
                    "mean": 0,
                    "min": 0,
                    "std": 0
                  }
                },
                {
                  "0": "0.0",
                  "1": "XML_CUOTA_TC_COMPETENCIA_DIRECTA",
                  "2": "0.0",
                  "3": {
                    "25%": 0,
                    "50%": 0,
                    "75%": 0,
                    "count": 18139,
                    "max": 0,
                    "mean": 0,
                    "min": 0,
                    "std": 0
                  }
                },
                {
                  "0": "0.0",
                  "1": "XML_OPERACIONES_COMPETENCIA",
                  "2": "0.0",
                  "3": {
                    "25%": 0,
                    "50%": 0,
                    "75%": 0,
                    "count": 18139,
                    "max": 0,
                    "mean": 0,
                    "min": 0,
                    "std": 0
                  }
                },
                {
                  "0": "0.0",
                  "1": "XML_OPERACIONES_TC_COMPETENCIA",
                  "2": "0.0",
                  "3": {
                    "25%": 0,
                    "50%": 0,
                    "75%": 0,
                    "count": 18139,
                    "max": 0,
                    "mean": 0,
                    "min": 0,
                    "std": 0
                  }
                },
                {
                  "0": "0.0",
                  "1": "XML_Q_ENTIDADES_COMPETENCIA",
                  "2": "0.0",
                  "3": {
                    "25%": 0,
                    "50%": 0,
                    "75%": 0,
                    "count": 18139,
                    "max": 0,
                    "mean": 0,
                    "min": 0,
                    "std": 0
                  }
                },
                {
                  "0": "0.0",
                  "1": "XML_Q_ENTIDADES_TC_COMPETENCIA",
                  "2": "0.0",
                  "3": {
                    "25%": 0,
                    "50%": 0,
                    "75%": 0,
                    "count": 18139,
                    "max": 0,
                    "mean": 0,
                    "min": 0,
                    "std": 0
                  }
                },
                {
                  "0": "3.1768054962158203",
                  "1": "TC_Q_VENCIMIENTOS",
                  "2": "30.17898178100586",
                  "3": {
                    "25%": 0.36277687549591064,
                    "50%": 0.36277687549591064,
                    "75%": 0.36277687549591064,
                    "count": 18139,
                    "max": 1,
                    "mean": 0.3644343316555023,
                    "min": 0,
                    "std": 0.0975392758846283
                  }
                },
                {
                  "0": "4.330447196960449",
                  "1": "TC_Q_MORA_15",
                  "2": "37.98645782470703",
                  "3": {
                    "25%": 0.3111831545829773,
                    "50%": 0.3111831545829773,
                    "75%": 0.3111831545829773,
                    "count": 18139,
                    "max": 1,
                    "mean": 0.3127680718898773,
                    "min": 0,
                    "std": 0.09485975652933121
                  }
                },
                {
                  "0": "8.121336936950684",
                  "1": "TC_Q_MORA_30",
                  "2": "83.0913314819336",
                  "3": {
                    "25%": 0.1820637434720993,
                    "50%": 0.1820637434720993,
                    "75%": 0.1820637434720993,
                    "count": 18139,
                    "max": 1,
                    "mean": 0.18325194716453552,
                    "min": 0,
                    "std": 0.08118879795074463
                  }
                },
                {
                  "0": "8.685381889343262",
                  "1": "TC_Q_MORA_45",
                  "2": "93.00059509277344",
                  "3": {
                    "25%": 0.16909778118133545,
                    "50%": 0.16909778118133545,
                    "75%": 0.16909778118133545,
                    "count": 18139,
                    "max": 1,
                    "mean": 0.17007756233215332,
                    "min": 0,
                    "std": 0.07845471799373627
                  }
                },
                {
                  "0": "11.479958534240723",
                  "1": "TC_Q_MORA_60",
                  "2": "149.76287841796875",
                  "3": {
                    "25%": 0.11885467171669006,
                    "50%": 0.11885467171669006,
                    "75%": 0.11885467171669006,
                    "count": 18139,
                    "max": 1,
                    "mean": 0.1194332093000412,
                    "min": 0,
                    "std": 0.06742406636476517
                  }
                },
                {
                  "0": "2.855681896209717",
                  "1": "TC_CHP_2",
                  "2": "31.614110946655273",
                  "3": {
                    "25%": 0.35872501134872437,
                    "50%": 0.35872501134872437,
                    "75%": 0.35872501134872437,
                    "count": 18139,
                    "max": 1,
                    "mean": 0.35811564326286316,
                    "min": 0,
                    "std": 0.09404753893613815
                  }
                },
                {
                  "0": "4.270428657531738",
                  "1": "TC_CHP_3",
                  "2": "44.21430206298828",
                  "3": {
                    "25%": 0.29713669419288635,
                    "50%": 0.29713669419288635,
                    "75%": 0.29713669419288635,
                    "count": 18139,
                    "max": 1,
                    "mean": 0.29579904675483704,
                    "min": 0,
                    "std": 0.08741921186447144
                  }
                },
                {
                  "0": "12.658310890197754",
                  "1": "TC_Q_CAT_A2",
                  "2": "179.65768432617188",
                  "3": {
                    "25%": 0.08533288538455963,
                    "50%": 0.08533288538455963,
                    "75%": 0.08533288538455963,
                    "count": 18139,
                    "max": 1,
                    "mean": 0.08427675813436508,
                    "min": 0,
                    "std": 0.06421267986297607
                  }
                },
                {
                  "0": "13.005696296691895",
                  "1": "TC_Q_CAT_B1",
                  "2": "183.9140625",
                  "3": {
                    "25%": 0.07603920251131058,
                    "50%": 0.07603920251131058,
                    "75%": 0.07603920251131058,
                    "count": 18139,
                    "max": 1,
                    "mean": 0.07568871229887009,
                    "min": 0,
                    "std": 0.06483563780784607
                  }
                },
                {
                  "0": "34.41805648803711",
                  "1": "TC_Q_CAT_B2",
                  "2": "1190.0679931640625",
                  "3": {
                    "25%": 0.009124704636633396,
                    "50%": 0.009124704636633396,
                    "75%": 0.009124704636633396,
                    "count": 18139,
                    "max": 1,
                    "mean": 0.00936711672693491,
                    "min": 0,
                    "std": 0.028586294502019882
                  }
                },
                {
                  "0": "8.28648853302002",
                  "1": "TC_Q_CAT_C1",
                  "2": "78.5960464477539",
                  "3": {
                    "25%": 0.1323082149028778,
                    "50%": 0.1323082149028778,
                    "75%": 0.1323082149028778,
                    "count": 18139,
                    "max": 1,
                    "mean": 0.13336990773677826,
                    "min": 0,
                    "std": 0.0901910588145256
                  }
                },
                {
                  "0": "32.128662109375",
                  "1": "TC_Q_CAT_C2",
                  "2": "1041.0772705078125",
                  "3": {
                    "25%": 0.01250422466546297,
                    "50%": 0.01250422466546297,
                    "75%": 0.01250422466546297,
                    "count": 18139,
                    "max": 1,
                    "mean": 0.012640399858355522,
                    "min": 0,
                    "std": 0.03039436973631382
                  }
                },
                {
                  "0": "8.98652172088623",
                  "1": "TC_Q_CAT_D",
                  "2": "95.95983123779297",
                  "3": {
                    "25%": 0.12892869114875793,
                    "50%": 0.12892869114875793,
                    "75%": 0.12892869114875793,
                    "count": 18139,
                    "max": 1,
                    "mean": 0.128167062997818,
                    "min": 0,
                    "std": 0.08141852170228958
                  }
                },
                {
                  "0": "7.852517604827881",
                  "1": "TC_Q_CAT_E",
                  "2": "76.25469970703125",
                  "3": {
                    "25%": 0.15072660148143768,
                    "50%": 0.15072660148143768,
                    "75%": 0.15072660148143768,
                    "count": 18139,
                    "max": 1,
                    "mean": 0.15000194311141968,
                    "min": 0,
                    "std": 0.0877155065536499
                  }
                },
                {
                  "0": "0.0",
                  "1": "TC_Q_R2_1",
                  "2": "0.0",
                  "3": {
                    "25%": 0,
                    "50%": 0,
                    "75%": 0,
                    "count": 18139,
                    "max": 0,
                    "mean": 0,
                    "min": 0,
                    "std": 0
                  }
                },
                {
                  "0": "0.0",
                  "1": "TC_Q_R2_2",
                  "2": "0.0",
                  "3": {
                    "25%": 0,
                    "50%": 0,
                    "75%": 0,
                    "count": 18139,
                    "max": 0,
                    "mean": 0,
                    "min": 0,
                    "std": 0
                  }
                },
                {
                  "0": "0.0",
                  "1": "TC_Q_R2_3",
                  "2": "0.0",
                  "3": {
                    "25%": 0,
                    "50%": 0,
                    "75%": 0,
                    "count": 18139,
                    "max": 0,
                    "mean": 0,
                    "min": 0,
                    "std": 0
                  }
                },
                {
                  "0": "0.0",
                  "1": "TC_Q_R3_1",
                  "2": "0.0",
                  "3": {
                    "25%": 0,
                    "50%": 0,
                    "75%": 0,
                    "count": 18139,
                    "max": 0,
                    "mean": 0,
                    "min": 0,
                    "std": 0
                  }
                },
                {
                  "0": "0.0",
                  "1": "TC_Q_R3_2",
                  "2": "0.0",
                  "3": {
                    "25%": 0,
                    "50%": 0,
                    "75%": 0,
                    "count": 18139,
                    "max": 0,
                    "mean": 0,
                    "min": 0,
                    "std": 0
                  }
                },
                {
                  "0": "0.0",
                  "1": "TC_Q_R3_3",
                  "2": "0.0",
                  "3": {
                    "25%": 0,
                    "50%": 0,
                    "75%": 0,
                    "count": 18139,
                    "max": 0,
                    "mean": 0,
                    "min": 0,
                    "std": 0
                  }
                },
                {
                  "0": "0.0",
                  "1": "TC_Q_R3_4",
                  "2": "0.0",
                  "3": {
                    "25%": 0,
                    "50%": 0,
                    "75%": 0,
                    "count": 18139,
                    "max": 0,
                    "mean": 0,
                    "min": 0,
                    "std": 0
                  }
                },
                {
                  "0": "0.0",
                  "1": "TC_Q_R3_5",
                  "2": "0.0",
                  "3": {
                    "25%": 0,
                    "50%": 0,
                    "75%": 0,
                    "count": 18139,
                    "max": 0,
                    "mean": 0,
                    "min": 0,
                    "std": 0
                  }
                },
                {
                  "0": "0.0",
                  "1": "TC_Q_R3_6",
                  "2": "0.0",
                  "3": {
                    "25%": 0,
                    "50%": 0,
                    "75%": 0,
                    "count": 18139,
                    "max": 0,
                    "mean": 0,
                    "min": 0,
                    "std": 0
                  }
                },
                {
                  "0": "16.61786460876465",
                  "1": "LISTA_MALAS_REFERENCIAS_MONTO",
                  "2": "443.1233825683594",
                  "3": {
                    "25%": 0,
                    "50%": 0,
                    "75%": 0,
                    "count": 18139,
                    "max": 24759356,
                    "mean": 101729.0234375,
                    "min": 0,
                    "std": 603410.8125
                  }
                },
                {
                  "0": "86.64840698242188",
                  "1": "LISTA_JUICIOS_MONTO",
                  "2": "8368.71875",
                  "3": {
                    "25%": 0,
                    "50%": 0,
                    "75%": 0,
                    "count": 18139,
                    "max": 2709409536,
                    "mean": 703137.4375,
                    "min": 0,
                    "std": 25481404
                  }
                },
                {
                  "0": "5.183918154427618",
                  "1": "LISTA_NEGRA_FLAG",
                  "2": "24.875750211460982",
                  "3": {
                    "25%": 0,
                    "50%": 0,
                    "75%": 0,
                    "count": 18139,
                    "max": 1,
                    "mean": 0.03351893709686311,
                    "min": 0,
                    "std": 0.17999223318002713
                  }
                },
                {
                  "0": "16.488843221436444",
                  "1": "LISTA_OFICIALIA_FLAG",
                  "2": "269.91171114304007",
                  "3": {
                    "25%": 0,
                    "50%": 0,
                    "75%": 0,
                    "count": 18139,
                    "max": 1,
                    "mean": 0.0036385688295936932,
                    "min": 0,
                    "std": 0.060212370168387284
                  }
                },
                {
                  "0": "54.960591107492476",
                  "1": "LISTA_PATRONOS_FLAG",
                  "2": "3018.999448732139",
                  "3": {
                    "25%": 0,
                    "50%": 0,
                    "75%": 0,
                    "count": 18139,
                    "max": 1,
                    "mean": 0.00033077898450851757,
                    "min": 0,
                    "std": 0.01818482335725041
                  }
                },
                {
                  "0": "5.759115771279416",
                  "1": "LISTA_EXCLUSION_FLAG",
                  "2": "31.170851342380082",
                  "3": {
                    "25%": 0,
                    "50%": 0,
                    "75%": 0,
                    "count": 18139,
                    "max": 1,
                    "mean": 0.027675175037212636,
                    "min": 0,
                    "std": 0.16404494295343663
                  }
                },
                {
                  "0": "7.718443888869181",
                  "1": "LISTA_GIE_FLAG",
                  "2": "57.580724884737556",
                  "3": {
                    "25%": 0,
                    "50%": 0,
                    "75%": 0,
                    "count": 18139,
                    "max": 1,
                    "mean": 0.015987650917911683,
                    "min": 0,
                    "std": 0.12543091042038051
                  }
                },
                {
                  "0": "67.3238429877401",
                  "1": "LISTA_GRUPO_DEUDOR_FLAG",
                  "2": "4530.9994210911955",
                  "3": {
                    "25%": 0,
                    "50%": 0,
                    "75%": 0,
                    "count": 18139,
                    "max": 1,
                    "mean": 0.00022051932300567838,
                    "min": 0,
                    "std": 0.014848664903486486
                  }
                },
                {
                  "0": "12.020909728388753",
                  "1": "LISTA_LAVADO_FLAG",
                  "2": "142.5179846707569",
                  "3": {
                    "25%": 0,
                    "50%": 0,
                    "75%": 0,
                    "count": 18139,
                    "max": 1,
                    "mean": 0.00678096918242461,
                    "min": 0,
                    "std": 0.08206923271586651
                  }
                },
                {
                  "0": "1.811649935354117",
                  "1": "LISTA_JUICIOS_FLAG",
                  "2": "1.282216852907748",
                  "3": {
                    "25%": 0,
                    "50%": 0,
                    "75%": 0,
                    "count": 18139,
                    "max": 1,
                    "mean": 0.1643420254699818,
                    "min": 0,
                    "std": 0.3705958657848126
                  }
                },
                {
                  "0": "95.2260459884708",
                  "1": "LISTA_SEGURIDAD_FLAG",
                  "2": "9066.999558894482",
                  "3": {
                    "25%": 0,
                    "50%": 0,
                    "75%": 0,
                    "count": 18139,
                    "max": 1,
                    "mean": 0.00011025966150283919,
                    "min": 0,
                    "std": 0.010500170597244186
                  }
                },
                {
                  "0": "9.294099415830162",
                  "1": "LISTA_PEP_FLAG",
                  "2": "84.38958870671843",
                  "3": {
                    "25%": 0,
                    "50%": 0,
                    "75%": 0,
                    "count": 18139,
                    "max": 1,
                    "mean": 0.011191355642538177,
                    "min": 0,
                    "std": 0.1051984757864049
                  }
                }
              ],
              "schema": [
                {
                  "key": "0",
                  "name": "Asimetría",
                  "type": "double"
                },
                {
                  "key": "1",
                  "name": "Columna",
                  "type": "string"
                },
                {
                  "key": "2",
                  "name": "Curtosis",
                  "type": "double"
                },
                {
                  "key": "3",
                  "name": "Distribución",
                  "type": "MapType(StringType,DoubleType,true)"
                }
              ],
              "truncated": false
            }
          },
          "type": "Synapse.DataFrame"
        },
        "fb63bcca-08a3-4be1-856b-fd24104de38d": {
          "persist_state": {
            "view": {
              "chartOptions": {
                "aggregationType": "sum",
                "categoryFieldKeys": [
                  "0"
                ],
                "chartType": "bar",
                "isStacked": false,
                "seriesFieldKeys": [
                  "1"
                ]
              },
              "tableOptions": {},
              "type": "details"
            }
          },
          "sync_state": {
            "isSummary": false,
            "language": "scala",
            "table": {
              "rows": [
                {
                  "0": "DIAS_ANTIGUEDAD",
                  "1": "1350.6861795676662",
                  "2": "1249.1812787752103",
                  "3": "48.0",
                  "4": "10365.0",
                  "5": "503.0",
                  "6": "1002.0",
                  "7": "1665.0"
                },
                {
                  "0": "EDAD",
                  "1": "40.72650771388499",
                  "2": "15.599219355319203",
                  "3": "1.0",
                  "4": "124.0",
                  "5": "29.0",
                  "6": "38.0",
                  "7": "50.0"
                },
                {
                  "0": "Q_HIJOS",
                  "1": "0.7557158440748903",
                  "2": "1.066856565032237",
                  "3": "0.0",
                  "4": "17.0",
                  "5": "0.0",
                  "6": "0.0",
                  "7": "1.0"
                },
                {
                  "0": "EDAD_HIJO_MENOR",
                  "1": "14.166677797813843",
                  "2": "6.860542653522582",
                  "3": "0.0",
                  "4": "72.0",
                  "5": "14.0",
                  "6": "14.0",
                  "7": "14.0"
                },
                {
                  "0": "EDAD_PADRE_MAYOR",
                  "1": "61.156581847325185",
                  "2": "8.098776012691348",
                  "3": "13.0",
                  "4": "146.0",
                  "5": "61.0",
                  "6": "61.0",
                  "7": "61.0"
                },
                {
                  "0": "INGRESO_MAX",
                  "1": "1486401.8635321357",
                  "2": "2.2839416301802244E7",
                  "3": "0.0",
                  "4": "6.346334208E9",
                  "5": "410000.0",
                  "6": "610000.0",
                  "7": "1118674.0"
                },
                {
                  "0": "ANTIGUEDAD_LABORAL",
                  "1": "28.051609419086383",
                  "2": "50.080834177434525",
                  "3": "0.0",
                  "4": "356.0",
                  "5": "0.0",
                  "6": "7.0",
                  "7": "29.0"
                },
                {
                  "0": "NSE",
                  "1": "3.498055655851334",
                  "2": "2.316305013646007",
                  "3": "-1.0",
                  "4": "7.0",
                  "5": "3.0",
                  "6": "4.0",
                  "7": "5.0"
                },
                {
                  "0": "NIVEL_DIGITALIZACION",
                  "1": "1.0229301631826175",
                  "2": "1.279755710788275",
                  "3": "0.0",
                  "4": "3.0",
                  "5": "0.0",
                  "6": "0.0",
                  "7": "3.0"
                },
                {
                  "0": "CE_FLAG",
                  "1": "0.8280905630134242",
                  "2": "0.3773038126911051",
                  "3": "0.0",
                  "4": "1.0",
                  "5": "1.0",
                  "6": "1.0",
                  "7": "1.0"
                },
                {
                  "0": "CDI_FLAG",
                  "1": "0.02522317950087936",
                  "2": "0.15680320277654436",
                  "3": "0.0",
                  "4": "1.0",
                  "5": "0.0",
                  "6": "0.0",
                  "7": "0.0"
                },
                {
                  "0": "PLAN_METAS_FLAG",
                  "1": "0.21692379616643293",
                  "2": "0.41215258542001754",
                  "3": "0.0",
                  "4": "1.0",
                  "5": "0.0",
                  "6": "0.0",
                  "7": "0.0"
                },
                {
                  "0": "GES_TC_INTENTO_CANCELACION",
                  "1": "0.0416619481172244",
                  "2": "0.08471114888692051",
                  "3": "0.0",
                  "4": "6.0",
                  "5": "0.04166194796562195",
                  "6": "0.04166194796562195",
                  "7": "0.04166194796562195"
                },
                {
                  "0": "GES_TC_CANCELACION_EFECTIVA",
                  "1": "0.014264688867061",
                  "2": "0.04006443283254516",
                  "3": "0.0",
                  "4": "3.0",
                  "5": "0.014264688827097416",
                  "6": "0.014264688827097416",
                  "7": "0.014264688827097416"
                },
                {
                  "0": "GES_TC_SALIDA_DEL_PAIS",
                  "1": "4.528472781173177E-4",
                  "2": "0.006671200885610821",
                  "3": "0.0",
                  "4": "1.0",
                  "5": "4.528472782112658E-4",
                  "6": "4.528472782112658E-4",
                  "7": "4.528472782112658E-4"
                },
                {
                  "0": "GES_TC_OTRAS",
                  "1": "1.8177289937822154",
                  "2": "0.5648652986969601",
                  "3": "0.0",
                  "4": "29.0",
                  "5": "1.8177289962768555",
                  "6": "1.8177289962768555",
                  "7": "1.8177289962768555"
                },
                {
                  "0": "SCORE_EQUIFAX",
                  "1": "537.0344812434844",
                  "2": "405.4583717813816",
                  "3": "-1.0",
                  "4": "995.0",
                  "5": "37.0",
                  "6": "794.0",
                  "7": "882.0"
                },
                {
                  "0": "CHP",
                  "1": "0.12355842738603877",
                  "2": "1.0581520573356147",
                  "3": "-2.0",
                  "4": "5.0",
                  "5": "-1.0",
                  "6": "1.0",
                  "7": "1.0"
                },
                {
                  "0": "CHP_INDICADOR",
                  "1": "0.9042457342970528",
                  "2": "0.5441069730783533",
                  "3": "0.0",
                  "4": "5.0",
                  "5": "0.9042457342147827",
                  "6": "0.9042457342147827",
                  "7": "1.0"
                },
                {
                  "0": "MORA_MAXIMA_ACTUAL",
                  "1": "3.0419101779630067",
                  "2": "47.63959444075615",
                  "3": "-1.0",
                  "4": "5081.0",
                  "5": "-1.0",
                  "6": "0.0",
                  "7": "0.0"
                },
                {
                  "0": "MORA_MAXIMA_HISTORICA",
                  "1": "16.12072918790274",
                  "2": "74.02224634666915",
                  "3": "-1.0",
                  "4": "5081.0",
                  "5": "-1.0",
                  "6": "0.0",
                  "7": "0.0"
                },
                {
                  "0": "RCI",
                  "1": "-0.9350754134922997",
                  "2": "0.5732393186364112",
                  "3": "-1.0",
                  "4": "48.0",
                  "5": "-1.0",
                  "6": "-1.0",
                  "7": "-1.0"
                },
                {
                  "0": "XML_SALDO_TOTAL",
                  "1": "0.0",
                  "2": "0.0",
                  "3": "0.0",
                  "4": "0.0",
                  "5": "0.0",
                  "6": "0.0",
                  "7": "0.0"
                },
                {
                  "0": "XML_SALDO_PROMERICA",
                  "1": "0.0",
                  "2": "0.0",
                  "3": "0.0",
                  "4": "0.0",
                  "5": "0.0",
                  "6": "0.0",
                  "7": "0.0"
                },
                {
                  "0": "XML_EXPOSICION_TC_COMPETENCIA",
                  "1": "0.0",
                  "2": "0.0",
                  "3": "0.0",
                  "4": "0.0",
                  "5": "0.0",
                  "6": "0.0",
                  "7": "0.0"
                },
                {
                  "0": "XML_EXPOSICION_TC_COMPETENCIA_DIRECTA",
                  "1": "0.0",
                  "2": "0.0",
                  "3": "0.0",
                  "4": "0.0",
                  "5": "0.0",
                  "6": "0.0",
                  "7": "0.0"
                },
                {
                  "0": "XML_CUOTA_TOTAL",
                  "1": "0.0",
                  "2": "0.0",
                  "3": "0.0",
                  "4": "0.0",
                  "5": "0.0",
                  "6": "0.0",
                  "7": "0.0"
                },
                {
                  "0": "XML_CUOTA_PROMERICA",
                  "1": "0.0",
                  "2": "0.0",
                  "3": "0.0",
                  "4": "0.0",
                  "5": "0.0",
                  "6": "0.0",
                  "7": "0.0"
                },
                {
                  "0": "XML_CUOTA_COMPETENCIA",
                  "1": "0.0",
                  "2": "0.0",
                  "3": "0.0",
                  "4": "0.0",
                  "5": "0.0",
                  "6": "0.0",
                  "7": "0.0"
                },
                {
                  "0": "XML_CUOTA_COMPETENCIA_DIRECTA",
                  "1": "0.0",
                  "2": "0.0",
                  "3": "0.0",
                  "4": "0.0",
                  "5": "0.0",
                  "6": "0.0",
                  "7": "0.0"
                },
                {
                  "0": "XML_CUOTA_TC_TOTAL",
                  "1": "0.0",
                  "2": "0.0",
                  "3": "0.0",
                  "4": "0.0",
                  "5": "0.0",
                  "6": "0.0",
                  "7": "0.0"
                },
                {
                  "0": "XML_CUOTA_TC_PROMERICA",
                  "1": "0.0",
                  "2": "0.0",
                  "3": "0.0",
                  "4": "0.0",
                  "5": "0.0",
                  "6": "0.0",
                  "7": "0.0"
                },
                {
                  "0": "XML_CUOTA_TC_COMPETENCIA",
                  "1": "0.0",
                  "2": "0.0",
                  "3": "0.0",
                  "4": "0.0",
                  "5": "0.0",
                  "6": "0.0",
                  "7": "0.0"
                },
                {
                  "0": "XML_CUOTA_TC_COMPETENCIA_DIRECTA",
                  "1": "0.0",
                  "2": "0.0",
                  "3": "0.0",
                  "4": "0.0",
                  "5": "0.0",
                  "6": "0.0",
                  "7": "0.0"
                },
                {
                  "0": "XML_OPERACIONES_COMPETENCIA",
                  "1": "0.0",
                  "2": "0.0",
                  "3": "0.0",
                  "4": "0.0",
                  "5": "0.0",
                  "6": "0.0",
                  "7": "0.0"
                },
                {
                  "0": "XML_OPERACIONES_TC_COMPETENCIA",
                  "1": "0.0",
                  "2": "0.0",
                  "3": "0.0",
                  "4": "0.0",
                  "5": "0.0",
                  "6": "0.0",
                  "7": "0.0"
                },
                {
                  "0": "TC_Q_CAT_C1",
                  "1": "0.13230821472705878",
                  "2": "0.0869632985238392",
                  "3": "0.0",
                  "4": "1.0",
                  "5": "0.1323082149028778",
                  "6": "0.1323082149028778",
                  "7": "0.1323082149028778"
                },
                {
                  "0": "TC_Q_CAT_C2",
                  "1": "0.012504224647984733",
                  "2": "0.02852041644965659",
                  "3": "0.0",
                  "4": "1.0",
                  "5": "0.01250422466546297",
                  "6": "0.01250422466546297",
                  "7": "0.01250422466546297"
                },
                {
                  "0": "TC_Q_CAT_D",
                  "1": "0.12892869121311434",
                  "2": "0.08601248656165725",
                  "3": "0.0",
                  "4": "1.0",
                  "5": "0.12892869114875793",
                  "6": "0.12892869114875793",
                  "7": "0.12892869114875793"
                },
                {
                  "0": "TC_Q_CAT_E",
                  "1": "0.1507266011745837",
                  "2": "0.0918287279925136",
                  "3": "0.0",
                  "4": "1.0",
                  "5": "0.15072660148143768",
                  "6": "0.15072660148143768",
                  "7": "0.15072660148143768"
                },
                {
                  "0": "TC_Q_R2_1",
                  "1": "0.0",
                  "2": "0.0",
                  "3": "0.0",
                  "4": "0.0",
                  "5": "0.0",
                  "6": "0.0",
                  "7": "0.0"
                },
                {
                  "0": "TC_Q_R2_2",
                  "1": "0.0",
                  "2": "0.0",
                  "3": "0.0",
                  "4": "0.0",
                  "5": "0.0",
                  "6": "0.0",
                  "7": "0.0"
                },
                {
                  "0": "TC_Q_R2_3",
                  "1": "0.0",
                  "2": "0.0",
                  "3": "0.0",
                  "4": "0.0",
                  "5": "0.0",
                  "6": "0.0",
                  "7": "0.0"
                },
                {
                  "0": "TC_Q_R3_1",
                  "1": "0.0",
                  "2": "0.0",
                  "3": "0.0",
                  "4": "0.0",
                  "5": "0.0",
                  "6": "0.0",
                  "7": "0.0"
                },
                {
                  "0": "TC_Q_R3_2",
                  "1": "0.0",
                  "2": "0.0",
                  "3": "0.0",
                  "4": "0.0",
                  "5": "0.0",
                  "6": "0.0",
                  "7": "0.0"
                },
                {
                  "0": "TC_Q_R3_3",
                  "1": "0.0",
                  "2": "0.0",
                  "3": "0.0",
                  "4": "0.0",
                  "5": "0.0",
                  "6": "0.0",
                  "7": "0.0"
                },
                {
                  "0": "TC_Q_R3_4",
                  "1": "0.0",
                  "2": "0.0",
                  "3": "0.0",
                  "4": "0.0",
                  "5": "0.0",
                  "6": "0.0",
                  "7": "0.0"
                },
                {
                  "0": "TC_Q_R3_5",
                  "1": "0.0",
                  "2": "0.0",
                  "3": "0.0",
                  "4": "0.0",
                  "5": "0.0",
                  "6": "0.0",
                  "7": "0.0"
                },
                {
                  "0": "CREDITO_PRENDARIO_FLAG",
                  "1": "0.030254458024444",
                  "2": "0.17128763053954876",
                  "3": "0.0",
                  "4": "1.0",
                  "5": "0.0",
                  "6": "0.0",
                  "7": "0.0"
                },
                {
                  "0": "CREDITO_HIPOTECARIO_FLAG",
                  "1": "0.007046016162425699",
                  "2": "0.0836447708894799",
                  "3": "0.0",
                  "4": "1.0",
                  "5": "0.0",
                  "6": "0.0",
                  "7": "0.0"
                },
                {
                  "0": "CREDITO_OTROS_FLAG",
                  "1": "0.02478906476101427",
                  "2": "0.1554825910606935",
                  "3": "0.0",
                  "4": "1.0",
                  "5": "0.0",
                  "6": "0.0",
                  "7": "0.0"
                },
                {
                  "0": "TC_FLAG",
                  "1": "0.3206994812885416",
                  "2": "0.4667480572556735",
                  "3": "0.0",
                  "4": "1.0",
                  "5": "0.0",
                  "6": "0.0",
                  "7": "1.0"
                },
                {
                  "0": "TD_FLAG",
                  "1": "0.6775751908991741",
                  "2": "0.46740719227788535",
                  "3": "0.0",
                  "4": "1.0",
                  "5": "0.0",
                  "6": "1.0",
                  "7": "1.0"
                },
                {
                  "0": "MESA_FLAG",
                  "1": "0.23633651684142568",
                  "2": "0.4248335869937086",
                  "3": "0.0",
                  "4": "1.0",
                  "5": "0.0",
                  "6": "0.0",
                  "7": "0.0"
                },
                {
                  "0": "ADQUIRENCIA_FLAG",
                  "1": "0.0052650326142612254",
                  "2": "0.07236967834509207",
                  "3": "0.0",
                  "4": "1.0",
                  "5": "0.0",
                  "6": "0.0",
                  "7": "0.0"
                },
                {
                  "0": "PAGOS_FLAG",
                  "1": "0.0",
                  "2": "0.0",
                  "3": "0.0",
                  "4": "0.0",
                  "5": "0.0",
                  "6": "0.0",
                  "7": "0.0"
                },
                {
                  "0": "TRANSFERENCIAS_FLAG",
                  "1": "0.0",
                  "2": "0.0",
                  "3": "0.0",
                  "4": "0.0",
                  "5": "0.0",
                  "6": "0.0",
                  "7": "0.0"
                },
                {
                  "0": "PAGO_PLANILLA_FLAG",
                  "1": "0.0",
                  "2": "0.0",
                  "3": "0.0",
                  "4": "0.0",
                  "5": "0.0",
                  "6": "0.0",
                  "7": "0.0"
                },
                {
                  "0": "GES_TC_SERVICIOS",
                  "1": "0.1871391384561294",
                  "2": "0.15845615122007942",
                  "3": "0.0",
                  "4": "5.0",
                  "5": "0.1871391385793686",
                  "6": "0.1871391385793686",
                  "7": "0.1871391385793686"
                },
                {
                  "0": "GES_TC_MALESTAR",
                  "1": "0.21476282173898598",
                  "2": "0.3254545538639638",
                  "3": "0.0",
                  "4": "56.0",
                  "5": "0.2147628217935562",
                  "6": "0.2147628217935562",
                  "7": "0.2147628217935562"
                },
                {
                  "0": "XML_SALDO_COMPETENCIA",
                  "1": "0.0",
                  "2": "0.0",
                  "3": "0.0",
                  "4": "0.0",
                  "5": "0.0",
                  "6": "0.0",
                  "7": "0.0"
                },
                {
                  "0": "XML_SALDO_COMPETENCIA_DIRECTA",
                  "1": "0.0",
                  "2": "0.0",
                  "3": "0.0",
                  "4": "0.0",
                  "5": "0.0",
                  "6": "0.0",
                  "7": "0.0"
                },
                {
                  "0": "XML_SALDO_TC_TOTAL",
                  "1": "0.0",
                  "2": "0.0",
                  "3": "0.0",
                  "4": "0.0",
                  "5": "0.0",
                  "6": "0.0",
                  "7": "0.0"
                },
                {
                  "0": "XML_SALDO_TC_PROMERICA",
                  "1": "0.0",
                  "2": "0.0",
                  "3": "0.0",
                  "4": "0.0",
                  "5": "0.0",
                  "6": "0.0",
                  "7": "0.0"
                },
                {
                  "0": "XML_SALDO_TC_COMPETENCIA",
                  "1": "0.0",
                  "2": "0.0",
                  "3": "0.0",
                  "4": "0.0",
                  "5": "0.0",
                  "6": "0.0",
                  "7": "0.0"
                },
                {
                  "0": "XML_SALDO_TC_COMPETENCIA_DIRECTA",
                  "1": "0.0",
                  "2": "0.0",
                  "3": "0.0",
                  "4": "0.0",
                  "5": "0.0",
                  "6": "0.0",
                  "7": "0.0"
                },
                {
                  "0": "XML_EXPOSICION_TOTAL",
                  "1": "0.0",
                  "2": "0.0",
                  "3": "0.0",
                  "4": "0.0",
                  "5": "0.0",
                  "6": "0.0",
                  "7": "0.0"
                },
                {
                  "0": "XML_EXPOSICION_PROMERICA",
                  "1": "0.0",
                  "2": "0.0",
                  "3": "0.0",
                  "4": "0.0",
                  "5": "0.0",
                  "6": "0.0",
                  "7": "0.0"
                },
                {
                  "0": "XML_EXPOSICION_COMPETENCIA",
                  "1": "0.0",
                  "2": "0.0",
                  "3": "0.0",
                  "4": "0.0",
                  "5": "0.0",
                  "6": "0.0",
                  "7": "0.0"
                },
                {
                  "0": "XML_EXPOSICION_COMPETENCIA_DIRECTA",
                  "1": "0.0",
                  "2": "0.0",
                  "3": "0.0",
                  "4": "0.0",
                  "5": "0.0",
                  "6": "0.0",
                  "7": "0.0"
                },
                {
                  "0": "XML_EXPOSICION_TC_TOTAL",
                  "1": "0.0",
                  "2": "0.0",
                  "3": "0.0",
                  "4": "0.0",
                  "5": "0.0",
                  "6": "0.0",
                  "7": "0.0"
                },
                {
                  "0": "XML_EXPOSICION_TC_PROMERICA",
                  "1": "0.0",
                  "2": "0.0",
                  "3": "0.0",
                  "4": "0.0",
                  "5": "0.0",
                  "6": "0.0",
                  "7": "0.0"
                },
                {
                  "0": "XML_Q_ENTIDADES_COMPETENCIA",
                  "1": "0.0",
                  "2": "0.0",
                  "3": "0.0",
                  "4": "0.0",
                  "5": "0.0",
                  "6": "0.0",
                  "7": "0.0"
                },
                {
                  "0": "XML_Q_ENTIDADES_TC_COMPETENCIA",
                  "1": "0.0",
                  "2": "0.0",
                  "3": "0.0",
                  "4": "0.0",
                  "5": "0.0",
                  "6": "0.0",
                  "7": "0.0"
                },
                {
                  "0": "TC_Q_VENCIMIENTOS",
                  "1": "0.3627768755728729",
                  "2": "0.09760142290940246",
                  "3": "0.0",
                  "4": "1.0",
                  "5": "0.36277687549591064",
                  "6": "0.36277687549591064",
                  "7": "0.36277687549591064"
                },
                {
                  "0": "TC_Q_MORA_15",
                  "1": "0.3111831541570308",
                  "2": "0.09398325931736817",
                  "3": "0.0",
                  "4": "1.0",
                  "5": "0.3111831545829773",
                  "6": "0.3111831545829773",
                  "7": "0.3111831545829773"
                },
                {
                  "0": "TC_Q_MORA_30",
                  "1": "0.18206374371326994",
                  "2": "0.07833611982456934",
                  "3": "0.0",
                  "4": "1.0",
                  "5": "0.1820637434720993",
                  "6": "0.1820637434720993",
                  "7": "0.1820637434720993"
                },
                {
                  "0": "TC_Q_MORA_45",
                  "1": "0.16909778133791392",
                  "2": "0.0760912125046829",
                  "3": "0.0",
                  "4": "1.0",
                  "5": "0.16909778118133545",
                  "6": "0.16909778118133545",
                  "7": "0.16909778118133545"
                },
                {
                  "0": "TC_Q_MORA_60",
                  "1": "0.11885467177573872",
                  "2": "0.06569351335801885",
                  "3": "0.0",
                  "4": "1.0",
                  "5": "0.11885467171669006",
                  "6": "0.11885467171669006",
                  "7": "0.11885467171669006"
                },
                {
                  "0": "TC_CHP_2",
                  "1": "0.3587250114376291",
                  "2": "0.09736291483270595",
                  "3": "0.0",
                  "4": "1.0",
                  "5": "0.35872501134872437",
                  "6": "0.35872501134872437",
                  "7": "0.35872501134872437"
                },
                {
                  "0": "TC_CHP_3",
                  "1": "0.2971366937264683",
                  "2": "0.09276927468999424",
                  "3": "0.0",
                  "4": "1.0",
                  "5": "0.29713669419288635",
                  "6": "0.29713669419288635",
                  "7": "0.29713669419288635"
                },
                {
                  "0": "TC_Q_CAT_A2",
                  "1": "0.0853328852097358",
                  "2": "0.07170502669425136",
                  "3": "0.0",
                  "4": "1.0",
                  "5": "0.08533288538455963",
                  "6": "0.08533288538455963",
                  "7": "0.08533288538455963"
                },
                {
                  "0": "TC_Q_CAT_B1",
                  "1": "0.0760392025061687",
                  "2": "0.06803077353072778",
                  "3": "0.0",
                  "4": "1.0",
                  "5": "0.07603920251131058",
                  "6": "0.07603920251131058",
                  "7": "0.07603920251131058"
                },
                {
                  "0": "TC_Q_CAT_B2",
                  "1": "0.009124704613930348",
                  "2": "0.024404997075061104",
                  "3": "0.0",
                  "4": "1.0",
                  "5": "0.009124704636633396",
                  "6": "0.009124704636633396",
                  "7": "0.009124704636633396"
                },
                {
                  "0": "TC_Q_R3_6",
                  "1": "0.0",
                  "2": "0.0",
                  "3": "0.0",
                  "4": "0.0",
                  "5": "0.0",
                  "6": "0.0",
                  "7": "0.0"
                },
                {
                  "0": "LISTA_MALAS_REFERENCIAS_MONTO",
                  "1": "114074.58210537244",
                  "2": "4339103.122238668",
                  "3": "-12697.0",
                  "4": "1.28328896E9",
                  "5": "0.0",
                  "6": "0.0",
                  "7": "0.0"
                },
                {
                  "0": "LISTA_JUICIOS_MONTO",
                  "1": "708370.7751953517",
                  "2": "3.1920683755813915E7",
                  "3": "0.0",
                  "4": "5.429914624E9",
                  "5": "0.0",
                  "6": "0.0",
                  "7": "0.0"
                },
                {
                  "0": "LISTA_NEGRA_FLAG",
                  "1": "0.035964736525746346",
                  "2": "0.1862032765225482",
                  "3": "0.0",
                  "4": "1.0",
                  "5": "0.0",
                  "6": "0.0",
                  "7": "0.0"
                },
                {
                  "0": "LISTA_OFICIALIA_FLAG",
                  "1": "0.003806852334201563",
                  "2": "0.06158248471194255",
                  "3": "0.0",
                  "4": "1.0",
                  "5": "0.0",
                  "6": "0.0",
                  "7": "0.0"
                },
                {
                  "0": "LISTA_PATRONOS_FLAG",
                  "1": "5.56557358801398E-4",
                  "2": "0.02358503327219646",
                  "3": "0.0",
                  "4": "1.0",
                  "5": "0.0",
                  "6": "0.0",
                  "7": "0.0"
                },
                {
                  "0": "LISTA_EXCLUSION_FLAG",
                  "1": "0.026414212248714354",
                  "2": "0.16036454688410784",
                  "3": "0.0",
                  "4": "1.0",
                  "5": "0.0",
                  "6": "0.0",
                  "7": "0.0"
                },
                {
                  "0": "LISTA_GIE_FLAG",
                  "1": "0.01435917985707607",
                  "2": "0.11896701791555071",
                  "3": "0.0",
                  "4": "1.0",
                  "5": "0.0",
                  "6": "0.0",
                  "7": "0.0"
                },
                {
                  "0": "LISTA_GRUPO_DEUDOR_FLAG",
                  "1": "3.116721209287829E-4",
                  "2": "0.017651584904574424",
                  "3": "0.0",
                  "4": "1.0",
                  "5": "0.0",
                  "6": "0.0",
                  "7": "0.0"
                },
                {
                  "0": "LISTA_LAVADO_FLAG",
                  "1": "0.007513524343818874",
                  "2": "0.08635481632448588",
                  "3": "0.0",
                  "4": "1.0",
                  "5": "0.0",
                  "6": "0.0",
                  "7": "0.0"
                },
                {
                  "0": "LISTA_JUICIOS_FLAG",
                  "1": "0.16458514214474942",
                  "2": "0.37080777182376895",
                  "3": "0.0",
                  "4": "1.0",
                  "5": "0.0",
                  "6": "0.0",
                  "7": "0.0"
                },
                {
                  "0": "LISTA_SEGURIDAD_FLAG",
                  "1": "1.8922950199247535E-4",
                  "2": "0.013754846424237103",
                  "3": "0.0",
                  "4": "1.0",
                  "5": "0.0",
                  "6": "0.0",
                  "7": "0.0"
                },
                {
                  "0": "LISTA_PEP_FLAG",
                  "1": "0.012433491395623233",
                  "2": "0.11081081340329266",
                  "3": "0.0",
                  "4": "1.0",
                  "5": "0.0",
                  "6": "0.0",
                  "7": "0.0"
                }
              ],
              "schema": [
                {
                  "key": "0",
                  "name": "Columna",
                  "type": "string"
                },
                {
                  "key": "1",
                  "name": "Media",
                  "type": "double"
                },
                {
                  "key": "2",
                  "name": "Desv. Estándar",
                  "type": "double"
                },
                {
                  "key": "3",
                  "name": "Mínimo",
                  "type": "double"
                },
                {
                  "key": "4",
                  "name": "Máximo",
                  "type": "double"
                },
                {
                  "key": "5",
                  "name": "Q1",
                  "type": "double"
                },
                {
                  "key": "6",
                  "name": "Mediana",
                  "type": "double"
                },
                {
                  "key": "7",
                  "name": "Q3",
                  "type": "double"
                }
              ],
              "truncated": false
            }
          },
          "type": "Synapse.DataFrame"
        }
      },
      "version": "0.1"
    }
  },
  "nbformat": 4,
  "nbformat_minor": 2
}
